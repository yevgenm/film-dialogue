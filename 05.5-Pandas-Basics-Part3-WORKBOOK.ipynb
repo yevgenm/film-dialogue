{
 "cells": [
  {
   "cell_type": "markdown",
   "metadata": {},
   "source": [
    "Author: \"Melanie Walsh\".\n",
    "Adapted by Yevgen Matusevych for the Collecting Data course at the University of Groningen.\n"
   ]
  },
  {
   "cell_type": "markdown",
   "metadata": {},
   "source": [
    "# Pandas Basics Part 3 — Workbook"
   ]
  },
  {
   "cell_type": "markdown",
   "metadata": {},
   "source": [
    "___"
   ]
  },
  {
   "cell_type": "markdown",
   "metadata": {},
   "source": [
    "## Dataset\n",
    "### *The Pudding*'s Film Dialogue Data"
   ]
  },
  {
   "cell_type": "markdown",
   "metadata": {},
   "source": [
    "The dataset that we're working with in this lesson is taken from Hannah Andersen and Matt Daniels's *Pudding* essay, [\"Film Dialogue from 2,000 screenplays, Broken Down by Gender and Age\"](https://pudding.cool/2017/03/film-dialogue/). The dataset provides information about 2,000 films from 1925 to 2015, including characters’ names, genders, ages, how many words each character spoke in each film, the release year of each film, and how much money the film grossed. They included character gender information because they wanted to contribute data to a broader conversation about how \"white men dominate movie roles.\""
   ]
  },
  {
   "cell_type": "markdown",
   "metadata": {},
   "source": [
    "___"
   ]
  },
  {
   "cell_type": "markdown",
   "metadata": {},
   "source": [
    "## Import Pandas"
   ]
  },
  {
   "cell_type": "markdown",
   "metadata": {},
   "source": [
    "To use the Pandas library, we first need to `import` it."
   ]
  },
  {
   "cell_type": "code",
   "execution_count": 1,
   "metadata": {},
   "outputs": [],
   "source": [
    "import pandas as pd"
   ]
  },
  {
   "cell_type": "markdown",
   "metadata": {},
   "source": [
    "## Change Display Settings"
   ]
  },
  {
   "cell_type": "markdown",
   "metadata": {},
   "source": [
    "By default, Pandas will display 60 rows and 20 columns. I often change [Pandas' default display settings](https://pandas.pydata.org/pandas-docs/stable/user_guide/options.html) to show more rows or columns."
   ]
  },
  {
   "cell_type": "code",
   "execution_count": 2,
   "metadata": {},
   "outputs": [],
   "source": [
    "pd.options.display.max_rows = 200"
   ]
  },
  {
   "cell_type": "markdown",
   "metadata": {},
   "source": [
    "## Get Data"
   ]
  },
  {
   "cell_type": "code",
   "execution_count": 3,
   "metadata": {},
   "outputs": [],
   "source": [
    "film_df = pd.read_csv('./data/Pudding/Pudding-Film-Dialogue-Clean.csv', delimiter=\",\", encoding='utf-8')"
   ]
  },
  {
   "cell_type": "markdown",
   "metadata": {},
   "source": [
    "This creates a Pandas [DataFrame object](https://pandas.pydata.org/pandas-docs/stable/user_guide/dsintro.html#DataFrame) — often abbreviated as *df*, e.g., *slave_voyages_df*. A DataFrame looks and acts a lot like a spreadsheet. But it has special powers and functions that we will discuss in the next few lessons."
   ]
  },
  {
   "cell_type": "markdown",
   "metadata": {},
   "source": [
    "## Overview\n",
    "\n",
    "To look at a random *n* number of rows in a DataFrame, we can use a method called `.sample()`."
   ]
  },
  {
   "cell_type": "code",
   "execution_count": 4,
   "metadata": {},
   "outputs": [
    {
     "data": {
      "text/html": [
       "<div>\n",
       "<style scoped>\n",
       "    .dataframe tbody tr th:only-of-type {\n",
       "        vertical-align: middle;\n",
       "    }\n",
       "\n",
       "    .dataframe tbody tr th {\n",
       "        vertical-align: top;\n",
       "    }\n",
       "\n",
       "    .dataframe thead th {\n",
       "        text-align: right;\n",
       "    }\n",
       "</style>\n",
       "<table border=\"1\" class=\"dataframe\">\n",
       "  <thead>\n",
       "    <tr style=\"text-align: right;\">\n",
       "      <th></th>\n",
       "      <th>title</th>\n",
       "      <th>release_year</th>\n",
       "      <th>character</th>\n",
       "      <th>gender</th>\n",
       "      <th>words</th>\n",
       "      <th>proportion_of_dialogue</th>\n",
       "      <th>age</th>\n",
       "      <th>gross</th>\n",
       "      <th>script_id</th>\n",
       "    </tr>\n",
       "  </thead>\n",
       "  <tbody>\n",
       "    <tr>\n",
       "      <th>10866</th>\n",
       "      <td>Syriana</td>\n",
       "      <td>2005</td>\n",
       "      <td>Bryan Woodman</td>\n",
       "      <td>man</td>\n",
       "      <td>1607</td>\n",
       "      <td>0.092890</td>\n",
       "      <td>35.0</td>\n",
       "      <td>68.0</td>\n",
       "      <td>3492</td>\n",
       "    </tr>\n",
       "    <tr>\n",
       "      <th>554</th>\n",
       "      <td>Braveheart</td>\n",
       "      <td>1995</td>\n",
       "      <td>Campbell</td>\n",
       "      <td>man</td>\n",
       "      <td>186</td>\n",
       "      <td>0.031541</td>\n",
       "      <td>47.0</td>\n",
       "      <td>151.0</td>\n",
       "      <td>771</td>\n",
       "    </tr>\n",
       "    <tr>\n",
       "      <th>14384</th>\n",
       "      <td>Only You</td>\n",
       "      <td>1994</td>\n",
       "      <td>Himself       (</td>\n",
       "      <td>man</td>\n",
       "      <td>276</td>\n",
       "      <td>0.023730</td>\n",
       "      <td>102.0</td>\n",
       "      <td>41.0</td>\n",
       "      <td>4758</td>\n",
       "    </tr>\n",
       "    <tr>\n",
       "      <th>21896</th>\n",
       "      <td>Pay the Ghost</td>\n",
       "      <td>2015</td>\n",
       "      <td>Kristen</td>\n",
       "      <td>woman</td>\n",
       "      <td>728</td>\n",
       "      <td>0.150631</td>\n",
       "      <td>38.0</td>\n",
       "      <td>NaN</td>\n",
       "      <td>8533</td>\n",
       "    </tr>\n",
       "    <tr>\n",
       "      <th>15325</th>\n",
       "      <td>Titanic</td>\n",
       "      <td>1997</td>\n",
       "      <td>Lizzy Calvert</td>\n",
       "      <td>woman</td>\n",
       "      <td>158</td>\n",
       "      <td>0.012632</td>\n",
       "      <td>35.0</td>\n",
       "      <td>1249.0</td>\n",
       "      <td>5136</td>\n",
       "    </tr>\n",
       "    <tr>\n",
       "      <th>8595</th>\n",
       "      <td>Lost Horizon</td>\n",
       "      <td>1937</td>\n",
       "      <td>Lord Gainsford</td>\n",
       "      <td>man</td>\n",
       "      <td>720</td>\n",
       "      <td>0.027489</td>\n",
       "      <td>56.0</td>\n",
       "      <td>NaN</td>\n",
       "      <td>2807</td>\n",
       "    </tr>\n",
       "    <tr>\n",
       "      <th>21827</th>\n",
       "      <td>Diabolique</td>\n",
       "      <td>1996</td>\n",
       "      <td>Mia Baran</td>\n",
       "      <td>woman</td>\n",
       "      <td>1477</td>\n",
       "      <td>0.237460</td>\n",
       "      <td>41.0</td>\n",
       "      <td>33.0</td>\n",
       "      <td>8513</td>\n",
       "    </tr>\n",
       "    <tr>\n",
       "      <th>11288</th>\n",
       "      <td>Twins</td>\n",
       "      <td>1988</td>\n",
       "      <td>Werner</td>\n",
       "      <td>man</td>\n",
       "      <td>358</td>\n",
       "      <td>0.045663</td>\n",
       "      <td>55.0</td>\n",
       "      <td>237.0</td>\n",
       "      <td>3625</td>\n",
       "    </tr>\n",
       "    <tr>\n",
       "      <th>15592</th>\n",
       "      <td>Where the Wild Things Are</td>\n",
       "      <td>2009</td>\n",
       "      <td>Carol</td>\n",
       "      <td>man</td>\n",
       "      <td>1506</td>\n",
       "      <td>0.261322</td>\n",
       "      <td>48.0</td>\n",
       "      <td>89.0</td>\n",
       "      <td>5221</td>\n",
       "    </tr>\n",
       "    <tr>\n",
       "      <th>8192</th>\n",
       "      <td>Larry Crowne</td>\n",
       "      <td>2011</td>\n",
       "      <td>Mercedes Tainot</td>\n",
       "      <td>woman</td>\n",
       "      <td>3056</td>\n",
       "      <td>0.230607</td>\n",
       "      <td>44.0</td>\n",
       "      <td>39.0</td>\n",
       "      <td>2733</td>\n",
       "    </tr>\n",
       "  </tbody>\n",
       "</table>\n",
       "</div>"
      ],
      "text/plain": [
       "                           title  release_year        character gender  words  \\\n",
       "10866                    Syriana          2005    Bryan Woodman    man   1607   \n",
       "554                   Braveheart          1995         Campbell    man    186   \n",
       "14384                   Only You          1994  Himself       (    man    276   \n",
       "21896              Pay the Ghost          2015          Kristen  woman    728   \n",
       "15325                    Titanic          1997    Lizzy Calvert  woman    158   \n",
       "8595                Lost Horizon          1937   Lord Gainsford    man    720   \n",
       "21827                 Diabolique          1996        Mia Baran  woman   1477   \n",
       "11288                      Twins          1988           Werner    man    358   \n",
       "15592  Where the Wild Things Are          2009            Carol    man   1506   \n",
       "8192                Larry Crowne          2011  Mercedes Tainot  woman   3056   \n",
       "\n",
       "       proportion_of_dialogue    age   gross  script_id  \n",
       "10866                0.092890   35.0    68.0       3492  \n",
       "554                  0.031541   47.0   151.0        771  \n",
       "14384                0.023730  102.0    41.0       4758  \n",
       "21896                0.150631   38.0     NaN       8533  \n",
       "15325                0.012632   35.0  1249.0       5136  \n",
       "8595                 0.027489   56.0     NaN       2807  \n",
       "21827                0.237460   41.0    33.0       8513  \n",
       "11288                0.045663   55.0   237.0       3625  \n",
       "15592                0.261322   48.0    89.0       5221  \n",
       "8192                 0.230607   44.0    39.0       2733  "
      ]
     },
     "execution_count": 4,
     "metadata": {},
     "output_type": "execute_result"
    }
   ],
   "source": [
    "film_df.sample(10)"
   ]
  },
  {
   "cell_type": "markdown",
   "metadata": {},
   "source": [
    "Generate information about all the columns in the data "
   ]
  },
  {
   "cell_type": "code",
   "execution_count": 5,
   "metadata": {},
   "outputs": [
    {
     "name": "stdout",
     "output_type": "stream",
     "text": [
      "<class 'pandas.core.frame.DataFrame'>\n",
      "RangeIndex: 23047 entries, 0 to 23046\n",
      "Data columns (total 9 columns):\n",
      " #   Column                  Non-Null Count  Dtype  \n",
      "---  ------                  --------------  -----  \n",
      " 0   title                   23047 non-null  object \n",
      " 1   release_year            23047 non-null  int64  \n",
      " 2   character               23047 non-null  object \n",
      " 3   gender                  23047 non-null  object \n",
      " 4   words                   23047 non-null  int64  \n",
      " 5   proportion_of_dialogue  23047 non-null  float64\n",
      " 6   age                     18262 non-null  float64\n",
      " 7   gross                   19386 non-null  float64\n",
      " 8   script_id               23047 non-null  int64  \n",
      "dtypes: float64(3), int64(3), object(3)\n",
      "memory usage: 1.6+ MB\n"
     ]
    }
   ],
   "source": [
    "film_df.info()"
   ]
  },
  {
   "cell_type": "markdown",
   "metadata": {},
   "source": [
    "Just like Python has different data types, Pandas has different data types, too. These data types are automatically assigned to columns when we read in a CSV file. We can check these Pandas data types with the [`.dtypes` method](https://pandas.pydata.org/pandas-docs/stable/reference/api/pandas.DataFrame.dtypes.html)."
   ]
  },
  {
   "cell_type": "markdown",
   "metadata": {},
   "source": [
    "\n",
    "\n",
    "| **Pandas Data Type** |  **Explanation**                                                                                   |\n",
    "|:-------------:|:---------------------------------------------------------------------------------------------------:|\n",
    "| `object`         | string                                                                               |\n",
    "| `float64`         | float                                               |\n",
    "| `int64`       | integer                                                        |\n",
    "| `datetime64`       |  date time              "
   ]
  },
  {
   "cell_type": "markdown",
   "metadata": {},
   "source": [
    "Make a histogram of the DataFrame"
   ]
  },
  {
   "cell_type": "code",
   "execution_count": 6,
   "metadata": {},
   "outputs": [
    {
     "data": {
      "text/plain": [
       "array([[<AxesSubplot:title={'center':'release_year'}>,\n",
       "        <AxesSubplot:title={'center':'words'}>],\n",
       "       [<AxesSubplot:title={'center':'proportion_of_dialogue'}>,\n",
       "        <AxesSubplot:title={'center':'age'}>],\n",
       "       [<AxesSubplot:title={'center':'gross'}>,\n",
       "        <AxesSubplot:title={'center':'script_id'}>]], dtype=object)"
      ]
     },
     "execution_count": 6,
     "metadata": {},
     "output_type": "execute_result"
    },
    {
     "data": {
      "image/png": "[encoded data removed]",
      "text/plain": [
       "<Figure size 1000x1000 with 6 Axes>"
      ]
     },
     "metadata": {},
     "output_type": "display_data"
    }
   ],
   "source": [
    "film_df.hist(figsize=(10,10))"
   ]
  },
  {
   "cell_type": "markdown",
   "metadata": {},
   "source": [
    "Generate descriptive statistics for all the columns in the data "
   ]
  },
  {
   "cell_type": "code",
   "execution_count": 7,
   "metadata": {},
   "outputs": [
    {
     "data": {
      "text/html": [
       "<div>\n",
       "<style scoped>\n",
       "    .dataframe tbody tr th:only-of-type {\n",
       "        vertical-align: middle;\n",
       "    }\n",
       "\n",
       "    .dataframe tbody tr th {\n",
       "        vertical-align: top;\n",
       "    }\n",
       "\n",
       "    .dataframe thead th {\n",
       "        text-align: right;\n",
       "    }\n",
       "</style>\n",
       "<table border=\"1\" class=\"dataframe\">\n",
       "  <thead>\n",
       "    <tr style=\"text-align: right;\">\n",
       "      <th></th>\n",
       "      <th>title</th>\n",
       "      <th>release_year</th>\n",
       "      <th>character</th>\n",
       "      <th>gender</th>\n",
       "      <th>words</th>\n",
       "      <th>proportion_of_dialogue</th>\n",
       "      <th>age</th>\n",
       "      <th>gross</th>\n",
       "      <th>script_id</th>\n",
       "    </tr>\n",
       "  </thead>\n",
       "  <tbody>\n",
       "    <tr>\n",
       "      <th>count</th>\n",
       "      <td>23047</td>\n",
       "      <td>23047.000000</td>\n",
       "      <td>23047</td>\n",
       "      <td>23047</td>\n",
       "      <td>23047.000000</td>\n",
       "      <td>23047.000000</td>\n",
       "      <td>18262.000000</td>\n",
       "      <td>19386.000000</td>\n",
       "      <td>23047.000000</td>\n",
       "    </tr>\n",
       "    <tr>\n",
       "      <th>unique</th>\n",
       "      <td>1994</td>\n",
       "      <td>NaN</td>\n",
       "      <td>17543</td>\n",
       "      <td>3</td>\n",
       "      <td>NaN</td>\n",
       "      <td>NaN</td>\n",
       "      <td>NaN</td>\n",
       "      <td>NaN</td>\n",
       "      <td>NaN</td>\n",
       "    </tr>\n",
       "    <tr>\n",
       "      <th>top</th>\n",
       "      <td>Lone Star</td>\n",
       "      <td>NaN</td>\n",
       "      <td>Doctor</td>\n",
       "      <td>man</td>\n",
       "      <td>NaN</td>\n",
       "      <td>NaN</td>\n",
       "      <td>NaN</td>\n",
       "      <td>NaN</td>\n",
       "      <td>NaN</td>\n",
       "    </tr>\n",
       "    <tr>\n",
       "      <th>freq</th>\n",
       "      <td>40</td>\n",
       "      <td>NaN</td>\n",
       "      <td>37</td>\n",
       "      <td>16131</td>\n",
       "      <td>NaN</td>\n",
       "      <td>NaN</td>\n",
       "      <td>NaN</td>\n",
       "      <td>NaN</td>\n",
       "      <td>NaN</td>\n",
       "    </tr>\n",
       "    <tr>\n",
       "      <th>mean</th>\n",
       "      <td>NaN</td>\n",
       "      <td>1998.132425</td>\n",
       "      <td>NaN</td>\n",
       "      <td>NaN</td>\n",
       "      <td>907.902634</td>\n",
       "      <td>0.086518</td>\n",
       "      <td>42.275052</td>\n",
       "      <td>106.735428</td>\n",
       "      <td>4194.804486</td>\n",
       "    </tr>\n",
       "    <tr>\n",
       "      <th>std</th>\n",
       "      <td>NaN</td>\n",
       "      <td>14.746052</td>\n",
       "      <td>NaN</td>\n",
       "      <td>NaN</td>\n",
       "      <td>1399.616135</td>\n",
       "      <td>0.107746</td>\n",
       "      <td>57.912595</td>\n",
       "      <td>145.861933</td>\n",
       "      <td>2473.037601</td>\n",
       "    </tr>\n",
       "    <tr>\n",
       "      <th>min</th>\n",
       "      <td>NaN</td>\n",
       "      <td>1929.000000</td>\n",
       "      <td>NaN</td>\n",
       "      <td>NaN</td>\n",
       "      <td>101.000000</td>\n",
       "      <td>0.001537</td>\n",
       "      <td>3.000000</td>\n",
       "      <td>0.000000</td>\n",
       "      <td>280.000000</td>\n",
       "    </tr>\n",
       "    <tr>\n",
       "      <th>25%</th>\n",
       "      <td>NaN</td>\n",
       "      <td>1992.000000</td>\n",
       "      <td>NaN</td>\n",
       "      <td>NaN</td>\n",
       "      <td>193.000000</td>\n",
       "      <td>0.019773</td>\n",
       "      <td>30.000000</td>\n",
       "      <td>22.000000</td>\n",
       "      <td>2095.000000</td>\n",
       "    </tr>\n",
       "    <tr>\n",
       "      <th>50%</th>\n",
       "      <td>NaN</td>\n",
       "      <td>2001.000000</td>\n",
       "      <td>NaN</td>\n",
       "      <td>NaN</td>\n",
       "      <td>396.000000</td>\n",
       "      <td>0.042423</td>\n",
       "      <td>39.000000</td>\n",
       "      <td>56.000000</td>\n",
       "      <td>3694.000000</td>\n",
       "    </tr>\n",
       "    <tr>\n",
       "      <th>75%</th>\n",
       "      <td>NaN</td>\n",
       "      <td>2009.000000</td>\n",
       "      <td>NaN</td>\n",
       "      <td>NaN</td>\n",
       "      <td>980.000000</td>\n",
       "      <td>0.104171</td>\n",
       "      <td>50.000000</td>\n",
       "      <td>136.000000</td>\n",
       "      <td>6224.500000</td>\n",
       "    </tr>\n",
       "    <tr>\n",
       "      <th>max</th>\n",
       "      <td>NaN</td>\n",
       "      <td>2015.000000</td>\n",
       "      <td>NaN</td>\n",
       "      <td>NaN</td>\n",
       "      <td>28102.000000</td>\n",
       "      <td>0.923422</td>\n",
       "      <td>2009.000000</td>\n",
       "      <td>1798.000000</td>\n",
       "      <td>9254.000000</td>\n",
       "    </tr>\n",
       "  </tbody>\n",
       "</table>\n",
       "</div>"
      ],
      "text/plain": [
       "            title  release_year character gender         words  \\\n",
       "count       23047  23047.000000     23047  23047  23047.000000   \n",
       "unique       1994           NaN     17543      3           NaN   \n",
       "top     Lone Star           NaN    Doctor    man           NaN   \n",
       "freq           40           NaN        37  16131           NaN   \n",
       "mean          NaN   1998.132425       NaN    NaN    907.902634   \n",
       "std           NaN     14.746052       NaN    NaN   1399.616135   \n",
       "min           NaN   1929.000000       NaN    NaN    101.000000   \n",
       "25%           NaN   1992.000000       NaN    NaN    193.000000   \n",
       "50%           NaN   2001.000000       NaN    NaN    396.000000   \n",
       "75%           NaN   2009.000000       NaN    NaN    980.000000   \n",
       "max           NaN   2015.000000       NaN    NaN  28102.000000   \n",
       "\n",
       "        proportion_of_dialogue           age         gross     script_id  \n",
       "count             23047.000000  18262.000000  19386.000000  23047.000000  \n",
       "unique                     NaN           NaN           NaN           NaN  \n",
       "top                        NaN           NaN           NaN           NaN  \n",
       "freq                       NaN           NaN           NaN           NaN  \n",
       "mean                  0.086518     42.275052    106.735428   4194.804486  \n",
       "std                   0.107746     57.912595    145.861933   2473.037601  \n",
       "min                   0.001537      3.000000      0.000000    280.000000  \n",
       "25%                   0.019773     30.000000     22.000000   2095.000000  \n",
       "50%                   0.042423     39.000000     56.000000   3694.000000  \n",
       "75%                   0.104171     50.000000    136.000000   6224.500000  \n",
       "max                   0.923422   2009.000000   1798.000000   9254.000000  "
      ]
     },
     "execution_count": 7,
     "metadata": {},
     "output_type": "execute_result"
    }
   ],
   "source": [
    "film_df.describe(include='all')"
   ]
  },
  {
   "cell_type": "markdown",
   "metadata": {},
   "source": [
    "### ❓ What patterns or outliers do you notice?"
   ]
  },
  {
   "cell_type": "markdown",
   "metadata": {},
   "source": [
    "## Drop Rows"
   ]
  },
  {
   "cell_type": "code",
   "execution_count": 8,
   "metadata": {},
   "outputs": [
    {
     "data": {
      "text/html": [
       "<div>\n",
       "<style scoped>\n",
       "    .dataframe tbody tr th:only-of-type {\n",
       "        vertical-align: middle;\n",
       "    }\n",
       "\n",
       "    .dataframe tbody tr th {\n",
       "        vertical-align: top;\n",
       "    }\n",
       "\n",
       "    .dataframe thead th {\n",
       "        text-align: right;\n",
       "    }\n",
       "</style>\n",
       "<table border=\"1\" class=\"dataframe\">\n",
       "  <thead>\n",
       "    <tr style=\"text-align: right;\">\n",
       "      <th></th>\n",
       "      <th>title</th>\n",
       "      <th>release_year</th>\n",
       "      <th>character</th>\n",
       "      <th>gender</th>\n",
       "      <th>words</th>\n",
       "      <th>proportion_of_dialogue</th>\n",
       "      <th>age</th>\n",
       "      <th>gross</th>\n",
       "      <th>script_id</th>\n",
       "    </tr>\n",
       "  </thead>\n",
       "  <tbody>\n",
       "    <tr>\n",
       "      <th>4024</th>\n",
       "      <td>American Psycho</td>\n",
       "      <td>2000</td>\n",
       "      <td>Harold Carnes</td>\n",
       "      <td>man</td>\n",
       "      <td>434</td>\n",
       "      <td>0.025271</td>\n",
       "      <td>2000.0</td>\n",
       "      <td>24.0</td>\n",
       "      <td>1639</td>\n",
       "    </tr>\n",
       "    <tr>\n",
       "      <th>5254</th>\n",
       "      <td>Case 39</td>\n",
       "      <td>2009</td>\n",
       "      <td>Margaret Sulliv</td>\n",
       "      <td>woman</td>\n",
       "      <td>310</td>\n",
       "      <td>0.037944</td>\n",
       "      <td>2009.0</td>\n",
       "      <td>15.0</td>\n",
       "      <td>1962</td>\n",
       "    </tr>\n",
       "    <tr>\n",
       "      <th>5370</th>\n",
       "      <td>Chaos</td>\n",
       "      <td>2005</td>\n",
       "      <td>Bernie Callo</td>\n",
       "      <td>man</td>\n",
       "      <td>244</td>\n",
       "      <td>0.015051</td>\n",
       "      <td>2005.0</td>\n",
       "      <td>NaN</td>\n",
       "      <td>1985</td>\n",
       "    </tr>\n",
       "    <tr>\n",
       "      <th>5950</th>\n",
       "      <td>The Departed</td>\n",
       "      <td>2006</td>\n",
       "      <td>Realtor</td>\n",
       "      <td>man</td>\n",
       "      <td>148</td>\n",
       "      <td>0.005575</td>\n",
       "      <td>2006.0</td>\n",
       "      <td>175.0</td>\n",
       "      <td>2144</td>\n",
       "    </tr>\n",
       "    <tr>\n",
       "      <th>6899</th>\n",
       "      <td>Get Carter</td>\n",
       "      <td>2000</td>\n",
       "      <td>Thorpey</td>\n",
       "      <td>man</td>\n",
       "      <td>133</td>\n",
       "      <td>0.026552</td>\n",
       "      <td>2000.0</td>\n",
       "      <td>24.0</td>\n",
       "      <td>2380</td>\n",
       "    </tr>\n",
       "    <tr>\n",
       "      <th>7787</th>\n",
       "      <td>Into the Wild</td>\n",
       "      <td>2007</td>\n",
       "      <td>Bull</td>\n",
       "      <td>man</td>\n",
       "      <td>188</td>\n",
       "      <td>0.009936</td>\n",
       "      <td>2007.0</td>\n",
       "      <td>23.0</td>\n",
       "      <td>2625</td>\n",
       "    </tr>\n",
       "    <tr>\n",
       "      <th>7968</th>\n",
       "      <td>Jay and Silent Bob Strike Back</td>\n",
       "      <td>2001</td>\n",
       "      <td>Silent Bob'S Mo</td>\n",
       "      <td>woman</td>\n",
       "      <td>224</td>\n",
       "      <td>0.009292</td>\n",
       "      <td>2001.0</td>\n",
       "      <td>46.0</td>\n",
       "      <td>2673</td>\n",
       "    </tr>\n",
       "    <tr>\n",
       "      <th>9233</th>\n",
       "      <td>Never Been Kissed</td>\n",
       "      <td>1999</td>\n",
       "      <td>Monty Malik</td>\n",
       "      <td>man</td>\n",
       "      <td>104</td>\n",
       "      <td>0.005219</td>\n",
       "      <td>1999.0</td>\n",
       "      <td>95.0</td>\n",
       "      <td>2986</td>\n",
       "    </tr>\n",
       "    <tr>\n",
       "      <th>9617</th>\n",
       "      <td>The Piano</td>\n",
       "      <td>1993</td>\n",
       "      <td>Nessie</td>\n",
       "      <td>woman</td>\n",
       "      <td>116</td>\n",
       "      <td>0.012262</td>\n",
       "      <td>1993.0</td>\n",
       "      <td>84.0</td>\n",
       "      <td>3095</td>\n",
       "    </tr>\n",
       "    <tr>\n",
       "      <th>9819</th>\n",
       "      <td>Raging Bull</td>\n",
       "      <td>1980</td>\n",
       "      <td>Reporter</td>\n",
       "      <td>man</td>\n",
       "      <td>300</td>\n",
       "      <td>0.013364</td>\n",
       "      <td>1980.0</td>\n",
       "      <td>NaN</td>\n",
       "      <td>3169</td>\n",
       "    </tr>\n",
       "    <tr>\n",
       "      <th>10151</th>\n",
       "      <td>Se7en</td>\n",
       "      <td>1995</td>\n",
       "      <td>Officer Davis</td>\n",
       "      <td>man</td>\n",
       "      <td>152</td>\n",
       "      <td>0.007366</td>\n",
       "      <td>1995.0</td>\n",
       "      <td>200.0</td>\n",
       "      <td>3288</td>\n",
       "    </tr>\n",
       "    <tr>\n",
       "      <th>13600</th>\n",
       "      <td>Knight Moves</td>\n",
       "      <td>1992</td>\n",
       "      <td>Newscaster</td>\n",
       "      <td>man</td>\n",
       "      <td>120</td>\n",
       "      <td>0.012451</td>\n",
       "      <td>1992.0</td>\n",
       "      <td>1.0</td>\n",
       "      <td>4487</td>\n",
       "    </tr>\n",
       "    <tr>\n",
       "      <th>14384</th>\n",
       "      <td>Only You</td>\n",
       "      <td>1994</td>\n",
       "      <td>Himself       (</td>\n",
       "      <td>man</td>\n",
       "      <td>276</td>\n",
       "      <td>0.023730</td>\n",
       "      <td>102.0</td>\n",
       "      <td>41.0</td>\n",
       "      <td>4758</td>\n",
       "    </tr>\n",
       "    <tr>\n",
       "      <th>14757</th>\n",
       "      <td>Scream</td>\n",
       "      <td>1996</td>\n",
       "      <td>Girl In Bathroo</td>\n",
       "      <td>woman</td>\n",
       "      <td>162</td>\n",
       "      <td>0.018510</td>\n",
       "      <td>1996.0</td>\n",
       "      <td>202.0</td>\n",
       "      <td>4920</td>\n",
       "    </tr>\n",
       "    <tr>\n",
       "      <th>19221</th>\n",
       "      <td>Borderland</td>\n",
       "      <td>2007</td>\n",
       "      <td>Captain Ramirez</td>\n",
       "      <td>man</td>\n",
       "      <td>121</td>\n",
       "      <td>0.017430</td>\n",
       "      <td>2007.0</td>\n",
       "      <td>NaN</td>\n",
       "      <td>7351</td>\n",
       "    </tr>\n",
       "    <tr>\n",
       "      <th>21634</th>\n",
       "      <td>Last Man Standing</td>\n",
       "      <td>1996</td>\n",
       "      <td>Jack Mccool</td>\n",
       "      <td>man</td>\n",
       "      <td>338</td>\n",
       "      <td>0.044491</td>\n",
       "      <td>1996.0</td>\n",
       "      <td>35.0</td>\n",
       "      <td>8412</td>\n",
       "    </tr>\n",
       "  </tbody>\n",
       "</table>\n",
       "</div>"
      ],
      "text/plain": [
       "                                title  release_year        character gender  \\\n",
       "4024                  American Psycho          2000    Harold Carnes    man   \n",
       "5254                          Case 39          2009  Margaret Sulliv  woman   \n",
       "5370                            Chaos          2005     Bernie Callo    man   \n",
       "5950                     The Departed          2006          Realtor    man   \n",
       "6899                       Get Carter          2000          Thorpey    man   \n",
       "7787                    Into the Wild          2007             Bull    man   \n",
       "7968   Jay and Silent Bob Strike Back          2001  Silent Bob'S Mo  woman   \n",
       "9233                Never Been Kissed          1999      Monty Malik    man   \n",
       "9617                        The Piano          1993           Nessie  woman   \n",
       "9819                      Raging Bull          1980         Reporter    man   \n",
       "10151                           Se7en          1995    Officer Davis    man   \n",
       "13600                    Knight Moves          1992       Newscaster    man   \n",
       "14384                        Only You          1994  Himself       (    man   \n",
       "14757                          Scream          1996  Girl In Bathroo  woman   \n",
       "19221                      Borderland          2007  Captain Ramirez    man   \n",
       "21634               Last Man Standing          1996      Jack Mccool    man   \n",
       "\n",
       "       words  proportion_of_dialogue     age  gross  script_id  \n",
       "4024     434                0.025271  2000.0   24.0       1639  \n",
       "5254     310                0.037944  2009.0   15.0       1962  \n",
       "5370     244                0.015051  2005.0    NaN       1985  \n",
       "5950     148                0.005575  2006.0  175.0       2144  \n",
       "6899     133                0.026552  2000.0   24.0       2380  \n",
       "7787     188                0.009936  2007.0   23.0       2625  \n",
       "7968     224                0.009292  2001.0   46.0       2673  \n",
       "9233     104                0.005219  1999.0   95.0       2986  \n",
       "9617     116                0.012262  1993.0   84.0       3095  \n",
       "9819     300                0.013364  1980.0    NaN       3169  \n",
       "10151    152                0.007366  1995.0  200.0       3288  \n",
       "13600    120                0.012451  1992.0    1.0       4487  \n",
       "14384    276                0.023730   102.0   41.0       4758  \n",
       "14757    162                0.018510  1996.0  202.0       4920  \n",
       "19221    121                0.017430  2007.0    NaN       7351  \n",
       "21634    338                0.044491  1996.0   35.0       8412  "
      ]
     },
     "execution_count": 8,
     "metadata": {},
     "output_type": "execute_result"
    }
   ],
   "source": [
    "film_df[film_df['age'] > 100]"
   ]
  },
  {
   "cell_type": "markdown",
   "metadata": {},
   "source": [
    "If you want to double check, you can examine the [data that the Pudding shared here](https://github.com/matthewfdaniels/scripts/blob/graphs/character_list5.csv) (you can control + F to search for specific characters)."
   ]
  },
  {
   "cell_type": "code",
   "execution_count": 9,
   "metadata": {},
   "outputs": [],
   "source": [
    "film_df = film_df.drop(film_df[film_df['age'] > 100].index) "
   ]
  },
  {
   "cell_type": "code",
   "execution_count": 10,
   "metadata": {},
   "outputs": [
    {
     "data": {
      "text/html": [
       "<div>\n",
       "<style scoped>\n",
       "    .dataframe tbody tr th:only-of-type {\n",
       "        vertical-align: middle;\n",
       "    }\n",
       "\n",
       "    .dataframe tbody tr th {\n",
       "        vertical-align: top;\n",
       "    }\n",
       "\n",
       "    .dataframe thead th {\n",
       "        text-align: right;\n",
       "    }\n",
       "</style>\n",
       "<table border=\"1\" class=\"dataframe\">\n",
       "  <thead>\n",
       "    <tr style=\"text-align: right;\">\n",
       "      <th></th>\n",
       "      <th>title</th>\n",
       "      <th>release_year</th>\n",
       "      <th>character</th>\n",
       "      <th>gender</th>\n",
       "      <th>words</th>\n",
       "      <th>proportion_of_dialogue</th>\n",
       "      <th>age</th>\n",
       "      <th>gross</th>\n",
       "      <th>script_id</th>\n",
       "    </tr>\n",
       "  </thead>\n",
       "  <tbody>\n",
       "    <tr>\n",
       "      <th>0</th>\n",
       "      <td>The Bridges of Madison County</td>\n",
       "      <td>1995</td>\n",
       "      <td>Betty</td>\n",
       "      <td>woman</td>\n",
       "      <td>311</td>\n",
       "      <td>0.048639</td>\n",
       "      <td>35.0</td>\n",
       "      <td>142.0</td>\n",
       "      <td>280</td>\n",
       "    </tr>\n",
       "    <tr>\n",
       "      <th>1</th>\n",
       "      <td>The Bridges of Madison County</td>\n",
       "      <td>1995</td>\n",
       "      <td>Carolyn Johnson</td>\n",
       "      <td>woman</td>\n",
       "      <td>873</td>\n",
       "      <td>0.136534</td>\n",
       "      <td>NaN</td>\n",
       "      <td>142.0</td>\n",
       "      <td>280</td>\n",
       "    </tr>\n",
       "    <tr>\n",
       "      <th>2</th>\n",
       "      <td>The Bridges of Madison County</td>\n",
       "      <td>1995</td>\n",
       "      <td>Eleanor</td>\n",
       "      <td>woman</td>\n",
       "      <td>138</td>\n",
       "      <td>0.021583</td>\n",
       "      <td>NaN</td>\n",
       "      <td>142.0</td>\n",
       "      <td>280</td>\n",
       "    </tr>\n",
       "    <tr>\n",
       "      <th>3</th>\n",
       "      <td>The Bridges of Madison County</td>\n",
       "      <td>1995</td>\n",
       "      <td>Francesca Johns</td>\n",
       "      <td>woman</td>\n",
       "      <td>2251</td>\n",
       "      <td>0.352049</td>\n",
       "      <td>46.0</td>\n",
       "      <td>142.0</td>\n",
       "      <td>280</td>\n",
       "    </tr>\n",
       "    <tr>\n",
       "      <th>4</th>\n",
       "      <td>The Bridges of Madison County</td>\n",
       "      <td>1995</td>\n",
       "      <td>Madge</td>\n",
       "      <td>woman</td>\n",
       "      <td>190</td>\n",
       "      <td>0.029715</td>\n",
       "      <td>46.0</td>\n",
       "      <td>142.0</td>\n",
       "      <td>280</td>\n",
       "    </tr>\n",
       "    <tr>\n",
       "      <th>...</th>\n",
       "      <td>...</td>\n",
       "      <td>...</td>\n",
       "      <td>...</td>\n",
       "      <td>...</td>\n",
       "      <td>...</td>\n",
       "      <td>...</td>\n",
       "      <td>...</td>\n",
       "      <td>...</td>\n",
       "      <td>...</td>\n",
       "    </tr>\n",
       "    <tr>\n",
       "      <th>23042</th>\n",
       "      <td>Beauty and the Beast</td>\n",
       "      <td>1991</td>\n",
       "      <td>Lumiere</td>\n",
       "      <td>man</td>\n",
       "      <td>1063</td>\n",
       "      <td>0.104636</td>\n",
       "      <td>56.0</td>\n",
       "      <td>452.0</td>\n",
       "      <td>9254</td>\n",
       "    </tr>\n",
       "    <tr>\n",
       "      <th>23043</th>\n",
       "      <td>Beauty and the Beast</td>\n",
       "      <td>1991</td>\n",
       "      <td>Maurice</td>\n",
       "      <td>man</td>\n",
       "      <td>1107</td>\n",
       "      <td>0.108967</td>\n",
       "      <td>71.0</td>\n",
       "      <td>452.0</td>\n",
       "      <td>9254</td>\n",
       "    </tr>\n",
       "    <tr>\n",
       "      <th>23044</th>\n",
       "      <td>Beauty and the Beast</td>\n",
       "      <td>1991</td>\n",
       "      <td>Monsieur D'Arqu</td>\n",
       "      <td>man</td>\n",
       "      <td>114</td>\n",
       "      <td>0.011222</td>\n",
       "      <td>58.0</td>\n",
       "      <td>452.0</td>\n",
       "      <td>9254</td>\n",
       "    </tr>\n",
       "    <tr>\n",
       "      <th>23045</th>\n",
       "      <td>Beauty and the Beast</td>\n",
       "      <td>1991</td>\n",
       "      <td>Mrs. Potts</td>\n",
       "      <td>woman</td>\n",
       "      <td>564</td>\n",
       "      <td>0.055517</td>\n",
       "      <td>66.0</td>\n",
       "      <td>452.0</td>\n",
       "      <td>9254</td>\n",
       "    </tr>\n",
       "    <tr>\n",
       "      <th>23046</th>\n",
       "      <td>Beauty and the Beast</td>\n",
       "      <td>1991</td>\n",
       "      <td>Wardrobe</td>\n",
       "      <td>woman</td>\n",
       "      <td>121</td>\n",
       "      <td>0.011911</td>\n",
       "      <td>54.0</td>\n",
       "      <td>452.0</td>\n",
       "      <td>9254</td>\n",
       "    </tr>\n",
       "  </tbody>\n",
       "</table>\n",
       "<p>23031 rows × 9 columns</p>\n",
       "</div>"
      ],
      "text/plain": [
       "                               title  release_year        character gender  \\\n",
       "0      The Bridges of Madison County          1995            Betty  woman   \n",
       "1      The Bridges of Madison County          1995  Carolyn Johnson  woman   \n",
       "2      The Bridges of Madison County          1995          Eleanor  woman   \n",
       "3      The Bridges of Madison County          1995  Francesca Johns  woman   \n",
       "4      The Bridges of Madison County          1995            Madge  woman   \n",
       "...                              ...           ...              ...    ...   \n",
       "23042           Beauty and the Beast          1991          Lumiere    man   \n",
       "23043           Beauty and the Beast          1991          Maurice    man   \n",
       "23044           Beauty and the Beast          1991  Monsieur D'Arqu    man   \n",
       "23045           Beauty and the Beast          1991       Mrs. Potts  woman   \n",
       "23046           Beauty and the Beast          1991         Wardrobe  woman   \n",
       "\n",
       "       words  proportion_of_dialogue   age  gross  script_id  \n",
       "0        311                0.048639  35.0  142.0        280  \n",
       "1        873                0.136534   NaN  142.0        280  \n",
       "2        138                0.021583   NaN  142.0        280  \n",
       "3       2251                0.352049  46.0  142.0        280  \n",
       "4        190                0.029715  46.0  142.0        280  \n",
       "...      ...                     ...   ...    ...        ...  \n",
       "23042   1063                0.104636  56.0  452.0       9254  \n",
       "23043   1107                0.108967  71.0  452.0       9254  \n",
       "23044    114                0.011222  58.0  452.0       9254  \n",
       "23045    564                0.055517  66.0  452.0       9254  \n",
       "23046    121                0.011911  54.0  452.0       9254  \n",
       "\n",
       "[23031 rows x 9 columns]"
      ]
     },
     "execution_count": 10,
     "metadata": {},
     "output_type": "execute_result"
    }
   ],
   "source": [
    "film_df"
   ]
  },
  {
   "cell_type": "code",
   "execution_count": 11,
   "metadata": {},
   "outputs": [
    {
     "data": {
      "text/html": [
       "<div>\n",
       "<style scoped>\n",
       "    .dataframe tbody tr th:only-of-type {\n",
       "        vertical-align: middle;\n",
       "    }\n",
       "\n",
       "    .dataframe tbody tr th {\n",
       "        vertical-align: top;\n",
       "    }\n",
       "\n",
       "    .dataframe thead th {\n",
       "        text-align: right;\n",
       "    }\n",
       "</style>\n",
       "<table border=\"1\" class=\"dataframe\">\n",
       "  <thead>\n",
       "    <tr style=\"text-align: right;\">\n",
       "      <th></th>\n",
       "      <th>title</th>\n",
       "      <th>release_year</th>\n",
       "      <th>character</th>\n",
       "      <th>gender</th>\n",
       "      <th>words</th>\n",
       "      <th>proportion_of_dialogue</th>\n",
       "      <th>age</th>\n",
       "      <th>gross</th>\n",
       "      <th>script_id</th>\n",
       "    </tr>\n",
       "  </thead>\n",
       "  <tbody>\n",
       "  </tbody>\n",
       "</table>\n",
       "</div>"
      ],
      "text/plain": [
       "Empty DataFrame\n",
       "Columns: [title, release_year, character, gender, words, proportion_of_dialogue, age, gross, script_id]\n",
       "Index: []"
      ]
     },
     "execution_count": 11,
     "metadata": {},
     "output_type": "execute_result"
    }
   ],
   "source": [
    "film_df[film_df['age'] > 100]"
   ]
  },
  {
   "cell_type": "markdown",
   "metadata": {},
   "source": [
    "## Rename Columns"
   ]
  },
  {
   "cell_type": "code",
   "execution_count": 12,
   "metadata": {},
   "outputs": [],
   "source": [
    "film_df = film_df.rename(columns={'imdb_character_name': 'character', 'year': 'release_year'})"
   ]
  },
  {
   "cell_type": "code",
   "execution_count": 13,
   "metadata": {
    "tags": [
     "full-width"
    ]
   },
   "outputs": [
    {
     "data": {
      "text/html": [
       "<div>\n",
       "<style scoped>\n",
       "    .dataframe tbody tr th:only-of-type {\n",
       "        vertical-align: middle;\n",
       "    }\n",
       "\n",
       "    .dataframe tbody tr th {\n",
       "        vertical-align: top;\n",
       "    }\n",
       "\n",
       "    .dataframe thead th {\n",
       "        text-align: right;\n",
       "    }\n",
       "</style>\n",
       "<table border=\"1\" class=\"dataframe\">\n",
       "  <thead>\n",
       "    <tr style=\"text-align: right;\">\n",
       "      <th></th>\n",
       "      <th>title</th>\n",
       "      <th>release_year</th>\n",
       "      <th>character</th>\n",
       "      <th>gender</th>\n",
       "      <th>words</th>\n",
       "      <th>proportion_of_dialogue</th>\n",
       "      <th>age</th>\n",
       "      <th>gross</th>\n",
       "      <th>script_id</th>\n",
       "    </tr>\n",
       "  </thead>\n",
       "  <tbody>\n",
       "    <tr>\n",
       "      <th>0</th>\n",
       "      <td>The Bridges of Madison County</td>\n",
       "      <td>1995</td>\n",
       "      <td>Betty</td>\n",
       "      <td>woman</td>\n",
       "      <td>311</td>\n",
       "      <td>0.048639</td>\n",
       "      <td>35.0</td>\n",
       "      <td>142.0</td>\n",
       "      <td>280</td>\n",
       "    </tr>\n",
       "    <tr>\n",
       "      <th>1</th>\n",
       "      <td>The Bridges of Madison County</td>\n",
       "      <td>1995</td>\n",
       "      <td>Carolyn Johnson</td>\n",
       "      <td>woman</td>\n",
       "      <td>873</td>\n",
       "      <td>0.136534</td>\n",
       "      <td>NaN</td>\n",
       "      <td>142.0</td>\n",
       "      <td>280</td>\n",
       "    </tr>\n",
       "    <tr>\n",
       "      <th>2</th>\n",
       "      <td>The Bridges of Madison County</td>\n",
       "      <td>1995</td>\n",
       "      <td>Eleanor</td>\n",
       "      <td>woman</td>\n",
       "      <td>138</td>\n",
       "      <td>0.021583</td>\n",
       "      <td>NaN</td>\n",
       "      <td>142.0</td>\n",
       "      <td>280</td>\n",
       "    </tr>\n",
       "    <tr>\n",
       "      <th>3</th>\n",
       "      <td>The Bridges of Madison County</td>\n",
       "      <td>1995</td>\n",
       "      <td>Francesca Johns</td>\n",
       "      <td>woman</td>\n",
       "      <td>2251</td>\n",
       "      <td>0.352049</td>\n",
       "      <td>46.0</td>\n",
       "      <td>142.0</td>\n",
       "      <td>280</td>\n",
       "    </tr>\n",
       "    <tr>\n",
       "      <th>4</th>\n",
       "      <td>The Bridges of Madison County</td>\n",
       "      <td>1995</td>\n",
       "      <td>Madge</td>\n",
       "      <td>woman</td>\n",
       "      <td>190</td>\n",
       "      <td>0.029715</td>\n",
       "      <td>46.0</td>\n",
       "      <td>142.0</td>\n",
       "      <td>280</td>\n",
       "    </tr>\n",
       "  </tbody>\n",
       "</table>\n",
       "</div>"
      ],
      "text/plain": [
       "                           title  release_year        character gender  words  \\\n",
       "0  The Bridges of Madison County          1995            Betty  woman    311   \n",
       "1  The Bridges of Madison County          1995  Carolyn Johnson  woman    873   \n",
       "2  The Bridges of Madison County          1995          Eleanor  woman    138   \n",
       "3  The Bridges of Madison County          1995  Francesca Johns  woman   2251   \n",
       "4  The Bridges of Madison County          1995            Madge  woman    190   \n",
       "\n",
       "   proportion_of_dialogue   age  gross  script_id  \n",
       "0                0.048639  35.0  142.0        280  \n",
       "1                0.136534   NaN  142.0        280  \n",
       "2                0.021583   NaN  142.0        280  \n",
       "3                0.352049  46.0  142.0        280  \n",
       "4                0.029715  46.0  142.0        280  "
      ]
     },
     "execution_count": 13,
     "metadata": {},
     "output_type": "execute_result"
    }
   ],
   "source": [
    "film_df.head()"
   ]
  },
  {
   "cell_type": "markdown",
   "metadata": {},
   "source": [
    "## Filter"
   ]
  },
  {
   "cell_type": "markdown",
   "metadata": {},
   "source": [
    "<div class=\"admonition note\" name=\"html-admonition\" style=\"background: lightblue; padding: 10px\">\n",
    "Group work!\n",
    "</div>"
   ]
  },
  {
   "cell_type": "markdown",
   "metadata": {},
   "source": [
    "Find a specific film that you're intersted and then filter the DataFrame for only rows relevant to that film. \n",
    "\n",
    "If you want to search for films by decade and genre, you can [search the with the Pudding's handy data viz here](https://pudding.cool/2017/03/film-dialogue/embed.html)."
   ]
  },
  {
   "cell_type": "code",
   "execution_count": 179,
   "metadata": {},
   "outputs": [],
   "source": [
    "film_filter = ..."
   ]
  },
  {
   "cell_type": "markdown",
   "metadata": {},
   "source": [
    "If you want to sort by characters who speak the most, feel free to add `.sort_values(by='words', ascending=False)`"
   ]
  },
  {
   "cell_type": "code",
   "execution_count": null,
   "metadata": {},
   "outputs": [],
   "source": [
    "film_df[film_filter]"
   ]
  },
  {
   "cell_type": "markdown",
   "metadata": {},
   "source": [
    "Now pick a character from this film (or another character) and filter the DataFrame by character."
   ]
  },
  {
   "cell_type": "code",
   "execution_count": 179,
   "metadata": {},
   "outputs": [],
   "source": [
    "character_filter = ..."
   ]
  },
  {
   "cell_type": "code",
   "execution_count": null,
   "metadata": {},
   "outputs": [],
   "source": [
    "film_df[character_filter]"
   ]
  },
  {
   "cell_type": "markdown",
   "metadata": {},
   "source": [
    "### ❓ How does this data align with your experience/knowledge of the film?\n",
    "### ❓ How do these specific examples influence your thoughts about the data collection and categorization process? What would you have done differently (if anything)?"
   ]
  },
  {
   "cell_type": "markdown",
   "metadata": {},
   "source": [
    "## Sort Values"
   ]
  },
  {
   "cell_type": "markdown",
   "metadata": {},
   "source": [
    "<div class=\"admonition note\" name=\"html-admonition\" style=\"background: lightblue; padding: 10px\">\n",
    "Group work!\n",
    "</div>"
   ]
  },
  {
   "cell_type": "markdown",
   "metadata": {},
   "source": [
    "Sort the DataFrame from the character who has the highest `proportion_of_dialogue` to the lowest.  Then examine the first 20 rows with `.head(20)` or `[:20]`."
   ]
  },
  {
   "cell_type": "code",
   "execution_count": null,
   "metadata": {},
   "outputs": [],
   "source": [
    "film_df..."
   ]
  },
  {
   "cell_type": "markdown",
   "metadata": {},
   "source": [
    "Sort the DataFrame from the character who has the lowest `proportion_of_dialogue` to the highest. Then examine the first 20 rows with `.head(20)` or `[:20]`."
   ]
  },
  {
   "cell_type": "code",
   "execution_count": null,
   "metadata": {},
   "outputs": [],
   "source": [
    "film_df..."
   ]
  },
  {
   "cell_type": "markdown",
   "metadata": {},
   "source": [
    "Sort the DataFrame from the character who speaks the least number of `words` to the character who speaks the most number of words. Then examine the first 20 rows with `.head(20)` or `[:20]`."
   ]
  },
  {
   "cell_type": "code",
   "execution_count": null,
   "metadata": {},
   "outputs": [],
   "source": [
    "film_df..."
   ]
  },
  {
   "cell_type": "markdown",
   "metadata": {},
   "source": [
    "### ❓ What patterns do you notice here? What surprises you or doesn't surprise you?"
   ]
  },
  {
   "cell_type": "markdown",
   "metadata": {},
   "source": [
    "## Groupby"
   ]
  },
  {
   "cell_type": "markdown",
   "metadata": {},
   "source": [
    "Group by film and then calculate the sum total for every column."
   ]
  },
  {
   "cell_type": "code",
   "execution_count": null,
   "metadata": {},
   "outputs": [],
   "source": [
    "film_df.groupby..."
   ]
  },
  {
   "cell_type": "markdown",
   "metadata": {},
   "source": [
    "Group by film, isolate the `words` column, and then calculate the sum total for every column."
   ]
  },
  {
   "cell_type": "code",
   "execution_count": null,
   "metadata": {},
   "outputs": [],
   "source": [
    "film_df.groupby..."
   ]
  },
  {
   "cell_type": "markdown",
   "metadata": {},
   "source": [
    "Group by film AND gender, isolate the column `words`, and then calculate the sum total for every column.\n",
    "\n",
    "*Note: Remember that to group by multiple columns, you need to put the column names in square brackets `[]`.*"
   ]
  },
  {
   "cell_type": "code",
   "execution_count": null,
   "metadata": {},
   "outputs": [],
   "source": [
    "film_df.groupby..."
   ]
  },
  {
   "cell_type": "markdown",
   "metadata": {},
   "source": [
    "## Filter, Then Groupby"
   ]
  },
  {
   "cell_type": "markdown",
   "metadata": {},
   "source": [
    "<div class=\"admonition note\" name=\"html-admonition\" style=\"background: lightblue; padding: 10px\">\n",
    "Group work!\n",
    "</div>"
   ]
  },
  {
   "cell_type": "markdown",
   "metadata": {},
   "source": [
    "Filter the DataFrame for only characters labeled as `woman`"
   ]
  },
  {
   "cell_type": "code",
   "execution_count": 14,
   "metadata": {},
   "outputs": [],
   "source": [
    "women_filter = film_df['gender'] == 'woman'"
   ]
  },
  {
   "cell_type": "code",
   "execution_count": 15,
   "metadata": {},
   "outputs": [],
   "source": [
    "women_film_df = film_df[women_filter]"
   ]
  },
  {
   "cell_type": "markdown",
   "metadata": {},
   "source": [
    "Filter the DataFrame for only characters labeled as `man`"
   ]
  },
  {
   "cell_type": "code",
   "execution_count": 16,
   "metadata": {},
   "outputs": [],
   "source": [
    "men_filter = film_df['gender'] == 'man'"
   ]
  },
  {
   "cell_type": "code",
   "execution_count": 17,
   "metadata": {},
   "outputs": [],
   "source": [
    "men_film_df = film_df[men_filter]"
   ]
  },
  {
   "cell_type": "markdown",
   "metadata": {},
   "source": [
    "Now group `women_film_df` by film, isolate the `words` column, and sum the `words` spoken by women."
   ]
  },
  {
   "cell_type": "code",
   "execution_count": 18,
   "metadata": {},
   "outputs": [
    {
     "data": {
      "text/plain": [
       "title\n",
       "(500) Days of Summer          5738\n",
       "10 Things I Hate About You    8992\n",
       "12 Years a Slave              3452\n",
       "12 and Holding                5324\n",
       "127 Hours                      809\n",
       "                              ... \n",
       "Zero Effect                   2216\n",
       "Zerophilia                    4612\n",
       "Zodiac                        1421\n",
       "eXistenZ                      3752\n",
       "xXx                            998\n",
       "Name: words, Length: 1940, dtype: int64"
      ]
     },
     "execution_count": 18,
     "metadata": {},
     "output_type": "execute_result"
    }
   ],
   "source": [
    "women_film_df.groupby('title')['words'].sum()"
   ]
  },
  {
   "cell_type": "markdown",
   "metadata": {},
   "source": [
    "Assign this Series to a new variable `women_by_film`"
   ]
  },
  {
   "cell_type": "code",
   "execution_count": 19,
   "metadata": {},
   "outputs": [],
   "source": [
    "women_by_film = women_film_df.groupby('title')['words'].sum()"
   ]
  },
  {
   "cell_type": "markdown",
   "metadata": {},
   "source": [
    "Using the same construction, make a new another new variable `men_by_film`"
   ]
  },
  {
   "cell_type": "code",
   "execution_count": 20,
   "metadata": {},
   "outputs": [],
   "source": [
    "men_by_film = men_film_df.groupby('title')['words'].sum()"
   ]
  },
  {
   "cell_type": "markdown",
   "metadata": {},
   "source": [
    "Sort `women_by_film` from the film with the most words to the film with the least words. Then examine the top 20 values."
   ]
  },
  {
   "cell_type": "code",
   "execution_count": 21,
   "metadata": {},
   "outputs": [
    {
     "data": {
      "text/plain": [
       "title\n",
       "Sex and the City               25184\n",
       "Stepmom                        25014\n",
       "Sense and Sensibility          23922\n",
       "The Help                       21540\n",
       "Beloved                        19594\n",
       "Ghost World                    18692\n",
       "Precious                       17536\n",
       "Juno                           17534\n",
       "Music of the Heart             17274\n",
       "Drag Me to Hell                17236\n",
       "Margaret                       17229\n",
       "Amelia                         17014\n",
       "The Horse Whisperer            16920\n",
       "Copycat                        16078\n",
       "Frances                        15978\n",
       "Agnes of God                   15732\n",
       "He's Just Not That Into You    15708\n",
       "An Education                   14330\n",
       "The Birds                      14284\n",
       "Wild at Heart                  14014\n",
       "Name: words, dtype: int64"
      ]
     },
     "execution_count": 21,
     "metadata": {},
     "output_type": "execute_result"
    }
   ],
   "source": [
    "women_by_film.sort_values(ascending=False)[:20]"
   ]
  },
  {
   "cell_type": "markdown",
   "metadata": {},
   "source": [
    "Assign this sorted list of movies to the variable `top20_women`"
   ]
  },
  {
   "cell_type": "code",
   "execution_count": 22,
   "metadata": {},
   "outputs": [],
   "source": [
    "top20_women = women_by_film.sort_values(ascending=False)[:20]"
   ]
  },
  {
   "cell_type": "markdown",
   "metadata": {},
   "source": [
    "Using the same construction, make a new variable `top20_men`"
   ]
  },
  {
   "cell_type": "code",
   "execution_count": 23,
   "metadata": {},
   "outputs": [],
   "source": [
    "top20_men = men_by_film.sort_values(ascending=False)[:20]"
   ]
  },
  {
   "cell_type": "markdown",
   "metadata": {},
   "source": [
    "### ❓ What patterns do you notice here? What surprises you or doesn't surprise you?"
   ]
  },
  {
   "cell_type": "markdown",
   "metadata": {},
   "source": [
    "## Saving Plots"
   ]
  },
  {
   "cell_type": "markdown",
   "metadata": {},
   "source": [
    "<div class=\"admonition note\" name=\"html-admonition\" style=\"background: lightblue; padding: 10px\">\n",
    "Group work!\n",
    "</div>"
   ]
  },
  {
   "cell_type": "markdown",
   "metadata": {},
   "source": [
    "Make a bar chart of `top20_women`. Give the chart a title, and specify a color."
   ]
  },
  {
   "cell_type": "code",
   "execution_count": 24,
   "metadata": {},
   "outputs": [
    {
     "data": {
      "text/plain": [
       "<AxesSubplot:xlabel='title'>"
      ]
     },
     "execution_count": 24,
     "metadata": {},
     "output_type": "execute_result"
    },
    {
     "data": {
      "image/png": "[encoded data removed]",
      "text/plain": [
       "<Figure size 640x480 with 1 Axes>"
      ]
     },
     "metadata": {},
     "output_type": "display_data"
    }
   ],
   "source": [
    "top20_women.plot(kind='bar')"
   ]
  },
  {
   "cell_type": "markdown",
   "metadata": {},
   "source": [
    "To save the plot, you can use `ax.figure.savefig()` and the name of the file in quotation marks."
   ]
  },
  {
   "cell_type": "code",
   "execution_count": 25,
   "metadata": {},
   "outputs": [
    {
     "data": {
      "image/png": "[encoded data removed]",
      "text/plain": [
       "<Figure size 640x480 with 1 Axes>"
      ]
     },
     "metadata": {},
     "output_type": "display_data"
    }
   ],
   "source": [
    "ax = top20_women.plot(kind='bar')\n",
    "ax.figure.savefig('top20_women.png')"
   ]
  },
  {
   "cell_type": "markdown",
   "metadata": {},
   "source": [
    "Look in the file browser on the left and double click the PNG file. How does it look? Uh oh!\n",
    "\n",
    "Sometimes parts of a plot will get cut off when you save it. To fix this issue, you can use a function from the Matplotlib library called `plt.tight_layout()`, which will adjust the plot before you save it.\n",
    "\n",
    "To use this function, you need to `import matplotlib.pyplot as plt`."
   ]
  },
  {
   "cell_type": "code",
   "execution_count": 26,
   "metadata": {},
   "outputs": [
    {
     "data": {
      "image/png": "[encoded data removed]",
      "text/plain": [
       "<Figure size 640x480 with 1 Axes>"
      ]
     },
     "metadata": {},
     "output_type": "display_data"
    }
   ],
   "source": [
    "import matplotlib.pyplot as plt\n",
    "\n",
    "ax = top20_women.plot(kind='bar')\n",
    "plt.tight_layout()\n",
    "ax.figure.savefig('top20_women.png')"
   ]
  },
  {
   "cell_type": "markdown",
   "metadata": {},
   "source": [
    "## Scatter Plots and Line Plots"
   ]
  },
  {
   "cell_type": "markdown",
   "metadata": {},
   "source": [
    "Let's make a scatter plot that shows how many words women and men speak based on their age."
   ]
  },
  {
   "cell_type": "code",
   "execution_count": 27,
   "metadata": {
    "scrolled": true
   },
   "outputs": [
    {
     "data": {
      "text/html": [
       "<div>\n",
       "<style scoped>\n",
       "    .dataframe tbody tr th:only-of-type {\n",
       "        vertical-align: middle;\n",
       "    }\n",
       "\n",
       "    .dataframe tbody tr th {\n",
       "        vertical-align: top;\n",
       "    }\n",
       "\n",
       "    .dataframe thead th {\n",
       "        text-align: right;\n",
       "    }\n",
       "</style>\n",
       "<table border=\"1\" class=\"dataframe\">\n",
       "  <thead>\n",
       "    <tr style=\"text-align: right;\">\n",
       "      <th></th>\n",
       "      <th>age</th>\n",
       "      <th>words</th>\n",
       "    </tr>\n",
       "  </thead>\n",
       "  <tbody>\n",
       "    <tr>\n",
       "      <th>0</th>\n",
       "      <td>4.0</td>\n",
       "      <td>272</td>\n",
       "    </tr>\n",
       "    <tr>\n",
       "      <th>1</th>\n",
       "      <td>5.0</td>\n",
       "      <td>132</td>\n",
       "    </tr>\n",
       "    <tr>\n",
       "      <th>2</th>\n",
       "      <td>6.0</td>\n",
       "      <td>2406</td>\n",
       "    </tr>\n",
       "    <tr>\n",
       "      <th>3</th>\n",
       "      <td>7.0</td>\n",
       "      <td>8158</td>\n",
       "    </tr>\n",
       "    <tr>\n",
       "      <th>4</th>\n",
       "      <td>8.0</td>\n",
       "      <td>3260</td>\n",
       "    </tr>\n",
       "    <tr>\n",
       "      <th>5</th>\n",
       "      <td>9.0</td>\n",
       "      <td>6540</td>\n",
       "    </tr>\n",
       "    <tr>\n",
       "      <th>6</th>\n",
       "      <td>10.0</td>\n",
       "      <td>11771</td>\n",
       "    </tr>\n",
       "    <tr>\n",
       "      <th>7</th>\n",
       "      <td>11.0</td>\n",
       "      <td>11462</td>\n",
       "    </tr>\n",
       "    <tr>\n",
       "      <th>8</th>\n",
       "      <td>12.0</td>\n",
       "      <td>17316</td>\n",
       "    </tr>\n",
       "    <tr>\n",
       "      <th>9</th>\n",
       "      <td>13.0</td>\n",
       "      <td>12580</td>\n",
       "    </tr>\n",
       "    <tr>\n",
       "      <th>10</th>\n",
       "      <td>14.0</td>\n",
       "      <td>30978</td>\n",
       "    </tr>\n",
       "    <tr>\n",
       "      <th>11</th>\n",
       "      <td>15.0</td>\n",
       "      <td>16753</td>\n",
       "    </tr>\n",
       "    <tr>\n",
       "      <th>12</th>\n",
       "      <td>16.0</td>\n",
       "      <td>15125</td>\n",
       "    </tr>\n",
       "    <tr>\n",
       "      <th>13</th>\n",
       "      <td>17.0</td>\n",
       "      <td>51960</td>\n",
       "    </tr>\n",
       "    <tr>\n",
       "      <th>14</th>\n",
       "      <td>18.0</td>\n",
       "      <td>65895</td>\n",
       "    </tr>\n",
       "    <tr>\n",
       "      <th>15</th>\n",
       "      <td>19.0</td>\n",
       "      <td>75581</td>\n",
       "    </tr>\n",
       "    <tr>\n",
       "      <th>16</th>\n",
       "      <td>20.0</td>\n",
       "      <td>91191</td>\n",
       "    </tr>\n",
       "    <tr>\n",
       "      <th>17</th>\n",
       "      <td>21.0</td>\n",
       "      <td>88340</td>\n",
       "    </tr>\n",
       "    <tr>\n",
       "      <th>18</th>\n",
       "      <td>22.0</td>\n",
       "      <td>119782</td>\n",
       "    </tr>\n",
       "    <tr>\n",
       "      <th>19</th>\n",
       "      <td>23.0</td>\n",
       "      <td>189543</td>\n",
       "    </tr>\n",
       "    <tr>\n",
       "      <th>20</th>\n",
       "      <td>24.0</td>\n",
       "      <td>156862</td>\n",
       "    </tr>\n",
       "    <tr>\n",
       "      <th>21</th>\n",
       "      <td>25.0</td>\n",
       "      <td>200371</td>\n",
       "    </tr>\n",
       "    <tr>\n",
       "      <th>22</th>\n",
       "      <td>26.0</td>\n",
       "      <td>212245</td>\n",
       "    </tr>\n",
       "    <tr>\n",
       "      <th>23</th>\n",
       "      <td>27.0</td>\n",
       "      <td>196433</td>\n",
       "    </tr>\n",
       "    <tr>\n",
       "      <th>24</th>\n",
       "      <td>28.0</td>\n",
       "      <td>214608</td>\n",
       "    </tr>\n",
       "    <tr>\n",
       "      <th>25</th>\n",
       "      <td>29.0</td>\n",
       "      <td>229375</td>\n",
       "    </tr>\n",
       "    <tr>\n",
       "      <th>26</th>\n",
       "      <td>30.0</td>\n",
       "      <td>215189</td>\n",
       "    </tr>\n",
       "    <tr>\n",
       "      <th>27</th>\n",
       "      <td>31.0</td>\n",
       "      <td>199967</td>\n",
       "    </tr>\n",
       "    <tr>\n",
       "      <th>28</th>\n",
       "      <td>32.0</td>\n",
       "      <td>202468</td>\n",
       "    </tr>\n",
       "    <tr>\n",
       "      <th>29</th>\n",
       "      <td>33.0</td>\n",
       "      <td>257087</td>\n",
       "    </tr>\n",
       "    <tr>\n",
       "      <th>30</th>\n",
       "      <td>34.0</td>\n",
       "      <td>212368</td>\n",
       "    </tr>\n",
       "    <tr>\n",
       "      <th>31</th>\n",
       "      <td>35.0</td>\n",
       "      <td>192014</td>\n",
       "    </tr>\n",
       "    <tr>\n",
       "      <th>32</th>\n",
       "      <td>36.0</td>\n",
       "      <td>150284</td>\n",
       "    </tr>\n",
       "    <tr>\n",
       "      <th>33</th>\n",
       "      <td>37.0</td>\n",
       "      <td>191203</td>\n",
       "    </tr>\n",
       "    <tr>\n",
       "      <th>34</th>\n",
       "      <td>38.0</td>\n",
       "      <td>143804</td>\n",
       "    </tr>\n",
       "    <tr>\n",
       "      <th>35</th>\n",
       "      <td>39.0</td>\n",
       "      <td>120319</td>\n",
       "    </tr>\n",
       "    <tr>\n",
       "      <th>36</th>\n",
       "      <td>40.0</td>\n",
       "      <td>127718</td>\n",
       "    </tr>\n",
       "    <tr>\n",
       "      <th>37</th>\n",
       "      <td>41.0</td>\n",
       "      <td>108122</td>\n",
       "    </tr>\n",
       "    <tr>\n",
       "      <th>38</th>\n",
       "      <td>42.0</td>\n",
       "      <td>83821</td>\n",
       "    </tr>\n",
       "    <tr>\n",
       "      <th>39</th>\n",
       "      <td>43.0</td>\n",
       "      <td>116319</td>\n",
       "    </tr>\n",
       "    <tr>\n",
       "      <th>40</th>\n",
       "      <td>44.0</td>\n",
       "      <td>84057</td>\n",
       "    </tr>\n",
       "    <tr>\n",
       "      <th>41</th>\n",
       "      <td>45.0</td>\n",
       "      <td>81205</td>\n",
       "    </tr>\n",
       "    <tr>\n",
       "      <th>42</th>\n",
       "      <td>46.0</td>\n",
       "      <td>93950</td>\n",
       "    </tr>\n",
       "    <tr>\n",
       "      <th>43</th>\n",
       "      <td>47.0</td>\n",
       "      <td>50311</td>\n",
       "    </tr>\n",
       "    <tr>\n",
       "      <th>44</th>\n",
       "      <td>48.0</td>\n",
       "      <td>73903</td>\n",
       "    </tr>\n",
       "    <tr>\n",
       "      <th>45</th>\n",
       "      <td>49.0</td>\n",
       "      <td>41492</td>\n",
       "    </tr>\n",
       "    <tr>\n",
       "      <th>46</th>\n",
       "      <td>50.0</td>\n",
       "      <td>53645</td>\n",
       "    </tr>\n",
       "    <tr>\n",
       "      <th>47</th>\n",
       "      <td>51.0</td>\n",
       "      <td>35212</td>\n",
       "    </tr>\n",
       "    <tr>\n",
       "      <th>48</th>\n",
       "      <td>52.0</td>\n",
       "      <td>49020</td>\n",
       "    </tr>\n",
       "    <tr>\n",
       "      <th>49</th>\n",
       "      <td>53.0</td>\n",
       "      <td>36588</td>\n",
       "    </tr>\n",
       "    <tr>\n",
       "      <th>50</th>\n",
       "      <td>54.0</td>\n",
       "      <td>51797</td>\n",
       "    </tr>\n",
       "    <tr>\n",
       "      <th>51</th>\n",
       "      <td>55.0</td>\n",
       "      <td>23539</td>\n",
       "    </tr>\n",
       "    <tr>\n",
       "      <th>52</th>\n",
       "      <td>56.0</td>\n",
       "      <td>22243</td>\n",
       "    </tr>\n",
       "    <tr>\n",
       "      <th>53</th>\n",
       "      <td>57.0</td>\n",
       "      <td>23712</td>\n",
       "    </tr>\n",
       "    <tr>\n",
       "      <th>54</th>\n",
       "      <td>58.0</td>\n",
       "      <td>23403</td>\n",
       "    </tr>\n",
       "    <tr>\n",
       "      <th>55</th>\n",
       "      <td>59.0</td>\n",
       "      <td>22437</td>\n",
       "    </tr>\n",
       "    <tr>\n",
       "      <th>56</th>\n",
       "      <td>60.0</td>\n",
       "      <td>26981</td>\n",
       "    </tr>\n",
       "    <tr>\n",
       "      <th>57</th>\n",
       "      <td>61.0</td>\n",
       "      <td>20807</td>\n",
       "    </tr>\n",
       "    <tr>\n",
       "      <th>58</th>\n",
       "      <td>62.0</td>\n",
       "      <td>27634</td>\n",
       "    </tr>\n",
       "    <tr>\n",
       "      <th>59</th>\n",
       "      <td>63.0</td>\n",
       "      <td>15480</td>\n",
       "    </tr>\n",
       "    <tr>\n",
       "      <th>60</th>\n",
       "      <td>64.0</td>\n",
       "      <td>20937</td>\n",
       "    </tr>\n",
       "    <tr>\n",
       "      <th>61</th>\n",
       "      <td>65.0</td>\n",
       "      <td>10651</td>\n",
       "    </tr>\n",
       "    <tr>\n",
       "      <th>62</th>\n",
       "      <td>66.0</td>\n",
       "      <td>17886</td>\n",
       "    </tr>\n",
       "    <tr>\n",
       "      <th>63</th>\n",
       "      <td>67.0</td>\n",
       "      <td>12602</td>\n",
       "    </tr>\n",
       "    <tr>\n",
       "      <th>64</th>\n",
       "      <td>68.0</td>\n",
       "      <td>6341</td>\n",
       "    </tr>\n",
       "    <tr>\n",
       "      <th>65</th>\n",
       "      <td>69.0</td>\n",
       "      <td>11874</td>\n",
       "    </tr>\n",
       "    <tr>\n",
       "      <th>66</th>\n",
       "      <td>70.0</td>\n",
       "      <td>13405</td>\n",
       "    </tr>\n",
       "    <tr>\n",
       "      <th>67</th>\n",
       "      <td>71.0</td>\n",
       "      <td>6573</td>\n",
       "    </tr>\n",
       "    <tr>\n",
       "      <th>68</th>\n",
       "      <td>72.0</td>\n",
       "      <td>9110</td>\n",
       "    </tr>\n",
       "    <tr>\n",
       "      <th>69</th>\n",
       "      <td>73.0</td>\n",
       "      <td>3932</td>\n",
       "    </tr>\n",
       "    <tr>\n",
       "      <th>70</th>\n",
       "      <td>74.0</td>\n",
       "      <td>6216</td>\n",
       "    </tr>\n",
       "    <tr>\n",
       "      <th>71</th>\n",
       "      <td>75.0</td>\n",
       "      <td>11816</td>\n",
       "    </tr>\n",
       "    <tr>\n",
       "      <th>72</th>\n",
       "      <td>76.0</td>\n",
       "      <td>6779</td>\n",
       "    </tr>\n",
       "    <tr>\n",
       "      <th>73</th>\n",
       "      <td>77.0</td>\n",
       "      <td>10377</td>\n",
       "    </tr>\n",
       "    <tr>\n",
       "      <th>74</th>\n",
       "      <td>78.0</td>\n",
       "      <td>7750</td>\n",
       "    </tr>\n",
       "    <tr>\n",
       "      <th>75</th>\n",
       "      <td>79.0</td>\n",
       "      <td>7306</td>\n",
       "    </tr>\n",
       "    <tr>\n",
       "      <th>76</th>\n",
       "      <td>80.0</td>\n",
       "      <td>789</td>\n",
       "    </tr>\n",
       "    <tr>\n",
       "      <th>77</th>\n",
       "      <td>81.0</td>\n",
       "      <td>5659</td>\n",
       "    </tr>\n",
       "    <tr>\n",
       "      <th>78</th>\n",
       "      <td>82.0</td>\n",
       "      <td>3613</td>\n",
       "    </tr>\n",
       "    <tr>\n",
       "      <th>79</th>\n",
       "      <td>83.0</td>\n",
       "      <td>535</td>\n",
       "    </tr>\n",
       "    <tr>\n",
       "      <th>80</th>\n",
       "      <td>84.0</td>\n",
       "      <td>2075</td>\n",
       "    </tr>\n",
       "    <tr>\n",
       "      <th>81</th>\n",
       "      <td>85.0</td>\n",
       "      <td>4669</td>\n",
       "    </tr>\n",
       "    <tr>\n",
       "      <th>82</th>\n",
       "      <td>86.0</td>\n",
       "      <td>1307</td>\n",
       "    </tr>\n",
       "    <tr>\n",
       "      <th>83</th>\n",
       "      <td>87.0</td>\n",
       "      <td>2702</td>\n",
       "    </tr>\n",
       "    <tr>\n",
       "      <th>84</th>\n",
       "      <td>88.0</td>\n",
       "      <td>510</td>\n",
       "    </tr>\n",
       "    <tr>\n",
       "      <th>85</th>\n",
       "      <td>90.0</td>\n",
       "      <td>389</td>\n",
       "    </tr>\n",
       "    <tr>\n",
       "      <th>86</th>\n",
       "      <td>92.0</td>\n",
       "      <td>359</td>\n",
       "    </tr>\n",
       "  </tbody>\n",
       "</table>\n",
       "</div>"
      ],
      "text/plain": [
       "     age   words\n",
       "0    4.0     272\n",
       "1    5.0     132\n",
       "2    6.0    2406\n",
       "3    7.0    8158\n",
       "4    8.0    3260\n",
       "5    9.0    6540\n",
       "6   10.0   11771\n",
       "7   11.0   11462\n",
       "8   12.0   17316\n",
       "9   13.0   12580\n",
       "10  14.0   30978\n",
       "11  15.0   16753\n",
       "12  16.0   15125\n",
       "13  17.0   51960\n",
       "14  18.0   65895\n",
       "15  19.0   75581\n",
       "16  20.0   91191\n",
       "17  21.0   88340\n",
       "18  22.0  119782\n",
       "19  23.0  189543\n",
       "20  24.0  156862\n",
       "21  25.0  200371\n",
       "22  26.0  212245\n",
       "23  27.0  196433\n",
       "24  28.0  214608\n",
       "25  29.0  229375\n",
       "26  30.0  215189\n",
       "27  31.0  199967\n",
       "28  32.0  202468\n",
       "29  33.0  257087\n",
       "30  34.0  212368\n",
       "31  35.0  192014\n",
       "32  36.0  150284\n",
       "33  37.0  191203\n",
       "34  38.0  143804\n",
       "35  39.0  120319\n",
       "36  40.0  127718\n",
       "37  41.0  108122\n",
       "38  42.0   83821\n",
       "39  43.0  116319\n",
       "40  44.0   84057\n",
       "41  45.0   81205\n",
       "42  46.0   93950\n",
       "43  47.0   50311\n",
       "44  48.0   73903\n",
       "45  49.0   41492\n",
       "46  50.0   53645\n",
       "47  51.0   35212\n",
       "48  52.0   49020\n",
       "49  53.0   36588\n",
       "50  54.0   51797\n",
       "51  55.0   23539\n",
       "52  56.0   22243\n",
       "53  57.0   23712\n",
       "54  58.0   23403\n",
       "55  59.0   22437\n",
       "56  60.0   26981\n",
       "57  61.0   20807\n",
       "58  62.0   27634\n",
       "59  63.0   15480\n",
       "60  64.0   20937\n",
       "61  65.0   10651\n",
       "62  66.0   17886\n",
       "63  67.0   12602\n",
       "64  68.0    6341\n",
       "65  69.0   11874\n",
       "66  70.0   13405\n",
       "67  71.0    6573\n",
       "68  72.0    9110\n",
       "69  73.0    3932\n",
       "70  74.0    6216\n",
       "71  75.0   11816\n",
       "72  76.0    6779\n",
       "73  77.0   10377\n",
       "74  78.0    7750\n",
       "75  79.0    7306\n",
       "76  80.0     789\n",
       "77  81.0    5659\n",
       "78  82.0    3613\n",
       "79  83.0     535\n",
       "80  84.0    2075\n",
       "81  85.0    4669\n",
       "82  86.0    1307\n",
       "83  87.0    2702\n",
       "84  88.0     510\n",
       "85  90.0     389\n",
       "86  92.0     359"
      ]
     },
     "execution_count": 27,
     "metadata": {},
     "output_type": "execute_result"
    }
   ],
   "source": [
    "women_film_df.groupby('age')['words'].sum().reset_index()"
   ]
  },
  {
   "cell_type": "code",
   "execution_count": 28,
   "metadata": {
    "scrolled": true
   },
   "outputs": [],
   "source": [
    "women_age_words = women_film_df.groupby('age')['words'].sum().reset_index()"
   ]
  },
  {
   "cell_type": "code",
   "execution_count": 29,
   "metadata": {},
   "outputs": [],
   "source": [
    "men_age_words = men_film_df.groupby('age')['words'].sum().reset_index()"
   ]
  },
  {
   "cell_type": "code",
   "execution_count": 30,
   "metadata": {},
   "outputs": [
    {
     "data": {
      "text/plain": [
       "<AxesSubplot:xlabel='age', ylabel='words'>"
      ]
     },
     "execution_count": 30,
     "metadata": {},
     "output_type": "execute_result"
    },
    {
     "data": {
      "image/png": "[encoded data removed]",
      "text/plain": [
       "<Figure size 640x480 with 1 Axes>"
      ]
     },
     "metadata": {},
     "output_type": "display_data"
    }
   ],
   "source": [
    "ax = women_age_words.plot(kind='scatter', x='age', y='words', color='red')\n",
    "men_age_words.plot(ax=ax, kind='scatter', x='age', y='words', color='blue')"
   ]
  },
  {
   "cell_type": "markdown",
   "metadata": {},
   "source": [
    "Now let's make a line plot of the exact same data. Copy and paste the code in the cell above and change it to produce a line plot instead of a scatter plot."
   ]
  },
  {
   "cell_type": "markdown",
   "metadata": {},
   "source": [
    "<div class=\"admonition note\" name=\"html-admonition\" style=\"background: lightblue; padding: 10px\">\n",
    "Group work!\n",
    "</div>"
   ]
  },
  {
   "cell_type": "code",
   "execution_count": 645,
   "metadata": {},
   "outputs": [],
   "source": [
    "# Your code here\n",
    "# Your code here"
   ]
  },
  {
   "cell_type": "markdown",
   "metadata": {},
   "source": [
    "## Bonus — Interactive Data Visualization"
   ]
  },
  {
   "cell_type": "markdown",
   "metadata": {},
   "source": [
    "[Bokeh](https://docs.bokeh.org/en/latest/index.html) is a powerful library for creating interactive visualizations. You may need to install it in your Anaconda Navigator or from the command line (``conda install bokeh``)."
   ]
  },
  {
   "cell_type": "code",
   "execution_count": 37,
   "metadata": {},
   "outputs": [],
   "source": [
    "#Import necessary Bokeh modules\n",
    "from bokeh.plotting import figure, show\n",
    "from bokeh.models import ColumnDataSource, NumeralTickFormatter\n",
    "from bokeh.io import output_notebook, show\n",
    "from bokeh.palettes import RdBu\n",
    "from bokeh.transform import linear_cmap, jitter"
   ]
  },
  {
   "cell_type": "code",
   "execution_count": 38,
   "metadata": {},
   "outputs": [
    {
     "data": {
      "text/html": [
       "<div class=\"bk-root\">\n",
       "        <a href=\"https://bokeh.org\" target=\"_blank\" class=\"bk-logo bk-logo-small bk-logo-notebook\"></a>\n",
       "        <span id=\"1103\">Loading BokehJS ...</span>\n",
       "    </div>\n"
      ]
     },
     "metadata": {},
     "output_type": "display_data"
    },
    {
     "data": {
      "application/javascript": [
       "(function(root) {\n",
       "  function now() {\n",
       "    return new Date();\n",
       "  }\n",
       "\n",
       "  const force = true;\n",
       "\n",
       "  if (typeof root._bokeh_onload_callbacks === \"undefined\" || force === true) {\n",
       "    root._bokeh_onload_callbacks = [];\n",
       "    root._bokeh_is_loading = undefined;\n",
       "  }\n",
       "\n",
       "const JS_MIME_TYPE = 'application/javascript';\n",
       "  const HTML_MIME_TYPE = 'text/html';\n",
       "  const EXEC_MIME_TYPE = 'application/vnd.bokehjs_exec.v0+json';\n",
       "  const CLASS_NAME = 'output_bokeh rendered_html';\n",
       "\n",
       "  /**\n",
       "   * Render data to the DOM node\n",
       "   */\n",
       "  function render(props, node) {\n",
       "    const script = document.createElement(\"script\");\n",
       "    node.appendChild(script);\n",
       "  }\n",
       "\n",
       "  /**\n",
       "   * Handle when an output is cleared or removed\n",
       "   */\n",
       "  function handleClearOutput(event, handle) {\n",
       "    const cell = handle.cell;\n",
       "\n",
       "    const id = cell.output_area._bokeh_element_id;\n",
       "    const server_id = cell.output_area._bokeh_server_id;\n",
       "    // Clean up Bokeh references\n",
       "    if (id != null && id in Bokeh.index) {\n",
       "      Bokeh.index[id].model.document.clear();\n",
       "      delete Bokeh.index[id];\n",
       "    }\n",
       "\n",
       "    if (server_id !== undefined) {\n",
       "      // Clean up Bokeh references\n",
       "      const cmd_clean = \"from bokeh.io.state import curstate; print(curstate().uuid_to_server['\" + server_id + \"'].get_sessions()[0].document.roots[0]._id)\";\n",
       "      cell.notebook.kernel.execute(cmd_clean, {\n",
       "        iopub: {\n",
       "          output: function(msg) {\n",
       "            const id = msg.content.text.trim();\n",
       "            if (id in Bokeh.index) {\n",
       "              Bokeh.index[id].model.document.clear();\n",
       "              delete Bokeh.index[id];\n",
       "            }\n",
       "          }\n",
       "        }\n",
       "      });\n",
       "      // Destroy server and session\n",
       "      const cmd_destroy = \"import bokeh.io.notebook as ion; ion.destroy_server('\" + server_id + \"')\";\n",
       "      cell.notebook.kernel.execute(cmd_destroy);\n",
       "    }\n",
       "  }\n",
       "\n",
       "  /**\n",
       "   * Handle when a new output is added\n",
       "   */\n",
       "  function handleAddOutput(event, handle) {\n",
       "    const output_area = handle.output_area;\n",
       "    const output = handle.output;\n",
       "\n",
       "    // limit handleAddOutput to display_data with EXEC_MIME_TYPE content only\n",
       "    if ((output.output_type != \"display_data\") || (!Object.prototype.hasOwnProperty.call(output.data, EXEC_MIME_TYPE))) {\n",
       "      return\n",
       "    }\n",
       "\n",
       "    const toinsert = output_area.element.find(\".\" + CLASS_NAME.split(' ')[0]);\n",
       "\n",
       "    if (output.metadata[EXEC_MIME_TYPE][\"id\"] !== undefined) {\n",
       "      toinsert[toinsert.length - 1].firstChild.textContent = output.data[JS_MIME_TYPE];\n",
       "      // store reference to embed id on output_area\n",
       "      output_area._bokeh_element_id = output.metadata[EXEC_MIME_TYPE][\"id\"];\n",
       "    }\n",
       "    if (output.metadata[EXEC_MIME_TYPE][\"server_id\"] !== undefined) {\n",
       "      const bk_div = document.createElement(\"div\");\n",
       "      bk_div.innerHTML = output.data[HTML_MIME_TYPE];\n",
       "      const script_attrs = bk_div.children[0].attributes;\n",
       "      for (let i = 0; i < script_attrs.length; i++) {\n",
       "        toinsert[toinsert.length - 1].firstChild.setAttribute(script_attrs[i].name, script_attrs[i].value);\n",
       "        toinsert[toinsert.length - 1].firstChild.textContent = bk_div.children[0].textContent\n",
       "      }\n",
       "      // store reference to server id on output_area\n",
       "      output_area._bokeh_server_id = output.metadata[EXEC_MIME_TYPE][\"server_id\"];\n",
       "    }\n",
       "  }\n",
       "\n",
       "  function register_renderer(events, OutputArea) {\n",
       "\n",
       "    function append_mime(data, metadata, element) {\n",
       "      // create a DOM node to render to\n",
       "      const toinsert = this.create_output_subarea(\n",
       "        metadata,\n",
       "        CLASS_NAME,\n",
       "        EXEC_MIME_TYPE\n",
       "      );\n",
       "      this.keyboard_manager.register_events(toinsert);\n",
       "      // Render to node\n",
       "      const props = {data: data, metadata: metadata[EXEC_MIME_TYPE]};\n",
       "      render(props, toinsert[toinsert.length - 1]);\n",
       "      element.append(toinsert);\n",
       "      return toinsert\n",
       "    }\n",
       "\n",
       "    /* Handle when an output is cleared or removed */\n",
       "    events.on('clear_output.CodeCell', handleClearOutput);\n",
       "    events.on('delete.Cell', handleClearOutput);\n",
       "\n",
       "    /* Handle when a new output is added */\n",
       "    events.on('output_added.OutputArea', handleAddOutput);\n",
       "\n",
       "    /**\n",
       "     * Register the mime type and append_mime function with output_area\n",
       "     */\n",
       "    OutputArea.prototype.register_mime_type(EXEC_MIME_TYPE, append_mime, {\n",
       "      /* Is output safe? */\n",
       "      safe: true,\n",
       "      /* Index of renderer in `output_area.display_order` */\n",
       "      index: 0\n",
       "    });\n",
       "  }\n",
       "\n",
       "  // register the mime type if in Jupyter Notebook environment and previously unregistered\n",
       "  if (root.Jupyter !== undefined) {\n",
       "    const events = require('base/js/events');\n",
       "    const OutputArea = require('notebook/js/outputarea').OutputArea;\n",
       "\n",
       "    if (OutputArea.prototype.mime_types().indexOf(EXEC_MIME_TYPE) == -1) {\n",
       "      register_renderer(events, OutputArea);\n",
       "    }\n",
       "  }\n",
       "  if (typeof (root._bokeh_timeout) === \"undefined\" || force === true) {\n",
       "    root._bokeh_timeout = Date.now() + 5000;\n",
       "    root._bokeh_failed_load = false;\n",
       "  }\n",
       "\n",
       "  const NB_LOAD_WARNING = {'data': {'text/html':\n",
       "     \"<div style='background-color: #fdd'>\\n\"+\n",
       "     \"<p>\\n\"+\n",
       "     \"BokehJS does not appear to have successfully loaded. If loading BokehJS from CDN, this \\n\"+\n",
       "     \"may be due to a slow or bad network connection. Possible fixes:\\n\"+\n",
       "     \"</p>\\n\"+\n",
       "     \"<ul>\\n\"+\n",
       "     \"<li>re-rerun `output_notebook()` to attempt to load from CDN again, or</li>\\n\"+\n",
       "     \"<li>use INLINE resources instead, as so:</li>\\n\"+\n",
       "     \"</ul>\\n\"+\n",
       "     \"<code>\\n\"+\n",
       "     \"from bokeh.resources import INLINE\\n\"+\n",
       "     \"output_notebook(resources=INLINE)\\n\"+\n",
       "     \"</code>\\n\"+\n",
       "     \"</div>\"}};\n",
       "\n",
       "  function display_loaded() {\n",
       "    const el = document.getElementById(\"1103\");\n",
       "    if (el != null) {\n",
       "      el.textContent = \"BokehJS is loading...\";\n",
       "    }\n",
       "    if (root.Bokeh !== undefined) {\n",
       "      if (el != null) {\n",
       "        el.textContent = \"BokehJS \" + root.Bokeh.version + \" successfully loaded.\";\n",
       "      }\n",
       "    } else if (Date.now() < root._bokeh_timeout) {\n",
       "      setTimeout(display_loaded, 100)\n",
       "    }\n",
       "  }\n",
       "\n",
       "  function run_callbacks() {\n",
       "    try {\n",
       "      root._bokeh_onload_callbacks.forEach(function(callback) {\n",
       "        if (callback != null)\n",
       "          callback();\n",
       "      });\n",
       "    } finally {\n",
       "      delete root._bokeh_onload_callbacks\n",
       "    }\n",
       "    console.debug(\"Bokeh: all callbacks have finished\");\n",
       "  }\n",
       "\n",
       "  function load_libs(css_urls, js_urls, callback) {\n",
       "    if (css_urls == null) css_urls = [];\n",
       "    if (js_urls == null) js_urls = [];\n",
       "\n",
       "    root._bokeh_onload_callbacks.push(callback);\n",
       "    if (root._bokeh_is_loading > 0) {\n",
       "      console.debug(\"Bokeh: BokehJS is being loaded, scheduling callback at\", now());\n",
       "      return null;\n",
       "    }\n",
       "    if (js_urls == null || js_urls.length === 0) {\n",
       "      run_callbacks();\n",
       "      return null;\n",
       "    }\n",
       "    console.debug(\"Bokeh: BokehJS not loaded, scheduling load and callback at\", now());\n",
       "    root._bokeh_is_loading = css_urls.length + js_urls.length;\n",
       "\n",
       "    function on_load() {\n",
       "      root._bokeh_is_loading--;\n",
       "      if (root._bokeh_is_loading === 0) {\n",
       "        console.debug(\"Bokeh: all BokehJS libraries/stylesheets loaded\");\n",
       "        run_callbacks()\n",
       "      }\n",
       "    }\n",
       "\n",
       "    function on_error(url) {\n",
       "      console.error(\"failed to load \" + url);\n",
       "    }\n",
       "\n",
       "    for (let i = 0; i < css_urls.length; i++) {\n",
       "      const url = css_urls[i];\n",
       "      const element = document.createElement(\"link\");\n",
       "      element.onload = on_load;\n",
       "      element.onerror = on_error.bind(null, url);\n",
       "      element.rel = \"stylesheet\";\n",
       "      element.type = \"text/css\";\n",
       "      element.href = url;\n",
       "      console.debug(\"Bokeh: injecting link tag for BokehJS stylesheet: \", url);\n",
       "      document.body.appendChild(element);\n",
       "    }\n",
       "\n",
       "    for (let i = 0; i < js_urls.length; i++) {\n",
       "      const url = js_urls[i];\n",
       "      const element = document.createElement('script');\n",
       "      element.onload = on_load;\n",
       "      element.onerror = on_error.bind(null, url);\n",
       "      element.async = false;\n",
       "      element.src = url;\n",
       "      console.debug(\"Bokeh: injecting script tag for BokehJS library: \", url);\n",
       "      document.head.appendChild(element);\n",
       "    }\n",
       "  };\n",
       "\n",
       "  function inject_raw_css(css) {\n",
       "    const element = document.createElement(\"style\");\n",
       "    element.appendChild(document.createTextNode(css));\n",
       "    document.body.appendChild(element);\n",
       "  }\n",
       "\n",
       "  const js_urls = [\"https://cdn.bokeh.org/bokeh/release/bokeh-2.4.3.min.js\", \"https://cdn.bokeh.org/bokeh/release/bokeh-gl-2.4.3.min.js\", \"https://cdn.bokeh.org/bokeh/release/bokeh-widgets-2.4.3.min.js\", \"https://cdn.bokeh.org/bokeh/release/bokeh-tables-2.4.3.min.js\", \"https://cdn.bokeh.org/bokeh/release/bokeh-mathjax-2.4.3.min.js\"];\n",
       "  const css_urls = [];\n",
       "\n",
       "  const inline_js = [    function(Bokeh) {\n",
       "      Bokeh.set_log_level(\"info\");\n",
       "    },\n",
       "function(Bokeh) {\n",
       "    }\n",
       "  ];\n",
       "\n",
       "  function run_inline_js() {\n",
       "    if (root.Bokeh !== undefined || force === true) {\n",
       "          for (let i = 0; i < inline_js.length; i++) {\n",
       "      inline_js[i].call(root, root.Bokeh);\n",
       "    }\n",
       "if (force === true) {\n",
       "        display_loaded();\n",
       "      }} else if (Date.now() < root._bokeh_timeout) {\n",
       "      setTimeout(run_inline_js, 100);\n",
       "    } else if (!root._bokeh_failed_load) {\n",
       "      console.log(\"Bokeh: BokehJS failed to load within specified timeout.\");\n",
       "      root._bokeh_failed_load = true;\n",
       "    } else if (force !== true) {\n",
       "      const cell = $(document.getElementById(\"1103\")).parents('.cell').data().cell;\n",
       "      cell.output_area.append_execute_result(NB_LOAD_WARNING)\n",
       "    }\n",
       "  }\n",
       "\n",
       "  if (root._bokeh_is_loading === 0) {\n",
       "    console.debug(\"Bokeh: BokehJS loaded, going straight to plotting\");\n",
       "    run_inline_js();\n",
       "  } else {\n",
       "    load_libs(css_urls, js_urls, function() {\n",
       "      console.debug(\"Bokeh: BokehJS plotting callback run at\", now());\n",
       "      run_inline_js();\n",
       "    });\n",
       "  }\n",
       "}(window));"
      ],
      "application/vnd.bokehjs_load.v0+json": "(function(root) {\n  function now() {\n    return new Date();\n  }\n\n  const force = true;\n\n  if (typeof root._bokeh_onload_callbacks === \"undefined\" || force === true) {\n    root._bokeh_onload_callbacks = [];\n    root._bokeh_is_loading = undefined;\n  }\n\n\n  if (typeof (root._bokeh_timeout) === \"undefined\" || force === true) {\n    root._bokeh_timeout = Date.now() + 5000;\n    root._bokeh_failed_load = false;\n  }\n\n  const NB_LOAD_WARNING = {'data': {'text/html':\n     \"<div style='background-color: #fdd'>\\n\"+\n     \"<p>\\n\"+\n     \"BokehJS does not appear to have successfully loaded. If loading BokehJS from CDN, this \\n\"+\n     \"may be due to a slow or bad network connection. Possible fixes:\\n\"+\n     \"</p>\\n\"+\n     \"<ul>\\n\"+\n     \"<li>re-rerun `output_notebook()` to attempt to load from CDN again, or</li>\\n\"+\n     \"<li>use INLINE resources instead, as so:</li>\\n\"+\n     \"</ul>\\n\"+\n     \"<code>\\n\"+\n     \"from bokeh.resources import INLINE\\n\"+\n     \"output_notebook(resources=INLINE)\\n\"+\n     \"</code>\\n\"+\n     \"</div>\"}};\n\n  function display_loaded() {\n    const el = document.getElementById(\"1103\");\n    if (el != null) {\n      el.textContent = \"BokehJS is loading...\";\n    }\n    if (root.Bokeh !== undefined) {\n      if (el != null) {\n        el.textContent = \"BokehJS \" + root.Bokeh.version + \" successfully loaded.\";\n      }\n    } else if (Date.now() < root._bokeh_timeout) {\n      setTimeout(display_loaded, 100)\n    }\n  }\n\n  function run_callbacks() {\n    try {\n      root._bokeh_onload_callbacks.forEach(function(callback) {\n        if (callback != null)\n          callback();\n      });\n    } finally {\n      delete root._bokeh_onload_callbacks\n    }\n    console.debug(\"Bokeh: all callbacks have finished\");\n  }\n\n  function load_libs(css_urls, js_urls, callback) {\n    if (css_urls == null) css_urls = [];\n    if (js_urls == null) js_urls = [];\n\n    root._bokeh_onload_callbacks.push(callback);\n    if (root._bokeh_is_loading > 0) {\n      console.debug(\"Bokeh: BokehJS is being loaded, scheduling callback at\", now());\n      return null;\n    }\n    if (js_urls == null || js_urls.length === 0) {\n      run_callbacks();\n      return null;\n    }\n    console.debug(\"Bokeh: BokehJS not loaded, scheduling load and callback at\", now());\n    root._bokeh_is_loading = css_urls.length + js_urls.length;\n\n    function on_load() {\n      root._bokeh_is_loading--;\n      if (root._bokeh_is_loading === 0) {\n        console.debug(\"Bokeh: all BokehJS libraries/stylesheets loaded\");\n        run_callbacks()\n      }\n    }\n\n    function on_error(url) {\n      console.error(\"failed to load \" + url);\n    }\n\n    for (let i = 0; i < css_urls.length; i++) {\n      const url = css_urls[i];\n      const element = document.createElement(\"link\");\n      element.onload = on_load;\n      element.onerror = on_error.bind(null, url);\n      element.rel = \"stylesheet\";\n      element.type = \"text/css\";\n      element.href = url;\n      console.debug(\"Bokeh: injecting link tag for BokehJS stylesheet: \", url);\n      document.body.appendChild(element);\n    }\n\n    for (let i = 0; i < js_urls.length; i++) {\n      const url = js_urls[i];\n      const element = document.createElement('script');\n      element.onload = on_load;\n      element.onerror = on_error.bind(null, url);\n      element.async = false;\n      element.src = url;\n      console.debug(\"Bokeh: injecting script tag for BokehJS library: \", url);\n      document.head.appendChild(element);\n    }\n  };\n\n  function inject_raw_css(css) {\n    const element = document.createElement(\"style\");\n    element.appendChild(document.createTextNode(css));\n    document.body.appendChild(element);\n  }\n\n  const js_urls = [\"https://cdn.bokeh.org/bokeh/release/bokeh-2.4.3.min.js\", \"https://cdn.bokeh.org/bokeh/release/bokeh-gl-2.4.3.min.js\", \"https://cdn.bokeh.org/bokeh/release/bokeh-widgets-2.4.3.min.js\", \"https://cdn.bokeh.org/bokeh/release/bokeh-tables-2.4.3.min.js\", \"https://cdn.bokeh.org/bokeh/release/bokeh-mathjax-2.4.3.min.js\"];\n  const css_urls = [];\n\n  const inline_js = [    function(Bokeh) {\n      Bokeh.set_log_level(\"info\");\n    },\nfunction(Bokeh) {\n    }\n  ];\n\n  function run_inline_js() {\n    if (root.Bokeh !== undefined || force === true) {\n          for (let i = 0; i < inline_js.length; i++) {\n      inline_js[i].call(root, root.Bokeh);\n    }\nif (force === true) {\n        display_loaded();\n      }} else if (Date.now() < root._bokeh_timeout) {\n      setTimeout(run_inline_js, 100);\n    } else if (!root._bokeh_failed_load) {\n      console.log(\"Bokeh: BokehJS failed to load within specified timeout.\");\n      root._bokeh_failed_load = true;\n    } else if (force !== true) {\n      const cell = $(document.getElementById(\"1103\")).parents('.cell').data().cell;\n      cell.output_area.append_execute_result(NB_LOAD_WARNING)\n    }\n  }\n\n  if (root._bokeh_is_loading === 0) {\n    console.debug(\"Bokeh: BokehJS loaded, going straight to plotting\");\n    run_inline_js();\n  } else {\n    load_libs(css_urls, js_urls, function() {\n      console.debug(\"Bokeh: BokehJS plotting callback run at\", now());\n      run_inline_js();\n    });\n  }\n}(window));"
     },
     "metadata": {},
     "output_type": "display_data"
    }
   ],
   "source": [
    "#Set up Bokeh to work in Jupyter notebook\n",
    "output_notebook()"
   ]
  },
  {
   "cell_type": "markdown",
   "metadata": {},
   "source": [
    "Here's an interactive data visualization of these Hollywood films by release year and percentage of women dialogue.\n",
    "\n",
    "* Scroll to zoom in\n",
    "* Hover to see more information about each point"
   ]
  },
  {
   "cell_type": "code",
   "execution_count": 39,
   "metadata": {
    "tags": [
     "hide-input"
    ]
   },
   "outputs": [
    {
     "data": {
      "text/html": [
       "\n",
       "  <div class=\"bk-root\" id=\"cd1234c2-0c76-4d0a-b78e-1754f5d27c9d\" data-root-id=\"1105\"></div>\n"
      ]
     },
     "metadata": {},
     "output_type": "display_data"
    },
    {
     "data": {
      "application/javascript": [
       "(function(root) {\n",
       "  function embed_document(root) {\n",
       "  const docs_json = {\"35901c94-dfac-492a-b427-97964ed96c99\":{\"defs\":[],\"roots\":{\"references\":[{\"attributes\":{\"below\":[{\"id\":\"1116\"}],\"center\":[{\"id\":\"1119\"},{\"id\":\"1123\"}],\"height\":550,\"left\":[{\"id\":\"1120\"}],\"renderers\":[{\"id\":\"1146\"}],\"title\":{\"id\":\"1106\"},\"toolbar\":{\"id\":\"1132\"},\"width\":800,\"x_range\":{\"id\":\"1108\"},\"x_scale\":{\"id\":\"1112\"},\"y_range\":{\"id\":\"1110\"},\"y_scale\":{\"id\":\"1114\"}},\"id\":\"1105\",\"subtype\":\"Figure\",\"type\":\"Plot\"},{\"attributes\":{\"axis\":{\"id\":\"1120\"},\"coordinates\":null,\"dimension\":1,\"group\":null,\"ticker\":null},\"id\":\"1123\",\"type\":\"Grid\"},{\"attributes\":{\"callback\":null,\"tooltips\":[[\"Title\",\"@title\"],[\"Year\",\"@release_year\"],[\"Women Dialogue\",\"@{proportion_of_dialogue}{%0.2f}\"]]},\"id\":\"1131\",\"type\":\"HoverTool\"},{\"attributes\":{},\"id\":\"1164\",\"type\":\"AllLabels\"},{\"attributes\":{},\"id\":\"1117\",\"type\":\"BasicTicker\"},{\"attributes\":{},\"id\":\"1114\",\"type\":\"LinearScale\"},{\"attributes\":{\"end\":2018,\"start\":1930},\"id\":\"1108\",\"type\":\"Range1d\"},{\"attributes\":{\"format\":\"0 %\"},\"id\":\"1148\",\"type\":\"NumeralTickFormatter\"},{\"attributes\":{\"high\":0,\"low\":1.1,\"palette\":[\"#0571b0\",\"#92c5de\",\"#f4a582\",\"#ca0020\"]},\"id\":\"1140\",\"type\":\"LinearColorMapper\"},{\"attributes\":{},\"id\":\"1165\",\"type\":\"UnionRenderers\"},{\"attributes\":{},\"id\":\"1166\",\"type\":\"Selection\"},{\"attributes\":{\"active_scroll\":{\"id\":\"1125\"},\"tools\":[{\"id\":\"1124\"},{\"id\":\"1125\"},{\"id\":\"1126\"},{\"id\":\"1127\"},{\"id\":\"1128\"},{\"id\":\"1129\"},{\"id\":\"1131\"}]},\"id\":\"1132\",\"type\":\"Toolbar\"},{\"attributes\":{\"overlay\":{\"id\":\"1130\"}},\"id\":\"1126\",\"type\":\"BoxZoomTool\"},{\"attributes\":{\"data\":{\"index\":[0,1,2,3,4,5,6,7,8,9,10,11,12,13,14,15,16,17,18,19,20,21,22,23,24,25,26,27,28,29,30,31,32,33,34,35,36,37,38,39,40,41,42,43,44,45,46,47,48,49,50,51,52,53,54,55,56,57,58,59,60,61,62,63,64,65,66,67,68,69,70,71,72,73,74,75,76,77,78,79,80,81,82,83,84,85,86,87,88,89,90,91,92,93,94,95,96,97,98,99,100,101,102,103,104,105,106,107,108,109,110,111,112,113,114,115,116,117,118,119,120,121,122,123,124,125,126,127,128,129,130,131,132,133,134,135,136,137,138,139,140,141,142,143,144,145,146,147,148,149,150,151,152,153,154,155,156,157,158,159,160,161,162,163,164,165,166,167,168,169,170,171,172,173,174,175,176,177,178,179,180,181,182,183,184,185,186,187,188,189,190,191,192,193,194,195,196,197,198,199,200,201,202,203,204,205,206,207,208,209,210,211,212,213,214,215,216,217,218,219,220,221,222,223,224,225,226,227,228,229,230,231,232,233,234,235,236,237,238,239,240,241,242,243,244,245,246,247,248,249,250,251,252,253,254,255,256,257,258,259,260,261,262,263,264,265,266,267,268,269,270,271,272,273,274,275,276,277,278,279,280,281,282,283,284,285,286,287,288,289,290,291,292,293,294,295,296,297,298,299,300,301,302,303,304,305,306,307,308,309,310,311,312,313,314,315,316,317,318,319,320,321,322,323,324,325,326,327,328,329,330,331,332,333,334,335,336,337,338,339,340,341,342,343,344,345,346,347,348,349,350,351,352,353,354,355,356,357,358,359,360,361,362,363,364,365,366,367,368,369,370,371,372,373,374,375,376,377,378,379,380,381,382,383,384,385,386,387,388,389,390,391,392,393,394,395,396,397,398,399,400,401,402,403,404,405,406,407,408,409,410,411,412,413,414,415,416,417,418,419,420,421,422,423,424,425,426,427,428,429,430,431,432,433,434,435,436,437,438,439,440,441,442,443,444,445,446,447,448,449,450,451,452,453,454,455,456,457,458,459,460,461,462,463,464,465,466,467,468,469,470,471,472,473,474,475,476,477,478,479,480,481,482,483,484,485,486,487,488,489,490,491,492,493,494,495,496,497,498,499,500,501,502,503,504,505,506,507,508,509,510,511,512,513,514,515,516,517,518,519,520,521,522,523,524,525,526,527,528,529,530,531,532,533,534,535,536,537,538,539,540,541,542,543,544,545,546,547,548,549,550,551,552,553,554,555,556,557,558,559,560,561,562,563,564,565,566,567,568,569,570,571,572,573,574,575,576,577,578,579,580,581,582,583,584,585,586,587,588,589,590,591,592,593,594,595,596,597,598,599,600,601,602,603,604,605,606,607,608,609,610,611,612,613,614,615,616,617,618,619,620,621,622,623,624,625,626,627,628,629,630,631,632,633,634,635,636,637,638,639,640,641,642,643,644,645,646,647,648,649,650,651,652,653,654,655,656,657,658,659,660,661,662,663,664,665,666,667,668,669,670,671,672,673,674,675,676,677,678,679,680,681,682,683,684,685,686,687,688,689,690,691,692,693,694,695,696,697,698,699,700,701,702,703,704,705,706,707,708,709,710,711,712,713,714,715,716,717,718,719,720,721,722,723,724,725,726,727,728,729,730,731,732,733,734,735,736,737,738,739,740,741,742,743,744,745,746,747,748,749,750,751,752,753,754,755,756,757,758,759,760,761,762,763,764,765,766,767,768,769,770,771,772,773,774,775,776,777,778,779,780,781,782,783,784,785,786,787,788,789,790,791,792,793,794,795,796,797,798,799,800,801,802,803,804,805,806,807,808,809,810,811,812,813,814,815,816,817,818,819,820,821,822,823,824,825,826,827,828,829,830,831,832,833,834,835,836,837,838,839,840,841,842,843,844,845,846,847,848,849,850,851,852,853,854,855,856,857,858,859,860,861,862,863,864,865,866,867,868,869,870,871,872,873,874,875,876,877,878,879,880,881,882,883,884,885,886,887,888,889,890,891,892,893,894,895,896,897,898,899,900,901,902,903,904,905,906,907,908,909,910,911,912,913,914,915,916,917,918,919,920,921,922,923,924,925,926,927,928,929,930,931,932,933,934,935,936,937,938,939,940,941,942,943,944,945,946,947,948,949,950,951,952,953,954,955,956,957,958,959,960,961,962,963,964,965,966,967,968,969,970,971,972,973,974,975,976,977,978,979,980,981,982,983,984,985,986,987,988,989,990,991,992,993,994,995,996,997,998,999,1000,1001,1002,1003,1004,1005,1006,1007,1008,1009,1010,1011,1012,1013,1014,1015,1016,1017,1018,1019,1020,1021,1022,1023,1024,1025,1026,1027,1028,1029,1030,1031,1032,1033,1034,1035,1036,1037,1038,1039,1040,1041,1042,1043,1044,1045,1046,1047,1048,1049,1050,1051,1052,1053,1054,1055,1056,1057,1058,1059,1060,1061,1062,1063,1064,1065,1066,1067,1068,1069,1070,1071,1072,1073,1074,1075,1076,1077,1078,1079,1080,1081,1082,1083,1084,1085,1086,1087,1088,1089,1090,1091,1092,1093,1094,1095,1096,1097,1098,1099,1100,1101,1102,1103,1104,1105,1106,1107,1108,1109,1110,1111,1112,1113,1114,1115,1116,1117,1118,1119,1120,1121,1122,1123,1124,1125,1126,1127,1128,1129,1130,1131,1132,1133,1134,1135,1136,1137,1138,1139,1140,1141,1142,1143,1144,1145,1146,1147,1148,1149,1150,1151,1152,1153,1154,1155,1156,1157,1158,1159,1160,1161,1162,1163,1164,1165,1166,1167,1168,1169,1170,1171,1172,1173,1174,1175,1176,1177,1178,1179,1180,1181,1182,1183,1184,1185,1186,1187,1188,1189,1190,1191,1192,1193,1194,1195,1196,1197,1198,1199,1200,1201,1202,1203,1204,1205,1206,1207,1208,1209,1210,1211,1212,1213,1214,1215,1216,1217,1218,1219,1220,1221,1222,1223,1224,1225,1226,1227,1228,1229,1230,1231,1232,1233,1234,1235,1236,1237,1238,1239,1240,1241,1242,1243,1244,1245,1246,1247,1248,1249,1250,1251,1252,1253,1254,1255,1256,1257,1258,1259,1260,1261,1262,1263,1264,1265,1266,1267,1268,1269,1270,1271,1272,1273,1274,1275,1276,1277,1278,1279,1280,1281,1282,1283,1284,1285,1286,1287,1288,1289,1290,1291,1292,1293,1294,1295,1296,1297,1298,1299,1300,1301,1302,1303,1304,1305,1306,1307,1308,1309,1310,1311,1312,1313,1314,1315,1316,1317,1318,1319,1320,1321,1322,1323,1324,1325,1326,1327,1328,1329,1330,1331,1332,1333,1334,1335,1336,1337,1338,1339,1340,1341,1342,1343,1344,1345,1346,1347,1348,1349,1350,1351,1352,1353,1354,1355,1356,1357,1358,1359,1360,1361,1362,1363,1364,1365,1366,1367,1368,1369,1370,1371,1372,1373,1374,1375,1376,1377,1378,1379,1380,1381,1382,1383,1384,1385,1386,1387,1388,1389,1390,1391,1392,1393,1394,1395,1396,1397,1398,1399,1400,1401,1402,1403,1404,1405,1406,1407,1408,1409,1410,1411,1412,1413,1414,1415,1416,1417,1418,1419,1420,1421,1422,1423,1424,1425,1426,1427,1428,1429,1430,1431,1432,1433,1434,1435,1436,1437,1438,1439,1440,1441,1442,1443,1444,1445,1446,1447,1448,1449,1450,1451,1452,1453,1454,1455,1456,1457,1458,1459,1460,1461,1462,1463,1464,1465,1466,1467,1468,1469,1470,1471,1472,1473,1474,1475,1476,1477,1478,1479,1480,1481,1482,1483,1484,1485,1486,1487,1488,1489,1490,1491,1492,1493,1494,1495,1496,1497,1498,1499,1500,1501,1502,1503,1504,1505,1506,1507,1508,1509,1510,1511,1512,1513,1514,1515,1516,1517,1518,1519,1520,1521,1522,1523,1524,1525,1526,1527,1528,1529,1530,1531,1532,1533,1534,1535,1536,1537,1538,1539,1540,1541,1542,1543,1544,1545,1546,1547,1548,1549,1550,1551,1552,1553,1554,1555,1556,1557,1558,1559,1560,1561,1562,1563,1564,1565,1566,1567,1568,1569,1570,1571,1572,1573,1574,1575,1576,1577,1578,1579,1580,1581,1582,1583,1584,1585,1586,1587,1588,1589,1590,1591,1592,1593,1594,1595,1596,1597,1598,1599,1600,1601,1602,1603,1604,1605,1606,1607,1608,1609,1610,1611,1612,1613,1614,1615,1616,1617,1618,1619,1620,1621,1622,1623,1624,1625,1626,1627,1628,1629,1630,1631,1632,1633,1634,1635,1636,1637,1638,1639,1640,1641,1642,1643,1644,1645,1646,1647,1648,1649,1650,1651,1652,1653,1654,1655,1656,1657,1658,1659,1660,1661,1662,1663,1664,1665,1666,1667,1668,1669,1670,1671,1672,1673,1674,1675,1676,1677,1678,1679,1680,1681,1682,1683,1684,1685,1686,1687,1688,1689,1690,1691,1692,1693,1694,1695,1696,1697,1698,1699,1700,1701,1702,1703,1704,1705,1706,1707,1708,1709,1710,1711,1712,1713,1714,1715,1716,1717,1718,1719,1720,1721,1722,1723,1724,1725,1726,1727,1728,1729,1730,1731,1732,1733,1734,1735,1736,1737,1738,1739,1740,1741,1742,1743,1744,1745,1746,1747,1748,1749,1750,1751,1752,1753,1754,1755,1756,1757,1758,1759,1760,1761,1762,1763,1764,1765,1766,1767,1768,1769,1770,1771,1772,1773,1774,1775,1776,1777,1778,1779,1780,1781,1782,1783,1784,1785,1786,1787,1788,1789,1790,1791,1792,1793,1794,1795,1796,1797,1798,1799,1800,1801,1802,1803,1804,1805,1806,1807,1808,1809,1810,1811,1812,1813,1814,1815,1816,1817,1818,1819,1820,1821,1822,1823,1824,1825,1826,1827,1828,1829,1830,1831,1832,1833,1834,1835,1836,1837,1838,1839,1840,1841,1842,1843,1844,1845,1846,1847,1848,1849,1850,1851,1852,1853,1854,1855,1856,1857,1858,1859,1860,1861,1862,1863,1864,1865,1866,1867,1868,1869,1870,1871,1872,1873,1874,1875,1876,1877,1878,1879,1880,1881,1882,1883,1884,1885,1886,1887,1888,1889,1890,1891,1892,1893,1894,1895,1896,1897,1898,1899,1900,1901,1902,1903,1904,1905,1906,1907,1908,1909,1910,1911,1912,1913,1914,1915,1916,1917,1918,1919,1920,1921,1922,1923,1924,1925,1926,1927,1928,1929,1930,1931,1932,1933,1934,1935,1936,1937,1938,1939,1940,1941,1942,1943,1944,1945],\"proportion_of_dialogue\":{\"__ndarray__\":\"AAAAAAAA8D8AAAAAAADwP7Oa2acWy+8/bL8m+8jl7j+Z9f7YRuHtP/o98Pv3hO0/RV+/9HZr7T+rL+MOoVftPyfRkhDzyOw/w8ZjaC+h7D+SOPkexpzsP1Q0B6Ypiuw/PBOTIZJr7D9+WlXPuijsP6GWWRo1FOw/Nusvo6/b6z88uA6hENnrP/Ndmn8M1us/Rk2OF9+r6z8ykaIzCGrrP8JTsh4qJes/ITwXnHoi6z8WYN3JB+vqP8eTsHAD3+o/Auf+xvTW6j+Ipxgd0J7qP6ypvP4cluo/3GmZM/yS6j/6B8m2l4rqP6LgLJzZc+o/aK8hpKVs6j8frCA5YmTqPwGXmM+/Suo/ul8ud6BF6j/QUyZ2YifqP9eaBVAHH+o/cq0fngoY6j+7ROfQuOzpP/mzAvjsvuk/F9CkAf6w6T+s+a/EY+3oP4jNbSFU6eg/qiZWN6/K6D++ER/QgL/oPxKd3ZKHqug/o2tuIj2Q6D82Fy8CWVroP6gk0kGVNeg/Ro3Jpy416D+fW8z11CfoP2hDm2+GE+g/Mle+2lUI6D/kYdc2SfPnP6BCguYS7uc/+2vpOTjc5z/KLtL0K9fnP5XlzLd8y+c/hZYNHOS25z/l5pIo/1TnPwpALvmwSuc/SaHDc+M75z8TEDq42S/nPzuy5saDHOc/ddlvsnQa5z9hrjVyXhbnPwCsiPXqFec/pXhvpYsH5z8eyvTtmwHnP/6HNq+K6eY/SpbJsA7X5j/cfne/itPmP8kc4A0Wy+Y/RhVbxwyy5j+iH+DcJbHmP/O0Q03CruY/FAYxTaKo5j8hYzhWHqfmP6XnW/w0oeY/buI0oWGa5j/o4TTf6ZfmP4LjMCQgkOY/toMzLhOL5j+sQheVU4HmP9ijw4U0eeY/L4TQDcp15j9ZUVkO4WnmP4QJQsKHPOY/Lm4wh64q5j/BMeqrwibmP9V0bVOrJOY/sgMsz0od5j+6h10DNhLmP9+7S3bsB+Y/pkzk5RT85T8STfock/XlP6eIqlzD7OU/K/QdWu3r5T+qrzvZ5d3lP324JowG2uU/4zdMxobF5T/duKwWHbflP7ll/3Rur+U/6B4H3j+g5T9mJx1T2ZLlP7aqvfBQgeU/TILV59p+5T92X6A0bHXlP+LMwu7hWeU/jn+Os0pY5T9aDJhsrk3lPwHllNy/S+U/8yxnxMNK5T9vGiaMQkDlP+46bILuKuU/w7mba0UY5T/jiGAdgRflP6Eat2A+FOU/zLtoE5n95D/ykVH8WPzkP/imQiMs9+Q/B6jTd4Pr5D/ztqVY7d7kP254MmJc1uQ/I11ewuLV5D+yETnaQNTkP5Et1m7+0eQ/avQSNs/H5D9D1a+9XbLkPyb9Mtl1p+Q/F6x5FSek5D9DBPVVzY7kP9bplIzCi+Q/vSbl45Ns5D+M9oYnJWjkP5hiWA+pW+Q/xc4LpEFa5D8IR+pwPVnkPwJlw7mOUeQ/7rxo4vFK5D8Jr20qwyLkP3d8gf6eHuQ/xGkqSzkO5D/+Uf2Gbu7jP2OeWpsUx+M/74PvXu7C4z8mAgx8osLjP/wqgjh9wOM/NmrUL1C74z9ok+MQYavjP0gKi19vqeM/fpHhC+uj4z9AiiBoKp/jP0i1pn6Ak+M/BPoMPeWO4z9F1UP9NIrjP/OWCm2ifuM/hJFYPy994z9m+GuMf3LjP5R95fc1b+M/p10Q9elu4z8t1uoOjV7jPyXqWVVVVeM/dJNUQklT4z+aguCp80zjP7IFazkjTOM/SsRcVSRF4z/mhlJ/pUHjPwI4HZBiMuM/p+ZQUJMr4z8KwSmxxBLjP4e1zd3CBOM/7AqPk0j24j9QhlW9tu7iP3bZRDIY7uI/BdF9cjni4j+C/MNSuNjiP5ygGBzP1uI/jc4R6yjV4j+ruIHbS9TiP06phAN3yuI/aRyBb8fB4j9EuG3KmrLiP81/Zzr9seI/lODsWmut4j+1ul2uzKviP63+7rebq+I/9n3iR8+p4j/FO8ngZKfiP9BtoEEFpuI/Bxp2E5Gl4j8XD6A8+3TiPx2s4x5pZeI/6tyuhOde4j/OO6YblV3iP2nfP4r4VuI/WUd6/uBW4j8EyNMg81LiP6CnTOzETuI/qFQazD464j8Gr2MBbzfiPx/FDiFtLuI/MKc+b64i4j9cZ0Rs3h/iP9fCnL8RHeI/mlX+QdT44T+HjXPR0PPhP659NK4V6+E/J822gSHl4T8xU35Fw+HhP0V86AF64eE/w+cBRrTZ4T+kkJlIv9bhP2unfkbv0eE/ru9FMJzP4T/gJN24RMvhP1cPtbiBxeE/wg4ekL2r4T8j1Njb96rhP/TWPrHOqOE/NmCijgao4T8osNtMrqbhP6sWOY2yo+E/vrJyMuih4T9+AzI71I3hPwESahrdf+E/Fpg1vFd44T/BvTK49GPhP20TSr0wY+E/Zu1OcXdi4T8GdWcwQWLhPw9rLIztYOE/+nV6cahf4T8XF9CNZVDhP1xxGi+QSeE/58lkGSNI4T/HMCv8J0ThPz0jRAtmKuE/UEOjlWUq4T9UubbbISrhP9QRX+1xHeE/N4/tuzUX4T+J7K/RjBLhPwI9ssxyD+E/6cyUknn+4D99eHY3X/3gP4b3LPH/+OA/M2fS7uTv4D/mnbUlc+/gP9SSSAvp6uA/G/9CLjjk4D8ZnOY4juPgPyP+K+t64uA/YzCTabPg4D8Jw/XprtzgP4M/4YPO2OA/PgcuQO/W4D/MM6wqP9bgP8Zg+QjA1OA/C1jtAOHR4D8savc9P8vgP8+jg2loyOA/dRw4URbA4D/dX6uvr6/gP7E5qDhepuA//JSbE/il4D9/OXlp+JLgPzUaaFo8juA/YbQ484yN4D8tPEWMa4zgP0xWhUEyiOA/G/B5BpSD4D/0Xwa0i4HgP2FH3wVKeeA/Cov2Zod44D9pTiXenXfgP9w4fO8DceA/LZks9B1p4D+a+dHRqmXgP3aEfF05ZOA/NujF7JBa4D+PUUTl61LgP8u3ge0uUOA/A+in28FP4D+aSFYurkLgPw10Sep/P+A/IMPz6s004D/akA42TSzgP62iPMWDJOA/Co70pZwf4D950W2+lx/gP4QgMKT9HuA/LnXn/GEa4D931fYEPxngP6s2bwT4EuA/PtZX0YIL4D9spMyVHwLgPySV8F+8AeA/AAAAAAAA4D8fEau1q/3fP1EkW74u6t8/IoQ6OmTi3z9ev1eh/tvfP83MzMzMzN8/c7YMMUjF3z/2gBx8uLffP/LwVy4/s98/RlqVwSui3z8E0KZuoJzfP4GNfEKcld8/uCCqk2R73z/wJA+ri3nfP9SZ0Uixd98/MTZoQKFk3z+ct+TKNkbfP8pxKRrrQ98/8u6mJV8z3z+86IAjxybfP0m9ZVYIHt8/j1tbVisc3z+W00b/UBPfPyDU8VP2CN8/XqdUM7L+3j9MxgvLmvbeP24eVfV80t4/QAXrr0PL3j/fDSGjTsTeP5QWwOlct94/KnxxOq2x3j8Iw9xMDrHeP4bk16WDot4/GqjmE+2K3j96h3xUWl/ePw7ihgVeWd4/yBYfqblR3j+tH73ONkHeP7qxnQrYQN4/QoBIEg833j+0NYxFxijeP+dxBcR+IN4/PJh8SzMY3j8WxJlG5xHeP+dr96u3D94/vAMjzEAH3j8imGvUcQPeP1lQ8IJ8+N0/E3EJtDro3T9hfCRnWb7dPwrZzdEJtt0/GhQSj5my3T+OTxASrKXdPw65AfZEpN0/Swltq+yK3T++XVlfKVbdPyWZhdDiUN0/htP+3thJ3T+nL8eUz0fdP8XM3tMFPt0/obfbooo63T9Asl9EEi7dP2C6my8HLd0/jZc9tEcr3T/BpoHwdyDdP83Gg5s3H90/HhCrMuEd3T+9KAqMpgfdP4ocCKyIAd0/QBuZhYb+3D/yZ428EvrcP65ATDhv+dw/ph8Kph753D9juKG+MfjcP/eVXMS98tw/Q30x7Tnm3D86WV4BItfcP7+ovqJE09w/RPRfL+q93D+G/jdmQbfcP2g4pBshr9w/wnRFZRas3D/3d0v1ip7cP+5NPygwlNw/X8P6YEyD3D+akg2kQn7cPxmaf3Spetw/NL8C53h03D8j8kzV5VfcP3jEuMmOV9w/4nLaoUpO3D8UPAUBuULcP9BoppDvH9w/TDEqmXoe3D/Ed4ZT5PzbP6VhnvRK+ds/JeB0Z3bx2z9bT46x/OHbP1rC2IXR2ts/bNyqwT7V2z+xVgwWENPbPzTiiAn40ts/Wm8nU/3R2z+Wt2kDXszbP3BItHeexds/B8RnC4HF2z+Yo32rcsPbPxDKoH8nwts/XNjthyWr2z/erbSdkqLbP6QGFilUnNs/peVjHsma2z9HxL7s+JnbP+UdUlbUk9s/pnia3MiN2z9jhqADf4rbPzwV0Io/iNs/FgGBl2iD2z8UM52CJXPbP0qjXeBNcts/cqsswndY2z/tEExkEFfbP5a4LZFUTds/e3DXSJs12z/Gm2VoVhzbP14PLKOmGNs/z+gNhmEY2z/ayHedFAzbPwWw+Hp0C9s/ndPii/MJ2z9KwcSvOf/aP85bCDhc+do/Rs68wJfn2j+D0tRJ9uPaP069si4V29o/kReBUQPW2j+izRtuWtXaP57ZznCsz9o/NNzx/9LN2j/XZOTohc3aP3YwfxlVzNo/8dv1siu92j98BJw0fbXaP3b1iKM7sNo/YRFWu1Ou2j9PaTVGIaDaP1ykUYQCndo/QR/uIyWY2j97sQtZsZXaP+O4eCX1iNo/3PZ1S++F2j9pd5l4P3LaP8ylGvmhYto/bYR4NkFa2j9GM/HzCFraP1xo2+YOVto/h8gYAOs/2j9imUdNXjXaP5d4b+2FMNo/DIK31eYu2j9OWCCKoijaP3uKe291ENo/UOGNr/L52T/37TIoBN7ZP+lWoshn3dk/euxj1GDS2T9ZMgtZy9DZP+SDwkoDy9k/PuHlHE7G2T+9BTGPvsLZPzQueC+Awtk/ssi6bdu22T8sKgSooKjZPzXkxk6rkdk/t1qwHyVw2T+U2yjBSm3ZP1veFz47bNk/HuCJ3R5r2T/e1kVpaWnZP+JCnNIzadk/GMremsho2T9YRtMzXl7ZP9baAFfuSNk/uBTVOGJI2T98lYRdd0fZP9cV7jaaRdk/M5o16dg32T/HCIoaqjTZP7ETD4WeH9k/PsR5zlMa2T+8pjLOIBPZP76GY8wLD9k/WGA1PmYD2T+SMum8tPvYP070W+WZ+Ng/4P2lh1D12D+o8PRGxfHYPy0zaEmA8dg/+vs5w9zn2D9wP0YbLOXYP4Z66m+K2dg/vkGz6G/L2D82Q9bN38HYPwejSvcwwNg/D4II1Ma42D8nolXpy6vYPyJS21bPqtg/HiwNQ36i2D9C5hF2Zp/YP3fX1fzqldg/QK6pfOOF2D/qrzonO4PYP86kD5Yfg9g/tAJa8ix82D/VAjqeFm3YPwBbanWcWNg/1XEiYStW2D/VPa9K+1XYP83aIK1OUtg/uOCh9LlN2D/SQyhH5UzYP/8fIpNeRNg/kuOsWmI92D+22Y/FkzzYP9ouQNxGPNg/b6tbaKc52D8+pma11jXYP9j30qzUKdg/5LsHNXIn2D8Kc57UhxzYP6jHa6MXHNg/9EIL33MW2D9GHsRqxfnXP9yFwHPq+Nc/qG6Ul+H41z+LfOYGLfbXP2HbcpPw69c/TgF5Bjfo1z/AN7OBZ+fXP1Z6WC1K59c/idy+FTHm1z9G0eakLtPXP7LqdUh/0dc/UPXx8YXA1z84eomtuLrXP6JPnSsnsdc/4ttovlKv1z/bpqQB1qfXP6RNF1qEn9c/4HEiYlCb1z84L5nl1ZLXP5NR5uGrhtc/o09cNHqD1z+0e1twy27XPxKcodHJbdc/B1FpDhFq1z+KHVqbd2nXP8Q2ViCCY9c/9k7YyC1i1z8zCySQYWHXP0Ra5pppXtc/TMr9h51d1z+hnKSVFFrXPziMO8JGWdc/K9gUuXhQ1z+U8HQOLVDXP+ZrlhRmTdc/49UlIn1M1z8dB5VpkTzXP1hFFc1lNNc/M7IiKfQx1z/k2MOlRivXP/RzDfNhJtc/s9Cj6bkj1z9v94Q5uQfXP5enE9P8Btc/dyGFSlYA1z8nGtnS+fnWP4euOJsd8NY/VFc/8Bjp1j8nGWf6RufWP6Z/xMyJ2NY/gSfo0BTT1j8IoqsLuNLWP8zkx1sPz9Y/uJN8NHLA1j+Ibw3e6rjWP3dvZN0Bt9Y/PDHGI9Oq1j/wz3QOmKLWPz4kfO9voNY/31o6p9if1j/A+IjpWZjWP5XfMPWdjdY/9857alSD1j/+Z1iCSIPWP7SZ8sHsftY/moVMqlx+1j8wIZWUynPWP90zeINbY9Y/+LBfu2lf1j/wazSiM17WP77WkocmXdY/8BDBlilW1j8AdyU+gVTWP4JKnOJfTtY/jjsY/gJL1j9GK5BEY0nWPwACclt9QtY/eIvu/osn1j+0WR3LxybWPwwFIsMnH9Y/OFULrc0d1j+wVMth7RvWP/3KhhplG9Y/KizZdvgZ1j9ycjsLrRTWP7Gs0f5JFNY/bkR+nZ4O1j/ROwwjgQrWP/KYXU2g/NU/FmQ3an/71T8OUmhIOfnVP7YrTFVV9dU/gF69LBvt1T/aSiKR8+vVPy+WCcpr6NU/XTHKTBXn1T91U3WQkePVP06WXV6n0tU/O0KTLsDR1T95runlYsHVPxBBWLM1vtU/fMSGa9C31T+r/nfyGLbVP1ZBnY10odU/IurTZKWd1T8r57AWdpzVPyjJ62fHm9U/hjJpF4Cb1T9/I41Ul5jVP6xBKIcAlNU/9j/6Tl6Q1T+pFoeuYYHVP6xwT4D2fdU//2dfhUx81T/jX7Zr6nbVP+aKJwtzbNU/w1QUXmtX1T/Srb3pu1bVP+rWRo+zVtU/3bTtAaBN1T/sOUQ3Vj3VPwIB4XUMN9U/l8IniD801T/YAR9ZAy/VPxvSn3N7LdU/uTRtbB4q1T9/x9bN6ijVP3M1pQErI9U/a8VklcUZ1T+ecs8pdhPVP3g2W2WcCdU/zQ/BEPAG1T+1fvQ62wTVPwdJshWT+tQ/UgJHK0P41D9+ejskJvjUPzKitsph6dQ/xXlQ+WTo1D9YdY+RUMjUP63N+87axdQ/k3NNvcHC1D/gDKF7dLnUP8mgXBi+tdQ/oiwpo0Sl1D8YNq7uvaDUP8YSpEN4nNQ/3/eHHzeS1D9w9bH9yozUPz/g/RH/idQ/gltjxk5+1D/nSXbFvHnUPwyGCHIvdNQ/GnKBRk9z1D+ysGCRkXLUPzdyemo3ctQ/jcyo3Plj1D9zSJrael/UP7/k8f5AXNQ/QvlX39RR1D+AvYZECE3UP2KdXKuzRdQ/7nvaPY5B1D8ZrOxGFUHUP6Qo0N7SPtQ/5HtaTzo71D+tUrIH1zbUP3SafQ3lNdQ/wWWDQHY01D9MVzNY2C/UPz5IBilOL9Q/rpaHCiYu1D/y0ps6oB/UP2YzoEG3FdQ/Ydzmte0O1D8MChjgqAzUP0XMyy5PCNQ/1sqzc9v80z/DQ1NYW/jTP0yWBoLo99M/FVGTIU710z8taFoZRu7TP+X77aAO6tM/3didAiHo0z8Aq5t6AefTPyf/ebSW3dM/K/UcuJLb0z/twsZlstnTP0Sy8Mta19M/CTWoHi7X0z8XyvZbY9LTP5XlmQ/3xdM/aouMQfC30z8cOd4e9bDTP7ihkoy2sNM/tnyrzFCw0z9aPblEO7DTP0wE0kfertM/Q2cBcryt0z9ak0Q5zKzTP4beoA6Lp9M/Smoi5Yen0z8lHrk+f6TTP+kMzI40n9M/TaVmofKe0z8LncA8sJjTP/0yZyDHlNM/zv1l2CCT0z9KQJJy7JLTPwWDcjoMj9M/shQHlyCI0z9vQRSeYIfTP3ylp5wzgdM/PWkSEUaA0z/be47SoH3TP6gM8it8c9M/KJs5/xJj0z/Q5LTB72HTP/vQhCv5X9M/CXA4+xxS0z8QmQhQ2U3TPxNAG4QzS9M/NDYlbWtK0z/YYs5roETTP7mvY1m5QtM/BB1rTndB0z/bgNw5JTTTPyi7mva0LtM/4Bxuuncq0z8zR0BQ6BjTP0x7hAtSGNM/CccZczEX0z/pjyW+3g7TP/hhYgZ6DtM/BRqRjLoN0z+CgpLPGQvTP4MHzNJ1CdM/a5dtoc8C0z/R4cEZc/zSP21SL8r8+9I/35DucSv30j9SP4Do6PHSP0te3hHO7dI/0RSPQSbm0j9GBFak/+LSP57DEpVh2tI/bLBtI3fX0j+wfbzoD9PSP+EGPj/60dI/BhQ559jP0j84Nl+GtszSP9YVyyeGyNI/AHuIK0fG0j/Gm9HfX77SPwvDgNw3u9I/78QsvFK00j/uQXodgLPSPz4PuZPrsdI/j34LHQGt0j+duxd/5qrSP5go0if4qdI/vl9okOuf0j+96f2SEpPSPxOkvfUtkNI/itLS2y6L0j+QWIsG4onSP59b0a6OiNI/E9cS6hmG0j/jVI/eboXSP3bXvYRvgtI/oDyOkBGB0j+h3VH+FnbSP3enCYO8c9I/kh4VJmRs0j+iV9hcSWzSP7DRF571YtI/N8p/4m5S0j+m9LA18lDSP2XIT/B2UNI/oG52ZQRN0j8+/JRdi0rSP2YCu6cdSNI/k/x+7T1F0j//q/Ahfz3SPzhWEjOcNtI/+h66B3010j/weIyTfzTSPyAwV0qEMtI/sWQIrI4v0j9n4DXkbivSP4SvR9tTJtI/AOr537kj0j9C5yPc7BfSPyUX0EVrF9I/ESkuEAIX0j+YMGbIQhbSP2xjaEzzFNI/KhyxNWMR0j+5dt4Z+BDSP3Zv2g+eENI/1rhNpHMP0j8gIZPbmQrSPzpasRU2B9I/TsTMzoMD0j8VKIUg1/vRP3bNUhSi+tE/Bm+xYn360T8jPZhWO/HRP23aHTa38NE/NUyAaEXX0T9Id+6+JdfRP5tFT1kr1NE/DMzHA8PR0T97Khsmd9DRPw2J4w/yydE/oLIn6/rI0T8EmAQ4VcjRP7onAQWtxNE/ejyuv4XC0T9nOzTiAcLRP0i86Oa8wdE/VktnlGjB0T9HD84vW77RPzaGKDrltdE/qGtr2G+10T8W7OMCh7DRP66T7Rrxr9E/yl9fRMKr0T/2taP5mZrRP4aacS7PkNE/ZhDQ2jyQ0T8JKdXEVo7RP7TSkQyTitE/K2QsZ2+I0T8/snNxGIfRP7ZC+mRDgtE/VPkng2aB0T99hHGiI2rRP9/ABVV6WNE/W9/FVOFT0T9oQ1lTtE3RP0GFLwRjStE/TyDiojdF0T89WftEKELRPyxfHolTQdE/zscyjuM40T8DW9sTITfRPxpuzxK1K9E/ne7AKUEp0T8/ZfnVPCnRP2KV7tELJdE/hdZfSKkh0T/iBAxt5R7RP42ykTsSHtE/xexcRfwb0T+KEFQWUBvRPzdJ1pZ/GtE/cLGCHQ8W0T9wIiB9mA/RPwOrQC9QCdE/8WYzpfoA0T8qiZHKufnQP7V1p+xR99A/KBg0htfr0D/A4LuSAunQP1BBKRK/5tA/I9VOSD/e0D9jkKhJkdnQPyxeyAXQ2NA/9mDhS7nX0D/JEJteVtfQP3biodDzxdA/8vfHzmbE0D/Bt6ZFaMDQPzNi+5UCtdA/rP+zare00D+TutDcS7HQP3w7YUAxrdA/wRvvIhWs0D+AdM4sGanQPzrY48kjpNA/pSjRutig0D+fTa0HI6DQP7f1zDOzndA/rCIBB9Kc0D/aYdfsBJjQP4XnMJ4Lk9A/R2lSLRKR0D9bueAS3I3QP5bIAdNbh9A/esCWQTeH0D8SfmkWz4XQPziUeof9hNA/ECRnUJGE0D91Eu7uMYPQP/PgccBcetA/4b6c/St50D/X76wW/XXQP/RadjA1ddA/XS3V14Nx0D96ejhH9WvQP5Q6Oa7Da9A/Eib6cNhj0D+j1bc2zmLQPxgTBE/mVtA/rE0ELiZW0D9aI0/J6lPQP3wcPgt4UNA/Cf6NN+ZO0D+SBXrPokrQP4b6bXEMRtA/cXmbW4JD0D+gIs4UCDzQP9wJ3cJGO9A/sRR2xrg40D8eHW1R7DXQP6BXVZLpLtA/N0isuH0u0D/NNOZYkyzQP5oRqL5vLNA/AsabAj4r0D/GLF28fSjQP8mxH2gYJdA/bf70IgAf0D8WyCf9KB7QPwAb634wGdA/apP0PLkX0D9EJL3CnxXQPyjK9DfgFNA/AZU0ekoS0D9zCXP6+w7QP21WpwnuDtA/MsyGxmUN0D/J5tTUxQTQPwAAAAAAANA/jlbK9s79zz8vWnlqsv3PP5PPbpZS/M8/cW+hG3j2zz9E7+sAw+vPP3eHZm9I4s8/hq737I/Izz82qWar0sPPPxx1W7/swM8/HrdSppW9zz+EfLlgA7rPP+REFMNwts8/pOL7+hOwzz8wdvkZyazPP7Ky72Zjp88/df2FTCCmzz/0G0qX/JvPP+cfKZQYk88/LZlF2t2Szz+Gieet+I3PP+p0P69IiM8/CXCelEeDzz+RvFau7nLPP/FjMvd1ac8/bKBBTk1ezz8aGbdkG1DPP8PPoB1HPs8/UIgTp3k4zz+0LS4FkDDPPwlBHOLeJ88/XJcwz9Aczz+1HsMFzgnPP6khOXeFB88/IPXooKMCzz/YOC6psv3OPwAhw38C/M4/W7xFEEH2zj81kiKAhPLOP1O95mmB3M4/Ch8doR7Xzj9mpTTXvNXOP+wtr2W8yc4/dzq/wKbJzj/mHyndN8nOPxRJa/gMu84/MWsdrU60zj/fsV07v6rOP1B8Y+70qM4/+72VMIikzj8TJeflLKPOP/JkgXf1mM4/fDxhw/t8zj+ECDLvanrOP0QJkCedds4/qkDQAlJxzj/DERIUQGvOP6Uva7Y3Xs4/6zkOIGFPzj+hLTm/gD3OPwrKATv2LM4/nGiKEooTzj+mtzWlmQfOP87taTwNB84/HYLPvEj7zT8dpyI91+PNP/79iVkN080/IvSjSXjOzT/fIrzt5cbNP5bsGNtLwc0/7+kfgZWczT+XduXQbYTNP8O6RaU3cc0/EKExnj9wzT/aSeuI71/NP5NYYj6RSc0/fJMm5uBHzT8J+S4Sy0fNP9ABeVrtRs0/L4/UQhJEzT9Ws/GZEULNPxLNd0A2Qc0/WB5uR7Q9zT8YpRigLDXNP+xuEorDLs0/Pmy034QpzT9ZvrRFbhbNPxpir06SCc0/oqd0tJIEzT+0cz4nQgTNP0PeM5Eg/Mw/rrdWRub7zD9PI87+kPvMP02mhMM2+cw/RIdRq8f4zD8MOkvPB/LMP/urcX3y7Mw/76dMziXlzD/s7i2o0NnMPygE0R9K18w/89lKPwvIzD+dHCABrMHMP46H6YQRsMw/1V51OW2azD+eZpnuApjMP3VIaTMglMw/zE1hD7CJzD/WohBIE33MPwMLTucEecw/Adh2lv1zzD+Z973nLmvMPxNoDa2wasw/CYBJoDxpzD+y7vz7vGTMP0I+b4HAXsw/nesuYjVczD+l5Wn8p1vMP4UtBF2lWcw/zr1OxSlVzD8Z8CycSFLMP3JolYERQMw/Nsxhkqk9zD8iyxEQXTnMP92qOpchL8w/ynZS3/EmzD9/k0BfhyXMP5G+BEhfCsw/GGZzZegJzD+8/u0BXezLP+wSivLi68s/GpqSM2vlyz/kTaC+XOHLP39D9U493cs/Jxj4kAPdyz9BvObA79nLP0iCLOgWyss/IW6h/2vGyz/C9Shcj8LLP9FptT7nucs/wn7XeIyxyz9mnpds7p/LP6JNw+w0ncs/cTS1YPGRyz9E40W6sY3LPxEbDdgFh8s/HJ1TxkiByz/16nwsv3vLPyluWHP5eMs/1pKhMfJ1yz/O4jliQ2zLP1wa47bCY8s/c3VMCYReyz+8JXVVK1LLP0vfcApnSss//LruFlFGyz+mDEmaeTrLP9jL/hanNcs/iPIohVczyz+jaR8f8zDLPxQHaAyHJss/DNHiwsEiyz/0I5+K5BrLP8vKpki0F8s/m3invIbyyj8o81cU697KP39BpAGp3co/mfkl0Tjcyj94QcrsyMHKP2KN+5qawMo/fSlvEPyyyj+8ppOukavKP47P0Ztrp8o/0848uoKmyj9kPnz3UKTKP7NZBVNMo8o/rATkMsKgyj9w90fWoJrKP41B8pE+lMo/68DXZtOQyj/vr230YobKP/JC9/qMg8o/Dk2hP6mAyj9LJ0OqcHjKP4F974wBdMo/nqvSw/xvyj/Lk2IGNWPKPxR0cdfvYso/oZekBiBbyj/aUMfpP1nKP9n6AUolTso/f3Yn6/U/yj+enPRJLT7KPxzjvXxIHso/NQc/ayIeyj/8eYXLSxrKP9FekPu1GMo/WQbqDzMNyj+EGR+a/AXKP9VIGRluBco/8eJDIEUDyj8NGtIWy/zJP5ZJKXkQ+sk/1f5yGFH0yT+iool3yebJP2B6ImCZ5Mk/BuSX7QbSyT9gur6HOtDJP8ued7D0y8k/lnE/H+bEyT8MiZsVQcPJP92SSJ5MvMk/fDyLHjOpyT/W5vXj05zJP2lmCdFqmMk/PjvStFqUyT+XfIUn4ZLJP9IJgCwmiMk/dcUbwDOGyT+alufoyYHJP8rB6Tesfck/jvr5ZD1kyT/ZO66NAlLJP6yMH1LnRMk/NvAt6FlCyT+NnD1DPDrJP30Wf6dGOck/3TC2gjkpyT/uRlwN+yfJP1lz+t2fIsk/lFRIJ4IgyT9L4FaCTCDJPxwU1yysH8k/syj/YaocyT/KDjp4UA/JP9+Qyc+tA8k/lC+xQNcByT/qbBw/wfbIPytqwktv5cg/7reFzVHeyD9O6+CnRM7IP4TADZodzsg/CAM9f9vNyD9yG/5r4b/IPyBtZGKov8g/ULD0Wn+9yD/FI7lIFrrIP1xJCUJ0r8g/sAuBC1KqyD8b2Za7tqLIP1jqbfSwnsg/ctkIhmOdyD8/5mJPpJvIP71ms9e0k8g/U2mQbVWFyD8GFoo0bX/IP1XjSpkyecg//51Qs7dgyD9IGKoEAlvIP5yKIpX6Wsg/VrycEH1JyD9WO3psoUXIPxZTRitZP8g/Qb7+hx8TyD8u+LA3qvzHP4wQ2gYA+8c/FCgQXH/wxz/itcybI+jHP1l2Hb8y1cc/4QLsfYzUxz8jpnkEjdLHP5nj0v2H0Mc/3SCRsBPJxz9+VvwKSbLHP5z+Rbeyqcc/6Hqu8J+nxz+mHkeGbKbHPwrO6qqqmsc/c4djkheWxz/pgw5HCpbHP8hwOXmxksc/1+ceVJGKxz8wMchs+HXHP4hLJlgwcsc/3gmALUttxz8Xkt47m2rHP5XwqiUiXsc/4NexGh5Fxz/xU3Yt6kLHP75vg/CdPsc/q2OwuR45xz/srKLvETnHP4a4UsTrN8c/379GyVw2xz+QXRlA7jXHP+YgNkHlMsc/if0b/Agxxz/cB7f1DjDHPyH0BU8OL8c/NyxCN5gixz+7fFz0PR7HP6WSH4gjHMc/d4lnmgIKxz+b4lGxiP3GP6oscp6d68Y/EhkI0Jfoxj+wD7wwStbGP4oaDDqI0sY/YV3nb9q9xj8UC2Nf97zGP3/z1giaucY/J2aOBNm0xj98+HG1x6vGPyr5d8ZOosY/YJz4ISibxj/deUtC9ZnGP1Zz8v6Vl8Y/Ff6hHPKWxj+Ae5qr2JPGP0Jc0ZfygsY/dUMRWih8xj/ynu545nDGP2h+LZa/bsY/zXTPfL5txj846Xq9G23GP/KpkxcIZ8Y/qHvUx5Jlxj+s7APUiWDGP7b3ZJ/yUcY/ktxX6kQ+xj/zcuHKFTrGP5I+YO/UNMY/xu9MNeoyxj/z994hvS/GP+Mipb8xKcY/bg+o2eglxj/9AO4xTSPGP7trTPF4H8Y/cI1mpYQZxj+3nqBSfhnGPzfFcChNGcY/Uk6rFSMTxj+2Llm/lw7GP4KNmE6sCcY/O0Ml8DbvxT/HzuDaxefFP15ELzED5sU/904UvgHhxT/azJi3J97FPxSTfEsO1sU/kImbaffRxT9oTDHd5c/FP9O/x0hNzsU/7bguKz7NxT9WNPRUKcvFP7WWk6Jmx8U/5t6cgh7AxT894OpSPb/FPy5BiThdu8U/lK2pABy6xT9Y1fFtuK7FP8N9JxicqcU/+vHcoTaoxT/uAiKWpqfFPzyEjYTYpsU/uYaT4H+exT8MYf4Qd4rFP/tP1NwFf8U/2lwEKLd9xT9+ih7aeXLFP2jqbD5yb8U/Bka9bOtqxT+hzEj+VWDFP/pFLFI/UMU/jLk0zd5KxT9JE+22BErFPzCmt0TQRsU/qLOETQVCxT9OYs47Zy7FP9ElTdjGLMU/0611puspxT+IebVosRfFP75a8zyfFcU/ln5dZagMxT9Ma5a+ZQTFP0yCbN9A/cQ/V3u5R2b5xD9c911wSffEPwApdb/G8sQ/OJcMTwnyxD9UWitMcu/EPwQmj2bu2sQ/2PI+lenMxD8vAhCjmszEP5pkLN59ysQ/br0110HKxD/I26/as8nEPzQ5K9SpusQ/KwNyvTm5xD8PYvW0tLTEP0eW2G16rcQ/F7fOkW6qxD8kY9ApiqfEP0aSfs0CpcQ/H8vgQ2CgxD/WfWDEx5LEP3UU3qR0kMQ/eRRCGfd+xD88FZe7u3vEP2SRuByue8Q/t4RvprF5xD9H/VANnXXEP5aUaD6oYcQ/0i5joRZexD9AN1+c5F3EP9DJVaOMVcQ//CoGcSFUxD97jNswVjDEP38bV9wuJsQ/IXaZ75YjxD8SQFkMcSDEP0AR2l5KHsQ/xIezTTMexD8XwuliLBrEP07h4a6AGMQ/URTg608RxD9G1E82KAzEPxpOmZtvBMQ/rHsuE8H4wz+DZC4mfvDDP9NdK7vG6cM/5cTxWEDcwz/fd8aVd9DDP5C6mg52ycM/uuStc4LIwz8s5YGz0MHDP5ZACz94scM/vImLr3ewwz8nIApD9K3DP2YvSjXUrcM/WykUwtulwz+R8312GaXDP6pAQA7wo8M/RqjXfpKhwz8RLujuj5/DP1TKFdybmMM//0tSUEOYwz/TNFn4QpXDP642mvIVg8M/PeZQ/iZ/wz9QLhK9QXnDP9F49uJxdMM/afiTCy5qwz+6Q8KrcGHDP9T6cAv8WsM//Vidqctawz9LCbgUDVrDPytNr7W8UMM/XOtvL4dCwz+hHZuUbkHDP7q0n92BQMM/Us+2Zqg7wz8jlnseLybDP140Dc5MHsM/u2Q+VucOwz/1Y4mKFQ7DPwX+IVIbCcM/aFX68soBwz9DDHJaogHDP6rGctox/8I/38suLED6wj89xfHNBPTCP+zAztBl8cI/mrWzr4Xnwj+yq1aQKdLCP6E9ygiwz8I/1t/BOIDKwj90Mi4hCsLCP3AewkiMtsI/gNuXEzuxwj/qUlgvI7HCPwA8ZLo3rsI/1BSrBBekwj/Dt4A1pp7CP7B4JWK1jcI/HLmeg4+Kwj/dkgs7NH/CP1NWhkLad8I/kt/wtFR0wj8YZZBccmzCP6PSSMf1aMI/fOLyPJVjwj8PBtUASWPCPy8g/hmaXcI/beUwlixZwj9kvIsK7FfCPyb2lEmCUcI/rcm3XJRQwj8m8GsBsU7CP7HzEgICTcI/vuQ8aGFLwj8TeQ1gI0fCP2nIPqChM8I/PHLs5MEywj/rqspDiSvCP7psf2XoKsI/LUZKYw4jwj94BojoaR7CPzQPN1tNG8I/k/ASUrYFwj/NEX/6sgDCP0zLdYdO98E/f6K0q5f1wT+g0ttz5uTBPy89xkYs48E/yERrwWLfwT8h6kvhi9fBP2QC5Ut0ysE/bjG1ILHIwT96sdeLBsjBP8dPCsvEusE/L5F0jVuzwT/nW6TqxbLBP9BBHfPWqcE/iRpPe3+gwT9H9O5s6JbBPx5JKW+ehsE/ObhXUiWEwT8u0+jyw3jBP0y7BUwIaME/TDX+/yJhwT/L8mbu0FnBP4vWAiFvV8E/Ujf9BTVWwT/2GMVntFLBP2PueisCQ8E/hajq+e0/wT8y7yqIXjbBP8Yi7G3RL8E/vlNFFDofwT8e5FE/6hXBP4pljvf3EcE/6fLlS4gOwT9m3a78Gg7BP6Pl6enW/MA/fmQzupX7wD9ddM27ZfvAP/8QYZPj9MA/rgDctU/qwD9LVvDcNejAP/37UzyD5cA/lJDLpVjhwD+o8Hvu2NXAP9M6LEBbz8A/sgs5yIG9wD8hw+pUYL3AP0ZTyUJst8A/hVK7LBSzwD/IrL9m96vAP5ZMt6yHlsA/STrJ5WaQwD+aBIW/84vAP4gnge5HgcA/RTfV8yJ1wD8g5y9MHHTAP/IUvw/qbsA/rXRIQP1twD+gZ5pN02nAP3fi/a6LX8A/I7c9eQxawD8HwaBRpULAP1Y3iYukQMA//bB2fIE+wD/I0hltVC3AP7buzOdIJcA/4GTEkiUkwD9htj2y2x3AP0AHxMkQF8A/If25W+cVwD/vlY/Z3/a/PzID6adezL8/0GiWQJ29vz8ATvTk1re/P73BzLwytr8/IxXl2iCvvz/ahshn/Z+/P8BkYvjhh78/FHZlIceAvz/SBE8/9mO/P5vtIvUrUL8/eRYTC5tJvz8oQv1+10a/P/MVGScCOL8/WtPLV2Etvz8l0S3lDCa/P1VcNJ9VGL8/vRNysH79vj9hAQVErPG+P9M3FPZg1r4/jlmL0svPvj+pX3+Y2Mq+PySIYek2v74/oADp3iylvj+yJHH0h5a+P2CmMuuah74/bFZXMDNtvj9Gv3GqmVu+P6i9NSUaWr4/nfnI8h1Yvj9oes0XaVW+P6dX4KkUO74/xMpmmqk6vj8KHIvZEjq+P4JEVNbvOL4/VA2g8v8Qvj9csHm5bfa9P8sd47Yw5b0/zATQ44jZvT8NJSLaWNK9Pz7hrpcUyr0/PD2SMYe0vT9at+dYaq29P/pBFIV6l70/FrwejFyXvT+y91q/vYy9PzCTooK8f70/I+uKyJluvT+BqLEFyEW9P5tUDg9cQ70/knd4kmcsvT8MC3L3wCW9P9tA/vWxEr0/Rst1Yqz5vD99duBeiee8P/h2jUVz3rw/rO/aJte7vD+at44TnaO8P41hbrnqobw/LCJUsiaSvD+EoRGaS4u8Pwh46PCWiLw/F1ufstV+vD/P4wXPQ3i8P+ac+i3qbbw/v54C63drvD+BhIc+FmG8P+8TddpiVLw/411Y9FNHvD+7hsmuVTa8PwSJQMlqILw/3c2QgIoQvD+dCMTmQQy8P9OS75vACbw/8Lo/XSsBvD8OD2hIWP27Pydf0/qQ9Ls/xg/kjKDyuz9U+mj93d67P6G8QvDO0rs/q2IgQvLLuz/Y0yZA6K+7P6xHzLonmbs/7PFGF/B6uz/rZ2E7Dna7PwnK4HUsYLs/04gL0wZGuz8htA9KAES7Py5ZO6jJLrs/PqgBR2Ycuz/CWPmCqhq7P5i5piPsErs/thwzwrcGuz+CALFWAf+6P4ICWje4zbo/Fwujn0DGuj8JZqV5Yr66PypRz6qqqro/fVSFPzGduj+aABEUl5m6P43QNW4WmLo/IDKJHJmFuj+IJEe6XlO6Pw97Tu+jULo/CCrck0RNuj/qjiYXGkG6P4yjchO1NLo/jm5JdZYluj9T4v7QQRi6P3J6OyMBE7o/4Eb9B+4Guj8qzhUJ1AC6PxKUeINj67k/xPyChWbquT889vRPN+K5P6ggmtQrwLk/uQxwY+m6uT9BWW4t97C5P1k6DwW0r7k/sqtoKsakuT8gjW0PR4K5Pya8/zakfbk/0zNZdXh1uT/ZNUROhHG5Pyb0COMfZbk/7jTEujJduT9e6X8wJU+5P6TFsLoCR7k/hzssT4Y8uT+icTlCLDm5P1ibi2/LL7k/kAXKg7sOuT8ltWr0/gi5P14x6ceUA7k/CHFBFFUBuT/yuwk3wua4P+v0RXsq0rg/O86IqajOuD+DQVUplsu4P0grrAdUx7g/CPGB1N+vuD/ShElPGqy4P7h90vLDjbg/oZJdop+NuD/4YSXsgIe4P9/qZCC7gbg/RWL1lMtwuD/LG1BNyl+4P16QeOvYXrg/m92Jg9NcuD/sKDntSke4P7D1IqEIRbg/VzXeYKNBuD8UJNyCqjO4Pyi6YH9BKrg/3yOIowUJuD8tOj1erfu3PxyNk2go+rc/btaUOC/ttz90xTmozOa3PyNp0oWT1rc/swcLhGy7tz9cA8xVG7e3P+Hh8cFvorc/2XKJx+eMtz883pC4Wna3P3yZ1tXFbrc/sH1pV8Zitz9Glj3if0a3PyCD5P//D7c/OJQCVDYBtz86NxMyHP+2P70tBWLh/bY/nph6wPH6tj+4K6x+Yum2PzkpYSm4v7Y/WxRTsKG3tj9l3X7DBLG2P9ujChKhqbY/HIVyQuuYtj+jinUCx5K2P+QFas9ygrY/Il3xbtOBtj9FHu8zQWS2P5F61ozIS7Y/VjA/sh/7tT9Sty0tTuy1P60Sapak47U/FYvWxwfhtT9gSqqc2dq1P+bco3+N2bU/J8ACaR6/tT+bIM7p0K61P0odX+G2lLU/O+StjY2NtT9Iol2mooi1P81b4ZSzW7U/LMSG0o5HtT/hUULrwyy1P6GVLzwzILU/lJJnXA0QtT/fzA/ra+e0Px8AjojkzrQ/ZtXeHd2stD+A/LRwqoy0P2Ja100JhrQ/wL2V4q90tD8pA0U8smq0P1ZxUY8nYLQ/PcVHzr1ctD8InDTrVli0PyoSi1DXV7Q/u5AMDjZCtD8WG7WypCu0P06CS4g4JLQ/mJibqTggtD8lfGQ0KBq0P8Cuy5Xm+7M/7JnNtmbxsz+e3c+h+9azP0JE7+5vsrM/lCWo1Z+asz+DyRNcOpOzP3EvxPwpjbM/BcgYYxVrsz+H7Q40nWCzP1r54fehWLM/J1M836xQsz/l3dusti2zP84+nVemK7M/hP45+aodsz8CCuEQKxWzP7TfwezxBLM/TLwPQUbZsj9ilAIzKJiyP+nHrzOPibI/UvTkRLmAsj/vyrHiu2CyP7DP8KuYX7I/Quz/7Yg7sj9Oo5poCC2yP4tYSKBIDrI/IgMh49YHsj//4QE5ruyxP+GjTlRA57E/3bmIHI/TsT/EpHNSnMKxP1ilUZkLqbE/7bOZ7i2YsT/9MmJnDYyxPxV6IFmQi7E/rVfyaFOLsT+/ntm0ZYexP1AB8fDeVbE/QdPv0m8esT+YuT9lnAmxPwQpPYMp8rA/+cBvO2TusD9cgijoCsCwPyfPoBBmu7A/5j1V3HSfsD/iX/rRBp2wP8N947F/k7A/sSs0bxhusD+1bB07sGywPz45uKPgarA/1TRmkAZpsD9IHVSTPVGwPw6E/4wNP7A/we6yJqg2sD9iQaKQciWwP5RHvmm2BrA//icqHPv5rz8rlbGO3LuvPwr2E1lhtq8/DABseC6Xrz8urxWaD3uvPxMyPGgJQa8/X5qytEvLrj92gehL456uP91eGMkTiq4/m3XJZjV+rj/FN1Ghc2SuP6ssZ77lW64/bxPcsr1Crj/pX1lEsAyuP4RHj+be+K0/9n8gjYKYrT+yI/72r4utPwg+1vE3WK0/XP7m9jAKrT8LKW2YwrasP81rF9xQpqw/Tp1Hxf+drD8U8SFj2JqsP/CV9ATGmaw/aB3UzPqXrD/6PlmHXFasP90vx3Tm86s/VITCwRHtqz9L8FkhZJWrP1VgG8W/Nas/ftfxLZ0nqz+kDx7smxurPwTB04tphKo/KC2I++Jvqj9sDh/3/h2qP/xp+80/F6o/G+msGZDyqT8IAqu9ZPCpP0jJf4Vrtak/+nhJnMyxqT+ncxXwCnupPxJ8jGhtKak/gqBVxrwXqT8cPU9b4gqpP9ayqt6Q+Kg/vpAGnhjlqD9+/YJwFL+oP1a1BYSNpKg/cP25PUicqD+Jzy56hiuoPwWATOoJJKg/cubiZQkPqD+TZ7o1ct+nP285Ce9zf6c/AbrNqj9hpz/5O6SwPFynP6lYD/iwWac/mar5B1gGpz/efmRuisSmPw4LUHuTpKY/rfnNGr55pj9wBMaOjxymP+4ulrmnEaY/g+9q8ye8pT/O25z3dLalP9BI9puYlKU/QsX+04lbpT/seSXqOMekPzuWt15sxaQ/rS6S+7e5pD/Slmu4ZZOkP+fwJ6vkiqQ/Q97WREREpD8fqCOcp9WjPwdd4EAxw6M/eVZhWqxNoz+hP6Vsx0ujPwfgjAElQ6M/N78JWD4Roz8wX230yQSjPyi5KuWB/KI/I5YmQ5vFoj/iX8hOpq+iP/40zXZnn6I/kKeQ4/p7oj+ENBNme2iiPwXSK4nfWaI/tEXOkUA7oj9h7OAHtxqiP7E5E4tCCKI/hvkZONPNoT/f937S6IihPy58JPUDdqA/e5N1LLVtoD8eLJBW/VWgP3hrbR4m4Z8/toevAZmunj+M3GdeFJmeP4xirg49d54/SO/IFlEsnj/TXKvcCxWdP4PrtCv5w5w/l2OU0GaonD+Id80jt5GcP4ZdjHC3hZw/LAQRYJNgnD9UXkjS8FCcP7QnvcINN5w/JOKk70Dkmz/3yPmyWr+bP/KzaLWUMJs/Wljt4kFomT/mbsSMkamXPxE4+YHwx5U/GvrfvadalT+i8FFu/yuVP87LoqWr6pQ/EHo5Gq4vlD8VGovUol+TP0jfEOFZJpM/peTv+8u3kj/UM4v42OKQP67odvlNlo8/6yMH2/V6jj/OKnPAnEONPwsSIUVLBIo/e7T6I3rEiT9XVjMfUruJPyT1R1xsSIc/pY9CV/fPhj8ElPq5t1eGPyEewmYrMIY/AAAAAAAAgD9z+fhMQl59Pw==\",\"dtype\":\"float64\",\"order\":\"little\",\"shape\":[1946]},\"release_year\":[2005,1995,2009,2015,1992,1985,1994,2011,1977,1996,2015,1996,2010,2001,2006,2012,2010,2011,1996,1998,2015,2014,1995,2005,2009,2003,1988,2008,2010,2006,1998,1991,2001,2004,2011,2000,1986,1997,2011,1999,2010,2011,2013,2007,1999,2009,2006,2013,1992,2014,2009,2009,1996,2015,2015,1996,1983,1992,2009,2013,2013,1978,2014,2014,2001,2015,2015,1996,2014,2005,1995,1944,2000,2006,1995,2012,2010,2010,1998,2011,2008,2007,2005,2011,2009,2004,2009,1998,1979,2011,2006,2004,1988,2009,1991,1994,2011,1980,2004,2010,2014,2007,2015,2007,2001,2002,2004,1984,2013,1990,2014,1994,1997,1992,2004,2001,2000,1989,2010,2010,2002,2000,2010,1999,2002,2014,1963,2010,2008,2013,1968,2015,2010,1980,2003,1980,2008,1990,1995,2014,2004,1982,2012,1995,1975,2012,2000,2012,1971,1972,2011,2008,2014,2015,1992,2003,2001,2015,1988,1996,2004,2010,2009,2013,2013,1996,2008,1991,2010,2013,1982,2002,2010,2008,2012,1999,1984,1995,2006,2009,2005,1987,2001,2002,1996,1998,2010,1992,2013,1985,2012,1991,2005,2009,2014,2005,2005,1999,2000,1984,2012,1989,1991,1970,1982,2002,2005,2000,1988,1989,1996,2004,2001,2010,2009,2009,2007,1994,1995,2014,2010,2001,2004,2005,1994,2011,2003,2014,2008,2014,2012,2015,1981,1991,1998,1999,1998,2014,1993,2011,1982,2008,2009,2005,2003,2015,1986,2004,2010,2002,1988,2008,2011,2003,2014,1973,1999,2007,2009,2009,2011,1932,1995,2013,2011,1999,1993,2005,2009,2012,2006,2005,2003,2010,1997,1991,2009,2014,2003,2003,2013,2000,1997,2014,2014,1989,2008,2007,2015,1995,1998,2003,2001,2000,2006,2000,2008,1980,2011,1939,1943,2015,2009,2007,2015,1996,2006,2006,1980,1984,2013,1994,2007,2008,2014,2012,2010,2009,1990,2013,1990,1984,2001,1987,1999,2008,2009,1960,2008,1988,2014,2011,2001,1986,2014,2009,2007,1954,2008,2006,2015,2013,2004,2015,1980,2012,2013,1950,1990,2001,1987,1987,2009,2000,2012,1998,1999,1984,2015,1992,2008,2013,1957,1988,2012,1976,2012,2007,2008,1981,1990,2012,1971,2014,1980,2007,2009,1993,2006,2013,1977,2000,1995,1961,1960,2006,1997,2009,1998,2012,1993,1993,2006,2006,1943,2002,2005,2001,1989,2005,1998,1998,1973,2011,1981,2005,1990,1987,1959,1995,2009,1999,2000,2015,2013,1993,2008,2010,1985,1994,1997,2009,2008,2011,2013,1999,2005,1979,2012,1986,1987,2000,1932,2004,1997,1995,1987,2003,2010,2007,1997,1943,2001,2014,1979,1949,1997,2013,2009,2005,2007,1981,2013,2010,2011,2014,1999,2000,2010,2013,2014,2010,1993,1966,2001,1994,1941,2005,2012,2009,2009,1986,2005,1996,1999,1975,1996,1954,2005,2003,2011,1992,1999,1990,2009,2012,2008,2004,1993,1988,1983,2007,1999,1989,2002,2011,2008,1956,2010,2001,2001,2008,1991,1995,2003,1972,1993,2012,1986,2013,1999,1999,2012,1992,2002,1985,1997,1997,2000,1989,2013,1993,2005,2010,1992,2009,2010,1990,1996,2009,2002,2014,1997,2015,1994,1982,2014,2001,1989,1933,2014,2013,1999,2007,2003,1984,1981,2002,2013,1983,2005,1999,1984,2010,1971,1999,2011,1992,2003,1993,2000,1993,2002,2008,2010,2014,1972,1982,2015,2010,2008,1987,1999,1939,2005,2009,2010,2012,2014,2015,2007,2002,2000,2007,1992,2012,1999,1987,2011,2006,2001,1981,1994,1986,2000,2010,2005,2006,1985,2009,2010,2004,1995,2009,2012,1997,1958,2015,1971,1997,2010,2013,2010,1941,2010,2013,2006,2002,1983,2010,1995,1997,2011,1998,2006,2009,2007,1995,1940,2010,2011,2007,1991,1997,2006,2014,1997,1998,1945,2014,2013,1997,1987,2006,2005,2012,2008,2005,1979,2008,1986,1996,1934,2006,2000,1960,2010,2008,1987,2006,2007,2010,1993,2007,2014,2010,2002,2002,1983,1995,2004,2008,2000,2008,1983,1997,1992,1995,2008,1979,2008,2008,1999,1995,1993,1979,2009,2008,2012,1989,1985,1994,2014,1999,2011,2012,2006,2013,2000,1977,2010,2010,2008,2013,2004,1967,1997,1991,1983,2002,1992,1991,2013,2015,1998,2009,2011,2007,2012,2011,1997,2010,2010,2007,1995,2003,2012,2000,1978,2014,2006,2012,1992,2010,2008,1998,2014,1998,2007,2014,1993,2002,2009,1997,2012,1989,2006,2009,2005,1983,1980,1976,1987,1990,1999,2005,1995,1967,1984,2011,2008,1980,2001,1991,2013,1995,2012,1990,1995,1995,2002,1996,1986,1989,2007,1975,2005,1988,2010,2011,2001,2011,2014,2012,2004,1972,1999,1982,2007,2000,1988,1991,2001,1992,1996,2005,1992,2001,2005,1994,1983,2012,1965,1983,1978,1995,2000,2015,2014,1990,2002,1985,1992,2011,2006,1997,1996,1993,2003,2005,1991,2002,1988,2009,1934,1991,2004,2011,2012,2004,1986,2003,1997,2001,1991,1992,2015,2005,2007,2013,2015,2006,2012,2015,1982,2004,1999,2006,1988,1988,1998,1990,2010,2005,1987,2005,1979,1988,2010,2007,2010,2001,1996,2003,1980,1960,2005,1996,2013,2002,2008,1964,1948,2011,1994,1998,1993,1995,1999,2012,1999,1985,2010,2011,2009,1944,2003,1993,1999,1973,1977,1999,2011,2009,1997,2003,2004,1995,2005,1980,1995,2002,2007,1980,2015,1998,1996,1980,1997,1995,1983,1994,2012,1932,1989,2009,2000,1998,1997,1984,2006,2011,1975,1999,2013,1991,1965,2004,1979,2015,1998,2015,1984,2002,1990,1994,2003,2013,2009,2013,2005,1991,2008,2014,1997,2011,1997,2008,1987,1947,2008,1980,2009,2004,1993,2006,2001,1945,1998,2013,2007,2002,1998,1959,2001,1996,1985,2005,1993,2009,2000,2003,1998,1971,1971,1990,1991,1984,2002,1998,1997,2002,1998,2013,1997,2009,2004,1931,1991,2010,2011,1997,2000,2001,2006,2009,2009,1975,2002,1991,1997,1996,1994,2005,2010,1996,2014,2003,2010,1995,2015,2010,2004,1985,1944,2003,1981,1977,2015,2011,1994,1996,2010,2014,1982,1993,2011,2014,1984,2003,1991,1987,1993,1971,1987,2000,1999,1999,1999,2009,2009,1997,1940,2009,1941,2014,2000,1999,2000,1999,2014,2012,2013,1996,2002,1990,2014,2013,2009,2015,1997,2002,2007,1998,1980,1996,1993,2011,2010,1993,1999,2011,2013,2011,1997,2005,1994,2010,2009,2006,2014,1981,2014,2014,1981,2010,1999,1977,2004,2012,2012,2015,1994,2006,1994,1957,2001,2010,2002,2008,1976,1994,1999,1975,1948,1997,2005,2000,2007,1994,1995,1999,2004,2012,1987,1990,2009,1989,1992,1997,1986,1997,1999,1982,2015,2011,2004,1997,1998,2007,1980,2015,1984,2000,1991,2011,2001,1985,1992,1989,2004,2014,2007,2011,1989,1984,2003,2010,1991,2003,2014,1981,1994,1978,1999,2001,2009,2015,2005,1998,2006,1994,2012,2010,1990,2000,1989,2013,2012,2001,1980,1959,1988,1996,1990,1999,2010,2012,2001,2007,2007,1999,1993,2001,2014,2005,2002,2002,2001,2007,2009,2006,1972,1997,1998,1986,2008,2011,1989,2015,2014,1989,1990,2013,2015,2003,2013,1993,2004,1975,2015,2008,1997,1968,2006,2011,2001,2015,2001,2012,2007,1999,1999,1999,1989,2001,2004,2000,1987,1985,2014,1980,2009,1957,2006,2011,1986,2008,1984,1994,2008,2012,1992,2014,1999,2002,2013,1991,2011,2015,2004,2009,2000,1990,1936,2011,2005,1991,2003,2009,1989,1994,2010,1989,1998,1990,2003,2014,2002,2004,1945,2010,1997,2004,2009,2004,2001,2003,1991,2005,2013,1996,1971,1998,1996,2013,1994,1976,1990,2012,2009,1995,1979,1995,2011,2009,1989,1995,2015,2014,2010,1954,1980,2000,1985,1954,1953,2011,2011,1991,1979,2012,1994,1974,1975,2000,1993,2013,2011,2003,1974,2002,1987,1979,1998,2000,1996,1982,2005,1988,1984,2002,2001,2006,1999,2006,2001,2005,1956,2010,1996,1991,1980,1929,2015,1995,2002,1981,2005,1941,1993,2004,1993,1994,1995,1985,2007,2004,1992,2015,2007,2009,2000,1999,1984,2000,2011,1959,2001,2006,2000,2014,2014,2002,1992,1998,2001,2010,2011,2010,1949,2010,2009,1989,1987,1998,1999,2003,1994,1993,1996,1961,1993,2007,1989,2013,2005,1993,1999,2002,1997,1989,2005,2006,1970,2008,1932,1992,1984,2001,2015,1991,2006,2009,1993,1982,2000,1985,2010,2007,2015,2012,1999,1997,1996,2000,2009,2007,1982,2000,1996,1984,1997,1951,2009,1979,2000,2005,2013,2006,2007,2007,2013,2011,2009,2011,1957,2002,2007,1974,1997,1995,2009,2000,1993,1984,1996,2009,1988,1933,2003,1993,2015,2013,1995,2004,1971,2009,2004,1982,2011,2001,1985,1996,1997,1993,2014,2001,1990,1949,2008,2007,2012,1992,2006,2006,2011,1974,2004,1948,2003,2011,2012,1998,2011,2010,2012,1995,1983,1981,2000,1984,1975,2012,2001,1958,2013,1994,1976,1994,1999,2004,2007,1986,2007,1997,1995,1985,2004,1998,2003,2007,1979,1998,1988,2006,2004,2011,1991,1998,1997,2007,2000,1981,1999,1992,2009,1995,2005,1994,2012,2002,1990,2012,2014,1995,1998,1995,2004,1985,2003,2002,2009,1997,1970,2004,2005,2009,2008,2002,2000,1989,2005,2000,2011,1991,2014,2005,1990,2004,1985,2006,1973,1984,1997,2007,2005,2004,2000,2005,2003,2008,2010,2014,1998,2009,2009,2003,2000,2001,2011,2008,1997,1991,2003,1997,1983,1931,2003,2003,2005,2014,1990,2014,2011,1980,1981,1987,1969,1988,2002,2015,2013,1997,1985,2007,1996,2007,1999,2009,2008,2010,1996,2012,1980,2013,2013,2011,1987,2002,1989,1937,2013,2015,2013,1985,1992,2011,1973,2000,2007,1998,1992,2006,2010,2008,2015,2008,1994,1998,1996,2007,1975,2014,1978,2014,1998,1992,2002,2002,1996,2012,1996,2003,2005,1988,1992,2008,1993,2010,2009,2001,2006,1995,2003,2000,2007,1989,1994,2008,1990,1992,2009,2008,2007,2012,2010,2001,1966,1996,1977,1993,2009,2010,1976,2009,2010,1986,2008,2015,2002,1946,2002,2004,2002,2011,1990,2013,1999,2011,1975,1987,1997,1992,1999,2015,1989,1999,2014,1999,1983,2012,1966,2010,2007,2000,2011,1978,2007,1993,1996,2014,1987,1995,1997,1992,2013,1992,2013,1998,1973,1995,2005,2000,2001,2005,2013,2008,2012,1999,1999,2004,2008,2007,2013,1992,1998,2006,2005,1999,1989,2006,2006,1975,2007,1995,1982,1991,1972,1993,1981,2008,1988,1992,1994,2012,2010,2011,1989,2007,1976,1983,2008,2012,1992,2009,2007,1993,2005,2013,1992,2010,1979,1988,1976,1997,2007,2011,1982,1971,2009,2014,1988,2008,2011,2015,2015,1989,1986,1977,2003,2008,2001,2008,1971,1939,2001,1974,2011,1992,2010,2013,2009,1975,2002,2010,2001,1998,1983,1999,1998,1998,1988,2014,2012,2005,2009,1990,1955,2001,2010,1992,1998,2009,1996,1997,1991,2004,1983,1978,1973,1986,2001,1998,1953,2010,2009,1987,2010,1976,1983,1974,1999,2011,2011,2003,1994,1978,1933,1970,1982,1989,1987,1998,1998,1970,2012,1998,2004,1996,1967,1994,2000,2012,1970,1991,1996,2001,2002,2009,2012,1973,2011,1989,1993,2014,2008,2003,1995,2000,1997,1968,2014,1973,2004,2008,2006,2014,2010,2006,1982,2015,1971,2014,1972,1972,2008,2013,1995,2003,1998,1979,1999,2007,1967,2006,1973,1954,2014,1999,1996,2010,2000,1976,2015,2003,2003,1990,2008,2014,2001,2001,2009,2000,2012,1987],\"title\":[\"The Descent\",\"Now and Then\",\"Precious\",\"Martyrs\",\"The Hand That Rocks the Cradle\",\"Agnes of God\",\"Heavenly Creatures\",\"The Help\",\"3 Women\",\"The Watermelon Woman\",\"Grandma\",\"The Craft\",\"Easy A\",\"The Others\",\"Black Christmas\",\"Wadjda\",\"For Colored Girls\",\"The Roommate\",\"Mrs. Winterbourne\",\"Practical Magic\",\"Mistress America\",\"Cake\",\"Boys on the Side\",\"In Her Shoes\",\"Mother and Child\",\"The Partners\",\"Beaches\",\"Sex and the City\",\"Please Give\",\"Silent Hill\",\"Stepmom\",\"Fried Green Tomatoes\",\"Sugar & Spice\",\"Mean Girls\",\"Bridesmaids\",\"Ginger Snaps\",\"Jumpin' Jack Flash\",\"I Know What You Did Last Summer\",\"Pariah\",\"Drop Dead Gorgeous\",\"Never Let Me Go\",\"Monte Carlo\",\"August: Osage County\",\"Juno\",\"Music of the Heart\",\"Sorority Row\",\"The Devil Wears Prada\",\"Blue Jasmine\",\"Single White Female\",\"Ouija\",\"Whip It\",\"Jennifer's Body\",\"Emma\",\"The Final Girls\",\"I'll See You in My Dreams\",\"Diabolique\",\"Terms of Endearment\",\"Sister Act\",\"Coraline\",\"Enough Said\",\"The Bling Ring\",\"An Unmarried Woman\",\"The Babadook\",\"Wild\",\"Legally Blonde\",\"Carol\",\"The Diary of a Teenage Girl\",\"Up Close & Personal\",\"The Keeping Room\",\"Memoirs of a Geisha\",\"Sense and Sensibility\",\"The Curse of the Cat People\",\"28 Days\",\"Away from Her\",\"Dolores Claiborne\",\"Middle of Nowhere\",\"The Runaways\",\"Conviction\",\"The Faculty\",\"Bad Teacher\",\"Frozen River\",\"Normal Adolescent Behavior\",\"Pride & Prejudice\",\"The Iron Lady\",\"Orphan\",\"Spanglish\",\"An Education\",\"Beloved\",\"Old Boyfriends\",\"Martha Marcy May Marlene\",\"Mini's First Time\",\"New York Minute\",\"Working Girl\",\"Drag Me to Hell\",\"Thelma & Louise\",\"Only You\",\"Margaret\",\"Private Benjamin\",\"Catwoman\",\"The Ward\",\"Maleficent\",\"The Nines\",\"Brooklyn\",\"Margot at the Wedding\",\"Ghost World\",\"Possession\",\"Maria Full of Grace\",\"Choose Me\",\"Carrie\",\"Edward Scissorhands\",\"It Follows\",\"New Nightmare\",\"My Best Friend's Wedding\",\"Death Becomes Her\",\"Taking Lives\",\"I Am Sam\",\"Charlie's Angels\",\"A Nightmare on Elm Street 5: The Dream Child\",\"The Back-up Plan\",\"Rabbit Hole\",\"The Ring\",\"What Lies Beneath\",\"Alice in Wonderland\",\"Never Been Kissed\",\"Far from Heaven\",\"Second Coming\",\"The Birds\",\"Made in Dagenham\",\"Doubt\",\"The Invisible Woman\",\"Petulia\",\"Inside Out\",\"The Whistleblower\",\"Nine to Five\",\"Final Destination 2\",\"Prom Night\",\"Rachel Getting Married\",\"Misery\",\"Showgirls\",\"Testament of Youth\",\"Life on Liberty Street\",\"Shoot the Moon\",\"Celeste & Jesse Forever\",\"Copycat\",\"The Stepford Wives\",\"Spring Breakers\",\"Erin Brockovich\",\"Smashed\",\"Harold and Maude\",\"Cabaret\",\"Young Adult\",\"The Duchess\",\"Still Alice\",\"Room\",\"Candyman\",\"Gothika\",\"Mulholland Drive\",\"Suffragette\",\"Heathers\",\"Bed of Roses\",\"The Village\",\"Burlesque\",\"Case 39\",\"Saving Mr. Banks\",\"Oculus\",\"Bound\",\"The Russell Girl\",\"Deceived\",\"Winter's Bone\",\"Evidence\",\"Frances\",\"Blood Work\",\"Another Year\",\"Sunshine Cleaning\",\"Pitch Perfect\",\"The Deep End of the Ocean\",\"A Nightmare on Elm Street\",\"The Bridges of Madison County\",\"S\\ufffdance\",\"He's Just Not That Into You\",\"Crazylove\",\"The Witches of Eastwick\",\"Angel Eyes\",\"My Big Fat Greek Wedding\",\"Twister\",\"The Horse Whisperer\",\"Last Night\",\"Hellraiser III: Hell on Earth\",\"Philomena\",\"A Room with a View\",\"Beasts of the Southern Wild\",\"The Addams Family\",\"Wild Things: Diamonds in the Rough\",\"Push\",\"Gone Girl\",\"The Wedding Date\",\"Domino\",\"The Haunting\",\"Love & Basketball\",\"Supergirl\",\"Sparkle\",\"Halloween 5\",\"Little Man Tate\",\"Five Easy Pieces\",\"Tootsie\",\"The Good Girl\",\"Sexual Life\",\"Cherry Falls\",\"A Nightmare on Elm Street 4: The Dream Master\",\"Sex, Lies, and Videotape\",\"The Mirror Has Two Faces\",\"Before Sunset\",\"Am\\ufffdlie\",\"Black Swan\",\"All About Steve\",\"Amelia\",\"Atonement\",\"Serial Mom\",\"Village of the Damned\",\"Maps to the Stars\",\"Letters to Juliet\",\"The Anniversary Party\",\"The Grudge\",\"The Fog\",\"The Client\",\"Hanna\",\"Lost in Translation\",\"Two Night Stand\",\"Untraceable\",\"The Fault in Our Stars\",\"Resident Evil: Retribution\",\"Joy\",\"Halloween II\",\"My Girl\",\"Halloween H20: 20 Years Later\",\"The Blair Witch Project\",\"Urban Legend\",\"Everly\",\"Even Cowgirls Get the Blues\",\"Jane Eyre\",\"Friday the 13th Part III\",\"Synecdoche, New York\",\"The Proposal\",\"Tamara\",\"Duplex\",\"Man Up\",\"Peggy Sue Got Married\",\"Eternal Sunshine of the Spotless Mind\",\"Insidious\",\"Enough\",\"Beetlejuice\",\"One Missed Call\",\"Red Riding Hood\",\"Girl with a Pearl Earring\",\"Lucy\",\"Badlands\",\"Tarzan\",\"Elizabeth: The Golden Age\",\"It's Complicated\",\"The Blind Side\",\"Friends with Benefits\",\"What Price Hollywood?\",\"Before Sunrise\",\"Belle\",\"Take This Waltz\",\"Runaway Bride\",\"Sleepless in Seattle\",\"Shopgirl\",\"The Fourth Kind\",\"Hyde Park on Hudson\",\"Final Destination 3\",\"Flightplan\",\"Cold Mountain\",\"Tamara Drewe\",\"Scream 2\",\"Curly Sue\",\"S. Darko\",\"Infinitely Polar Bear\",\"The Life of David Gale\",\"Something's Gotta Give\",\"Her\",\"Autumn in New York\",\"G.I. Jane\",\"Into the Woods\",\"The Town That Dreaded Sundown\",\"When Harry Met Sally...\",\"The Curious Case of Benjamin Button\",\"The Brave One\",\"Minions\",\"Clueless\",\"You've Got Mail\",\"Kill Bill (Pt 1+2)\",\"Gosford Park\",\"Chocolat\",\"All the Boys Love Mandy Lane\",\"Scream 3\",\"The Other Boleyn Girl\",\"Gloria\",\"We Need to Talk About Kevin\",\"The Wizard of Oz\",\"I Walked with a Zombie\",\"The Boy Next Door\",\"Bright Star\",\"Wind Chill\",\"I Smile Back\",\"Scream\",\"Slither\",\"Little Children\",\"Coal Miner's Daughter\",\"Sixteen Candles\",\"Hatchet III\",\"My Girl 2\",\"Snow Angels\",\"Henry Poole Is Here\",\"Learning to Drive\",\"Jack Reacher\",\"Secretariat\",\"The Twilight Saga: New Moon\",\"My Blue Heaven\",\"Before Midnight\",\"The Grifters\",\"Firestarter\",\"Save the Last Dance\",\"A Nightmare on Elm Street 3: Dream Warriors\",\"Cruel Intentions\",\"Twilight\",\"The Young Victoria\",\"Peeping Tom\",\"Vicky Cristina Barcelona\",\"Dead Ringers\",\"Calvary\",\"Larry Crowne\",\"Serendipity\",\"Aliens\",\"The Hundred-Foot Journey\",\"City Island\",\"Towelhead\",\"Salt of the Earth\",\"All God's Children Can Dance\",\"Southland Tales\",\"The Lobster\",\"Short Term 12\",\"The Incredibles\",\"Far from the Madding Crowd\",\"Motel Hell\",\"This Is 40\",\"The Amityville Asylum\",\"Sunset Blvd.\",\"Pretty Woman\",\"Human Nature\",\"House of Games\",\"Moonstruck\",\"Whiteout\",\"Seven Days to Live\",\"People Like Us\",\"Pok\\ufffdmon: The First Movie - Mewtwo Strikes Back\",\"10 Things I Hate About You\",\"The Terminator\",\"The Lady in the Van\",\"Buffy the Vampire Slayer\",\"Revolutionary Road\",\"Gravity\",\"An Affair to Remember\",\"Halloween 4: The Return of Michael Myers\",\"Christ Complex\",\"Family Plot\",\"Rust and Bone\",\"Next\",\"Eagle Eye\",\"Modern Problems\",\"Wild at Heart\",\"The Hunger Games\",\"Klute\",\"3 Days to Kill\",\"Superman II\",\"Rails & Ties\",\"Away We Go\",\"Manhattan Murder Mystery\",\"El cantante\",\"The Past\",\"The Goodbye Girl\",\"Lost Souls\",\"Leaving Las Vegas\",\"Viridiana\",\"L'Avventura\",\"The Queen\",\"The Sweet Hereafter\",\"Nowhere Boy\",\"Wild Things\",\"Anna Karenina\",\"Boxing Helena\",\"Point of No Return\",\"Stranger Than Fiction\",\"Pan's Labyrinth\",\"The Seventh Victim\",\"Halloween: Resurrection\",\"Mr. & Mrs. Smith\",\"Donnie Darko\",\"Friday the 13th Part VIII: Jason Takes Manhattan\",\"Fun with Dick and Jane\",\"The Wedding Singer\",\"Elizabeth\",\"The Exorcist\",\"The Best Exotic Marigold Hotel\",\"The Howling\",\"House of Wax\",\"Ghost\",\"Light of Day\",\"Sleeping Beauty\",\"The Doom Generation\",\"The Ugly Truth\",\"Entrapment\",\"Nurse Betty\",\"Woman in Gold\",\"Frozen\",\"Bodies, Rest & Motion\",\"The Mummy: Tomb of the Dragon Emperor\",\"Knight and Day\",\"St. Elmo's Fire\",\"I'll Do Anything\",\"Cube\",\"Obsessed\",\"The Ruins\",\"No Strings Attached\",\"Insidious: Chapter 2\",\"End of Days\",\"V for Vendetta\",\"The Electric Horseman\",\"The Sessions\",\"Hannah and Her Sisters\",\"Hope and Glory\",\"Requiem for a Dream\",\"Trouble in Paradise\",\"Fear of Clowns\",\"Inventing the Abbotts\",\"Waterworld\",\"Hellraiser\",\"Intolerable Cruelty\",\"How Do You Know\",\"Timber Falls\",\"Anastasia\",\"The Leopard Man\",\"Scary Movie 2\",\"About Last Night\",\"Norma Rae\",\"Roughshod\",\"Contact\",\"Finders Keepers: The Root of All Evil\",\"Broken Embraces\",\"Match Point\",\"I Think I Love My Wife\",\"On Golden Pond\",\"Fruitvale Station\",\"True Grit\",\"You're Next\",\"Authors Anonymous\",\"American Beauty\",\"The Cell\",\"Remember Me\",\"The Green Inferno\",\"Sabotage\",\"The Twilight Saga: Eclipse\",\"Six Degrees of Separation\",\"Harper\",\"Happy Campers\",\"White Angel\",\"Sullivan's Travels\",\"Hellraiser: Deader\",\"Seeking a Friend for the End of the World\",\"Terminator Salvation\",\"Up in the Air\",\"Jason Lives: Friday the 13th Part VI\",\"Cursed\",\"The Long Kiss Goodnight\",\"eXistenZ\",\"Shampoo\",\"House of the Damned\",\"Rear Window\",\"The Chronicles of Narnia: The Lion, the Witch and the Wardrobe\",\"Freddy vs. Jason\",\"Midnight in Paris\",\"Man Trouble\",\"At First Sight\",\"Come See the Paradise\",\"Ninja Assassin\",\"Snow White and the Huntsman\",\"Wanted\",\"The Bourne Supremacy\",\"The Piano\",\"Bull Durham\",\"Psycho II\",\"Sweeney Todd: The Demon Barber of Fleet Street\",\"Election\",\"Pet Sematary\",\"Resident Evil\",\"My Week with Marilyn\",\"Last Chance Harvey\",\"The Man Who Knew Too Much\",\"Love & Other Drugs\",\"Sweet November\",\"Jason X\",\"Train\",\"The Silence of the Lambs\",\"Four Rooms\",\"Wrong Turn\",\"Last Tango in Paris\",\"Kalifornia\",\"Zero Dark Thirty\",\"Blue Velvet\",\"Oblivion\",\"Being John Malkovich\",\"The Lost Son\",\"The Cabin in the Woods\",\"City of Joy\",\"Punch-Drunk Love\",\"A Nightmare on Elm Street 2: Freddy's Revenge\",\"The Saint\",\"The Ice Storm\",\"You Can Count on Me\",\"Uncle Buck\",\"Begin Again\",\"Fatal Instinct\",\"Elizabethtown\",\"Cyrus\",\"Twin Peaks: Fire Walk with Me\",\"Evil Angel\",\"Valentine's Day\",\"Bird on a Wire\",\"Jerry Maguire\",\"The Last Station\",\"Solaris\",\"Big Eyes\",\"Titanic\",\"Truth\",\"L\\ufffdon: The Professional\",\"Fast Times at Ridgemont High\",\"Wild Tales\",\"In the Bedroom\",\"Say Anything...\",\"Mystery of the Wax Museum\",\"Dear White People\",\"The Lunchbox\",\"Lake Placid\",\"Knocked Up\",\"The Human Stain\",\"Starman\",\"Body Heat\",\"Panic Room\",\"Despicable Me 2\",\"Cujo\",\"Feast\",\"Blast from the Past\",\"Purple Rain\",\"Hereafter\",\"Play Misty for Me\",\"Notting Hill\",\"Source Code\",\"The Bodyguard\",\"House of 1000 Corpses\",\"The Pelican Brief\",\"Hollow Man\",\"So I Married an Axe Murderer\",\"Queen of the Damned\",\"Marley & Me\",\"Date Night\",\"Transcendence\",\"Sounder\",\"Evil Under the Sun\",\"American Ultra\",\"Hesher\",\"Forgetting Sarah Marshall\",\"Someone to Watch Over Me\",\"South Park: Bigger Longer & Uncut\",\"Ninotchka\",\"Hitch\",\"The Box\",\"Jack Goes Boating\",\"Dredd\",\"Boyhood\",\"The Lazarus Effect\",\"Halloween\",\"S1m0ne\",\"Dracula 2000\",\"Into the Wild\",\"Basic Instinct\",\"Amour\",\"The World Is Not Enough\",\"Jaws: The Revenge\",\"Drive Angry\",\"Tristan + Isolde\",\"The Shipping News\",\"Arthur\",\"The Ref\",\"Something Wild\",\"Five Feet High and Rising\",\"The Bounty Hunter\",\"Rent\",\"Boy Who Never Slept\",\"Into the Night\",\"Brothers\",\"Blue Valentine\",\"Team America: World Police\",\"Living in Oblivion\",\"Nine\",\"Safety Not Guaranteed\",\"As Good as It Gets\",\"Vertigo\",\"Me Him Her\",\"Two-Lane Blacktop\",\"Chasing Amy\",\"Clash of the Titans\",\"Labor Day\",\"Unstoppable\",\"Dr. Jekyll and Mr. Hyde\",\"The Debt\",\"Romeo & Juliet\",\"A Good Year\",\"Eight Legged Freaks\",\"Jaws 3-D\",\"Super\",\"Pocahontas\",\"Alien: Resurrection\",\"Crazy, Stupid, Love.\",\"Soldier\",\"The Utah Murder Project\",\"Avatar\",\"The Diving Bell and the Butterfly\",\"The American President\",\"His Girl Friday\",\"Scott Pilgrim vs. the World\",\"Take Shelter\",\"P2\",\"Father of the Bride\",\"Mimic\",\"Little Miss Sunshine\",\"Top Five\",\"Jackie Brown\",\"Mighty Joe Young\",\"Isle of the Dead\",\"Mr. Turner\",\"Identity Thief\",\"The Relic\",\"The Magic Toyshop\",\"Jimmy and Judy\",\"Little Athens\",\"Prometheus\",\"Vantage Point\",\"12 and Holding\",\"Alien\",\"Splinter\",\"Ferris Bueller's Day Off\",\"Romeo + Juliet\",\"The Thin Man\",\"Monster House\",\"Pitch Black\",\"Psycho\",\"Stone\",\"The Reader\",\"Broadcast News\",\"Last Time Forever\",\"In the Valley of Elah\",\"Machete\",\"Body of Evidence\",\"28 Weeks Later\",\"A Most Wanted Man\",\"Greenberg\",\"John Q\",\"Hellraiser: Hellseeker\",\"Tender Mercies\",\"Kids\",\"Kill Bill: Vol. 2\",\"Doomsday\",\"Traffic\",\"The Wrestler\",\"Under Fire\",\"Conspiracy Theory\",\"Light Sleeper\",\"Twelve Monkeys\",\"The Brothers Bloom\",\"Hanover Street\",\"The Incredible Hulk\",\"Changeling\",\"Dogma\",\"Mute Witness\",\"Malice\",\"Time After Time\",\"Youth in Revolt\",\"Cloverfield\",\"Red Lights\",\"The Abyss\",\"Witness\",\"Bullets Over Broadway\",\"Inherent Vice\",\"Mumford\",\"The Beaver\",\"Taken 2\",\"Hatchet\",\"One Chance\",\"Final Destination\",\"Annie Hall\",\"Salt\",\"Barney's Version\",\"How to Lose Friends & Alienate People\",\"Elysium\",\"Burning Annie\",\"Bonnie and Clyde\",\"Austin Powers: International Man of Mystery\",\"The Fisher King\",\"The Ploughman's Lunch\",\"Stuart Little 2\",\"El mariachi\",\"Hook\",\"The Spectacular Now\",\"Paper Towns\",\"The X Files\",\"(500) Days of Summer\",\"Shame\",\"Eastern Promises\",\"Hitchcock\",\"The Descendants\",\"Batman & Robin\",\"The American\",\"She's Out of My League\",\"The Visitor\",\"Halloween: The Curse of Michael Myers\",\"Encrypt\",\"Wanderlust\",\"Return to Me\",\"Days of Heaven\",\"The Guest\",\"Children of Men\",\"Wreck-It Ralph\",\"Hero\",\"Legion\",\"Mirrors\",\"I Still Know What You Did Last Summer\",\"The Theory of Everything\",\"There's Something About Mary\",\"Disturbia\",\"Birdman or (The Unexpected Virtue of Ignorance)\",\"Groundhog Day\",\"A Walk to Remember\",\"Street Fighter: The Legend of Chun-Li\",\"Face/Off\",\"No One Lives\",\"Batman\",\"Black Snake Moan\",\"Sin Nombre\",\"Constantine\",\"The Keep\",\"Flash Gordon\",\"Obsession\",\"Superman IV: The Quest for Peace\",\"Gremlins 2: The New Batch\",\"Go\",\"The Pacifier\",\"GoldenEye\",\"The Graduate\",\"Indiana Jones and the Temple of Doom\",\"Shark Night 3D\",\"Burn After Reading\",\"Melvin and Howard\",\"Hannibal\",\"Cape Fear\",\"The Croods\",\"Mighty Morphin Power Rangers: The Movie\",\"Sinister\",\"Home Alone\",\"Virtuosity\",\"Strange Days\",\"Adaptation.\",\"The Frighteners\",\"Maximum Overdrive\",\"The Little Mermaid\",\"Aliens vs. Predator: Requiem\",\"Shivers\",\"The Squid and the Whale\",\"Critters 2\",\"I Spit on Your Grave\",\"Bad Meat\",\"Storytelling\",\"The Girl with the Dragon Tattoo\",\"American Sniper\",\"Frankenweenie\",\"Blade: Trinity\",\"The Getaway\",\"Stir of Echoes\",\"Airplane II: The Sequel\",\"30 Days of Night\",\"Almost Famous\",\"The Blob\",\"Rambling Rose\",\"Thir13en Ghosts\",\"The Cutting Edge\",\"The Crow: City of Angels\",\"War of the Worlds\",\"Dracula\",\"Life as a House\",\"The Jacket\",\"True Lies\",\"Superman III\",\"Cloud Atlas\",\"Orgy of the Dead\",\"Christine\",\"Halloween\",\"Judge Dredd\",\"The Family Man\",\"Pay the Ghost\",\"While We're Young\",\"Hard to Kill\",\"Talk to Her\",\"Weird Science\",\"Bad Lieutenant\",\"Hall Pass\",\"Sasquatch Mountain\",\"The Game\",\"Lone Star\",\"This Boy's Life\",\"The Texas Chainsaw Massacre\",\"The 40-Year-Old Virgin\",\"Terminator 2: Judgment Day\",\"28 Days Later...\",\"The Big Blue\",\"My Bloody Valentine\",\"Transatlantic Merry-Go-Round\",\"Beauty and the Beast\",\"Shaun of the Dead\",\"50/50\",\"Moonrise Kingdom\",\"Man on Fire\",\"Highlander\",\"Identity\",\"Tomorrow Never Dies\",\"Hearts in Atlantis\",\"Defending Your Life\",\"Knight Moves\",\"The Martian\",\"Serenity\",\"The Mist\",\"Nebraska\",\"Star Wars: Episode VII - The Force Awakens\",\"Perfect Creature\",\"The Perks of Being a Wallflower\",\"Pixels\",\"The King of Comedy\",\"The Butterfly Effect\",\"American Pie\",\"The Black Dahlia\",\"Big\",\"Willow\",\"Pleasantville\",\"To Sleep with Anger\",\"Despicable Me\",\"Zerophilia\",\"Near Dark\",\"Complete Guide to Guys\",\"Being There\",\"Cinema Paradiso\",\"The Next Three Days\",\"Vacancy\",\"Let Me In\",\"Monkeybone\",\"Fargo\",\"School of Rock\",\"Airplane!\",\"The Apartment\",\"Doom\",\"Primal Fear\",\"Pacific Rim\",\"Scooby-Doo\",\"Nick and Norah's Infinite Playlist\",\"Nothing But a Man\",\"Mr. Blandings Builds His Dream House\",\"The Tree of Life\",\"In the Mouth of Madness\",\"Antz\",\"In the Line of Fire\",\"Kicking and Screaming\",\"House on Haunted Hill\",\"ParaNorman\",\"Edtv\",\"Clue\",\"The Fighter\",\"Rampart\",\"Adventureland\",\"Double Indemnity\",\"Shortcut to Happiness\",\"Red Rock West\",\"True Crime\",\"American Graffiti\",\"Rolling Thunder\",\"The Mummy\",\"Killer Joe\",\"Creation\",\"Liar Liar\",\"Bruce Almighty\",\"Garden State\",\"Bad Boys\",\"A History of Violence\",\"Somewhere in Time\",\"Nick of Time\",\"The Rules of Attraction\",\"Grindhouse\",\"Ordinary People\",\"Me and Earl and the Dying Girl\",\"The Siege\",\"Blood and Wine\",\"American Gigolo\",\"U Turn\",\"Assassins\",\"Risky Business\",\"Ace Ventura: Pet Detective\",\"Cosmopolis\",\"Grand Hotel\",\"The Wizard\",\"Watchmen\",\"Cecil B. DeMented\",\"Sphere\",\"Mrs Brown\",\"Blood Simple.\",\"Babel\",\"Win Win\",\"The Rocky Horror Picture Show\",\"The Cider House Rules\",\"Only God Forgives\",\"Career Opportunities\",\"The Cincinnati Kid\",\"Shrek 2\",\"Hardcore\",\"Terminator Genisys\",\"Meet Joe Black\",\"No Escape\",\"The Karate Kid\",\"Confessions of a Dangerous Mind\",\"Jacob's Ladder\",\"The Mask\",\"Looney Tunes: Back in Action\",\"The Smurfs 2\",\"Gamer\",\"Lee Daniels' The Butler\",\"Alone in the Dark\",\"Dead Again\",\"Taken\",\"St. Vincent\",\"One Eight Seven\",\"Thor\",\"Starship Troopers\",\"While She Was Out\",\"La Bamba\",\"The Lady from Shanghai\",\"Yes Man\",\"The Shining\",\"Surrogates\",\"I, Robot\",\"Dazed and Confused\",\"Miami Vice\",\"Vanilla Sky\",\"The Lost Weekend\",\"Shakespeare in Love\",\"American Hustle\",\"The Number 23\",\"Red Dragon\",\"Croupier\",\"Some Like It Hot\",\"Monster's Ball\",\"Star Trek: First Contact\",\"Lost in America\",\"Stay\",\"Needful Things\",\"Where the Wild Things Are\",\"High Fidelity\",\"Finding Nemo\",\"Blade\",\"The Omega Man\",\"The Hospital\",\"Total Recall\",\"Freddy's Dead: The Final Nightmare\",\"Children of the Corn\",\"Insomnia\",\"Mulan\",\"Absolute Power\",\"The Four Feathers\",\"Out of Sight\",\"Prisoners\",\"Deconstructing Harry\",\"The Boondock Saints II: All Saints Day\",\"Spider-Man 2\",\"The Last Flight\",\"Point Break\",\"The Crazies\",\"Jeff, Who Lives at Home\",\"Grosse Pointe Blank\",\"Quantum Project\",\"Birthday Girl\",\"The Hills Have Eyes\",\"The Invention of Lying\",\"In the Loop\",\"Nashville\",\"The Pianist\",\"The Marrying Man\",\"Air Force One\",\"Escape from L.A.\",\"Color of Night\",\"Game 6\",\"The Book of Eli\",\"The English Patient\",\"Interstellar\",\"Matchstick Men\",\"Toy Story 3\",\"The Prophecy\",\"Steve Jobs\",\"The Tourist\",\"Crash\",\"The Breakfast Club\",\"Tall in the Saddle\",\"Big Fish\",\"Dragonslayer\",\"Rabid\",\"Self/less\",\"The Smurfs\",\"Pulp Fiction\",\"Chain Reaction\",\"Animal Kingdom\",\"Dumb and Dumber To\",\"An Officer and a Gentleman\",\"Benny & Joon\",\"Conan the Barbarian\",\"Pompeii\",\"Once Upon a Time in America\",\"The Hebrew Hammer\",\"Boyz n the Hood\",\"The Lost Boys\",\"Demolition Man\",\"Happy Birthday, Wanda June\",\"Prince of Darkness\",\"The Crow: Salvation\",\"Stuart Little\",\"The Sixth Sense\",\"Eyes Wide Shut\",\"17 Again\",\"X-Men Origins: Wolverine\",\"Lost Highway\",\"The Grapes of Wrath\",\"A Perfect Getaway\",\"Meet John Doe\",\"Love Is Strange\",\"Get Carter\",\"Bringing Out the Dead\",\"Unbreakable\",\"Sleepy Hollow\",\"Wish I Was Here\",\"The Collection\",\"The Zero Theorem\",\"Tin Cup\",\"Slash\",\"The Adventures of Ford Fairlane\",\"The November Man\",\"Snowpiercer\",\"G.I. Joe: The Rise of Cobra\",\"Danny Collins\",\"Event Horizon\",\"The Mothman Prophecies\",\"Beowulf\",\"Lost in Space\",\"The Elephant Man\",\"Hunchback of Notre Dame\",\"Cliffhanger\",\"Straw Dogs\",\"The Town\",\"The Nightmare Before Christmas\",\"The Limey\",\"I Am Number Four\",\"The Family\",\"Coriolanus\",\"Boogie Nights\",\"The Island\",\"Clerks\",\"Predators\",\"Cloudy with a Chance of Meatballs\",\"Art School Confidential\",\"How to Train Your Dragon 2\",\"Raiders of the Lost Ark\",\"Heaven Is for Real\",\"Noah\",\"The Great Muppet Caper\",\"Beginners\",\"The Ninth Gate\",\"Smokey and the Bandit\",\"Anchorman: The Legend of Ron Burgundy\",\"Les Mis\\ufffdrables\",\"Flight\",\"Trumbo\",\"Maverick\",\"Macbeth\",\"The Flintstones\",\"Witness for the Prosecution\",\"A.I. Artificial Intelligence\",\"Henry's Crime\",\"The Bourne Identity\",\"Redbelt\",\"Taxi Driver\",\"Being Human\",\"8MM\",\"Three Days of the Condor\",\"Station West\",\"Spacejacked\",\"The Ringer\",\"Quills\",\"The Assassination of Jesse James by the Coward Robert Ford\",\"The Hudsucker Proxy\",\"Heat\",\"The General's Daughter\",\"Cellular\",\"The Three Stooges\",\"Raising Arizona\",\"Goodfellas\",\"Friday the 13th\",\"Leviathan\",\"Alien\\uffb3\",\"The Devil's Advocate\",\"Star Trek IV: The Voyage Home\",\"Wag the Dog\",\"Austin Powers: The Spy Who Shagged Me\",\"Star Trek II: The Wrath of Khan\",\"Youth\",\"In Time\",\"Ocean's Twelve\",\"The Lost World: Jurassic Park\",\"Pi\",\"Pirates of the Caribbean: At World's End\",\"Friday the 13th\",\"Sicario\",\"Dune\",\"Chasing Sleep\",\"The Rocketeer\",\"The Adjustment Bureau\",\"The Royal Tenenbaums\",\"Silver Bullet\",\"Unlawful Entry\",\"The Fabulous Baker Boys\",\"Harry Potter and the Prisoner of Azkaban\",\"The Boxtrolls\",\"Honeydripper\",\"Machine Gun Preacher\",\"Drugstore Cowboy\",\"Bachelor Party\",\"The Cooler\",\"Tucker and Dale vs. Evil\",\"Kafka\",\"Grand Theft Parsons\",\"Chef\",\"An American Werewolf in London\",\"Mary Shelley's Frankenstein\",\"Jaws 2\",\"Magnolia\",\"Bones\",\"Inglourious Basterds\",\"Wild Card\",\"Fantastic Four\",\"A Simple Plan\",\"Smokin' Aces\",\"The Fantastic Four\",\"Rock of Ages\",\"Prince of Persia: The Sands of Time\",\"Awakenings\",\"State and Main\",\"Christmas Vacation\",\"The Counselor\",\"Looper\",\"Pearl Harbor\",\"Caddyshack\",\"North by Northwest\",\"Coming to America\",\"SubUrbia\",\"The Bonfire of the Vanities\",\"The Talented Mr. Ripley\",\"Death at a Funeral\",\"Promised Land\",\"Jurassic Park III\",\"Bee Movie\",\"Charlie Bartlett\",\"Arlington Road\",\"Spare Me\",\"The Believer\",\"The Drop\",\"The Devil's Rejects\",\"Signs\",\"Death to Smoochy\",\"Harry Potter and the Sorcerer's Stone\",\"I Am Legend\",\"Observe and Report\",\"Idiocracy\",\"The Poseidon Adventure\",\"An American Werewolf in Paris\",\"Rushmore\",\"Top Gun\",\"Hellboy II: The Golden Army\",\"Sleeping Beauty\",\"Major League\",\"Daddy's Home\",\"Nightcrawler\",\"Field of Dreams\",\"Narrow Margin\",\"Now You See Me\",\"San Andreas\",\"Jeepers Creepers II\",\"Horns\",\"A Perfect World\",\"Million Dollar Baby\",\"Mandingo\",\"The Gunman\",\"Sugar\",\"Henry Fool\",\"Planet of the Apes\",\"Blood Diamond\",\"Cowboys & Aliens\",\"Jay and Silent Bob Strike Back\",\"Pan\",\"Antitrust\",\"Ted\",\"The Bourne Ultimatum\",\"The Matrix\",\"RKO 281\",\"Snow Falling on Cedars\",\"Sea of Love\",\"A Beautiful Mind\",\"In Good Company\",\"American Psycho\",\"Spaceballs\",\"The Black Cauldron\",\"The Rover\",\"My Bodyguard\",\"Daybreakers\",\"Sweet Smell of Success\",\"A Scanner Darkly\",\"Colombiana\",\"The Mosquito Coast\",\"Indiana Jones and the Kingdom of the Crystal Skull\",\"Amadeus\",\"Star Trek: Generations\",\"Ghost Town\",\"Arbitrage\",\"Pet Sematary II\",\"Reasonable Doubt\",\"Detroit Rock City\",\"Ghost Ship\",\"White House Down\",\"The Naked Gun 2\\uffbd: The Smell of Fear\",\"Fright Night\",\"Southpaw\",\"Sideways\",\"The Imaginarium of Doctor Parnassus\",\"Memento\",\"Hardware\",\"Mr. Deeds Goes to Town\",\"Water for Elephants\",\"Two for the Money\",\"Star Trek VI: The Undiscovered Country\",\"American Splendor\",\"2012\",\"Do the Right Thing\",\"Shallow Grave\",\"It's Kind of a Funny Story\",\"Ghostbusters II\",\"Very Bad Things\",\"Tremors\",\"Wonderland\",\"The Equalizer\",\"Blade II\",\"The Ladykillers\",\"The Body Snatcher\",\"Inception\",\"Bean\",\"Thunderbirds\",\"A Single Man\",\"The Aviator\",\"Joy Ride\",\"X-Men 2\",\"Hudson Hawk\",\"Harry Potter and the Goblet of Fire\",\"12 Years a Slave\",\"Mission: Impossible\",\"Willard\",\"Ronin\",\"Mars Attacks!\",\"The Great Gatsby\",\"The Adventures of Priscilla, Queen of the Desert\",\"Silver Streak\",\"Revenge\",\"The Lorax\",\"Harry Potter and the Half-Blood Prince\",\"Braveheart\",\"Kramer vs. Kramer\",\"Hackers\",\"Green Lantern\",\"Funny People\",\"Erik the Viking\",\"Batman Forever\",\"Mortdecai\",\"The Imitation Game\",\"The Company Men\",\"On the Waterfront\",\"The Stunt Man\",\"Reindeer Games\",\"Day of the Dead\",\"White Christmas\",\"The War of the Worlds\",\"Rise of the Planet of the Apes\",\"Limitless\",\"Ricochet\",\"Star Trek: The Motion Picture\",\"The Place Beyond the Pines\",\"Forrest Gump\",\"Chinatown\",\"The Wind and the Lion\",\"Wonder Boys\",\"Nowhere to Run\",\"Cloudy with a Chance of Meatballs 2\",\"The Lincoln Lawyer\",\"The Matrix Reloaded\",\"Young Frankenstein\",\"Star Wars: Episode II - Attack of the Clones\",\"My Best Friend's Birthday\",\"Breaking Away\",\"American History X\",\"X-Men\",\"Broken Arrow\",\"Creepshow\",\"Wedding Crashers\",\"Above the Law\",\"Gremlins\",\"The Time Machine\",\"15 Minutes\",\"Click\",\"Star Wars: Episode I - The Phantom Menace\",\"Deja Vu\",\"K-PAX\",\"Good Night, and Good Luck.\",\"The Searchers\",\"Kick-Ass\",\"Basquiat\",\"The Doors\",\"Seems Like Old Times\",\"The Cocoanuts\",\"Dope\",\"Lord of Illusions\",\"Minority Report\",\"Ghost Story\",\"Brick\",\"Citizen Kane\",\"The Program\",\"Suspect Zero\",\"Jurassic Park\",\"The Crow\",\"Kiss of Death\",\"Real Genius\",\"Lions for Lambs\",\"Undertow\",\"The Last of the Mohicans\",\"Mississippi Grind\",\"Saw IV\",\"Big Fan\",\"The Way of the Gun\",\"Payback\",\"Star Trek III: The Search for Spock\",\"Mission: Impossible II\",\"War Horse\",\"Anatomy of a Murder\",\"Shrek\",\"Talladega Nights: The Ballad of Ricky Bobby\",\"Bamboozled\",\"22 Jump Street\",\"The Lego Movie\",\"Catch Me If You Can\",\"Batman Returns\",\"Zero Effect\",\"Swordfish\",\"Dinner for Schmucks\",\"Drive\",\"Hatchet II\",\"The Third Man\",\"127 Hours\",\"Angels & Demons\",\"A Dry White Season\",\"Innerspace\",\"Gods and Monsters\",\"Galaxy Quest\",\"The Italian Job\",\"Interview with the Vampire: The Vampire Chronicles\",\"True Romance\",\"City Hall\",\"The Hustler\",\"Carlito's Way\",\"Hannibal Rising\",\"Gleaming the Cube\",\"Dallas Buyers Club\",\"Capote\",\"The Dark Half\",\"Mystery Men\",\"Below\",\"The Postman\",\"We're No Angels\",\"Beowulf & Grendel\",\"The Surfer King\",\"The Private Life of Sherlock Holmes\",\"Jumper\",\"American Madness\",\"Memoirs of an Invisible Man\",\"Moscow on the Hudson\",\"Kate & Leopold\",\"The Big Short\",\"Naked Lunch\",\"Inside Man\",\"Cabin Fever 2: Spring Fever\",\"Jason Goes to Hell: The Final Friday\",\"Diner\",\"Gladiator\",\"Brazil\",\"The Wolfman\",\"Michael Clayton\",\"Ex Machina\",\"The Dark Knight Rises\",\"Any Given Sunday\",\"Good Will Hunting\",\"Courage Under Fire\",\"Cast Away\",\"The Messenger\",\"Fracture\",\"Blade Runner\",\"The Beach\",\"Beavis and Butt-Head Do America\",\"Ghostbusters\",\"Hercules\",\"The Day The Earth Stood Still\",\"Get Low\",\"The Jerk\",\"Red Planet\",\"Chaos\",\"The Wolverine\",\"Lucky Number Slevin\",\"No Country for Old Men\",\"Mr. Brooks\",\"The Fifth Estate\",\"Priest\",\"Crazy Heart\",\"The Change-Up\",\"The Seventh Seal\",\"Harry Potter and the Chamber of Secrets\",\"Hot Rod\",\"The Parallax View\",\"Gang Related\",\"Casino\",\"Extract\",\"Little Nicky\",\"Searching for Bobby Fischer\",\"The Adventures of Buckaroo Banzai Across the 8th Dimension\",\"Sling Blade\",\"Brooklyn's Finest\",\"The Great Outdoors\",\"Duck Soup\",\"Basic\",\"The Three Musketeers\",\"Legend\",\"The Secret Life of Walter Mitty\",\"Get Shorty\",\"Collateral\",\"THX 1138\",\"Public Enemies\",\"Hotel Rwanda\",\"48 Hrs.\",\"Season of the Witch\",\"Heist\",\"Silverado\",\"Independence Day\",\"Affliction\",\"Dave\",\"A Most Violent Year\",\"The Lord of the Rings: The Fellowship of the Ring\",\"Die Hard 2\",\"She Wore a Yellow Ribbon\",\"Defiance\",\"The Darjeeling Limited\",\"Papadopoulos & Sons\",\"A Few Good Men\",\"Pirates of the Caribbean: Dead Man's Chest\",\"The Prestige\",\"Cedar Rapids\",\"The Godfather: Part II\",\"The Life Aquatic with Steve Zissou\",\"Call Northside 777\",\"Malibu's Most Wanted\",\"The Ides of March\",\"End of Watch\",\"Snake Eyes\",\"The Mechanic\",\"The Sorcerer's Apprentice\",\"Stolen\",\"Outbreak\",\"Something Wicked This Way Comes\",\"For Your Eyes Only\",\"Gone in Sixty Seconds\",\"Repo Man\",\"Dog Day Afternoon\",\"The Avengers\",\"Blow\",\"Touch of Evil\",\"Monsters University\",\"Ed Wood\",\"Logan's Run\",\"The Lion King\",\"The Iron Giant\",\"National Treasure\",\"Shrek the Third\",\"Manhunter\",\"National Treasure: Book of Secrets\",\"Spawn\",\"Smoke\",\"Fletch\",\"Alfie\",\"Deep Rising\",\"Pirates of the Caribbean: The Curse of the Black Pearl\",\"TMNT\",\"Hot Stuff\",\"The Truman Show\",\"Who Framed Roger Rabbit\",\"World Trade Center\",\"Hellboy\",\"Anonymous\",\"JFK\",\"Hard Rain\",\"Donnie Brasco\",\"Ratatouille\",\"Mission to Mars\",\"Thief\",\"Breakfast of Champions\",\"Jennifer 8\",\"The Maiden Heist\",\"Devil in a Blue Dress\",\"The Hitchhiker's Guide to the Galaxy\",\"Stranglehold\",\"Mud\",\"Gangs of New York\",\"Predator 2\",\"Lincoln\",\"The Maze Runner\",\"Mallrats\",\"Fallen\",\"Bloodfist VII: Manhunt\",\"Saw\",\"Code of Silence\",\"Cradle 2 the Grave\",\"The Salton Sea\",\"Sherlock Holmes\",\"Life Is Beautiful\",\"Beneath the Planet of the Apes\",\"Troy\",\"Star Wars: Episode III - Revenge of the Sith\",\"Law Abiding Citizen\",\"Gran Torino\",\"xXx\",\"All the Pretty Horses\",\"Star Trek V: The Final Frontier\",\"Brokeback Mountain\",\"Space Cowboys\",\"Cars 2\",\"Backdraft\",\"The Riot Club\",\"Batman Begins\",\"Back to the Future Part III\",\"Exorcist: The Beginning\",\"Back to the Future\",\"Crank\",\"Live and Let Die\",\"City Heat\",\"L.A. Confidential\",\"Blades of Glory\",\"Kingdom of Heaven\",\"The Manchurian Candidate\",\"Highlander: Endgame\",\"Land of the Dead\",\"Old School\",\"Speed Racer\",\"How to Train Your Dragon\",\"The Judge\",\"Enemy of the State\",\"Year One\",\"Pandorum\",\"Bad Santa\",\"Shadow of the Vampire\",\"The Fast and the Furious\",\"Captain America: The First Avenger\",\"Deception\",\"Men in Black\",\"Robin Hood: Prince of Thieves\",\"Elf\",\"The Assignment\",\"Scarface\",\"Frankenstein\",\"Holes\",\"The Recruit\",\"The Weather Man\",\"Dracula Untold\",\"Days of Thunder\",\"Deliver Us from Evil\",\"Paul\",\"Star Wars: Episode V - The Empire Strikes Back\",\"Scanners\",\"Wall Street\",\"Midnight Cowboy\",\"Twins\",\"Equilibrium\",\"Remember\",\"Delivery Man\",\"Breakdown\",\"Legend\",\"Borderland\",\"Ransom\",\"The Kingdom\",\"Fight Club\",\"The Hangover\",\"Pineapple Express\",\"The Losers\",\"Last Man Standing\",\"Rise of the Guardians\",\"Raging Bull\",\"42\",\"Rush\",\"Tower Heist\",\"The Princess Bride\",\"25th Hour\",\"Back to the Future Part II\",\"Lost Horizon\",\"Riddick\",\"Run All Night\",\"Gangster Squad\",\"Rambo: First Blood Part II\",\"Aladdin\",\"I Melt with You\",\"Serpico\",\"The Replacements\",\"American Gangster\",\"Star Trek: Insurrection\",\"Deep Cover\",\"300\",\"The King's Speech\",\"Semi-Pro\",\"Get Hard\",\"Street Kings\",\"Dumb & Dumber\",\"A Night at the Roxbury\",\"The Cable Guy\",\"The Lookout\",\"Barry Lyndon\",\"Selma\",\"The Deer Hunter\",\"Pawn Sacrifice\",\"Lethal Weapon 4\",\"The Crying Game\",\"Jonah: A VeggieTales Movie\",\"Collateral Damage\",\"From Dusk Till Dawn\",\"Lawless\",\"Swingers\",\"Confidence\",\"Hostage\",\"The Last Temptation of Christ\",\"My Cousin Vinny\",\"Shifty\",\"Killing Zoe\",\"Green Zone\",\"Invictus\",\"Rush Hour 2\",\"The Illusionist\",\"Wild Bill\",\"Mystic River\",\"Boiler Room\",\"Zodiac\",\"Indiana Jones and the Last Crusade\",\"Natural Born Killers\",\"The Dark Knight\",\"Dances with Wolves\",\"Malcolm X\",\"A Serious Man\",\"Max Payne\",\"The Hitcher\",\"The Expendables 2\",\"The Social Network\",\"Ali\",\"El Dorado\",\"Trainspotting\",\"The Hills Have Eyes\",\"The Fugitive\",\"I Love You Phillip Morris\",\"The Expendables\",\"The Outlaw Josey Wales\",\"Star Trek\",\"Get Him to the Greek\",\"Down and Out in Beverly Hills\",\"Kung Fu Panda\",\"Bone Tomahawk\",\"Phone Booth\",\"It's a Wonderful Life\",\"Star Trek: Nemesis\",\"Walking Tall\",\"City of God\",\"Horrible Bosses\",\"The Rescuers Down Under\",\"Locke\",\"Three Kings\",\"Margin Call\",\"Jaws\",\"Tin Men\",\"Metro\",\"Sneakers\",\"Office Space\",\"The End of the Tour\",\"Born on the Fourth of July\",\"Wild Wild West\",\"The Gambler\",\"The Green Mile\",\"The Outsiders\",\"Candle to Water\",\"Fantastic Voyage\",\"Hot Tub Time Machine\",\"The Bucket List\",\"Frequency\",\"Super 8\",\"Capricorn One\",\"1408\",\"Arctic Blue\",\"The Island of Dr. Moreau\",\"Brick Mansions\",\"Lethal Weapon\",\"Toy Story\",\"Gattaca\",\"Chaplin\",\"The Wolf of Wall Street\",\"Unforgiven\",\"World War Z\",\"Rounders\",\"Magnum Force\",\"Nixon\",\"Munich\",\"Next Friday\",\"American Outlaws\",\"King Kong\",\"Pain & Gain\",\"W.\",\"Safe House\",\"Man on the Moon\",\"Analyze This\",\"Harold & Kumar Go to White Castle\",\"In Bruges\",\"We Own the Night\",\"Kill Your Darlings\",\"Newsies\",\"The Big Lebowski\",\"The Good Shepherd\",\"Lord of War\",\"The Insider\",\"Glory\",\"Happy Feet\",\"The Departed\",\"Hard Times\",\"Wild Hogs\",\"Se7en\",\"TRON\",\"The Last Boy Scout\",\"The Godfather\",\"Tombstone\",\"Escape from New York\",\"21\",\"Die Hard\",\"The Distinguished Gentleman\",\"Quiz Show\",\"Chronicle\",\"The Other Guys\",\"The Guard\",\"Black Rain\",\"Superbad\",\"All the President's Men\",\"Star Wars: Episode VI - Return of the Jedi\",\"Slumdog Millionaire\",\"The Master\",\"Thunderheart\",\"Up\",\"Good Luck Chuck\",\"Philadelphia\",\"Syriana\",\"Captain Phillips\",\"Army of Darkness\",\"The A-Team\",\"Rocky II\",\"They Live\",\"Rocky\",\"Kundun\",\"Hot Fuzz\",\"Arthur Christmas\",\"The Verdict\",\"Vanishing Point\",\"Fantastic Mr. Fox\",\"Kingsman: The Secret Service\",\"Red Heat\",\"RocknRolla\",\"Warrior\",\"Spotlight\",\"Straight Outta Compton\",\"True Believer\",\"Running Scared\",\"Star Wars: Episode IV - A New Hope\",\"Hulk\",\"The Promotion\",\"Spy Game\",\"Body of Lies\",\"A Clockwork Orange\",\"Mr. Smith Goes to Washington\",\"Made\",\"Blazing Saddles\",\"Tinker Tailor Soldier Spy\",\"1492: Conquest of Paradise\",\"Buried\",\"2 Guns\",\"The Road\",\"French Connection II\",\"Analyze That\",\"Edge of Darkness\",\"Ticker\",\"Rush Hour\",\"Local Hero\",\"The Corruptor\",\"Fear and Loathing in Las Vegas\",\"The Man in the Iron Mask\",\"Alien Nation\",\"Whiplash\",\"Seven Psychopaths\",\"The Producers\",\"Solomon Kane\",\"Rocky V\",\"Bad Day at Black Rock\",\"The Majestic\",\"The Way Back\",\"The Power of One\",\"A Civil Action\",\"The Informant!\",\"Executive Decision\",\"The Fifth Element\",\"Barton Fink\",\"The Punisher\",\"Octopussy\",\"Midnight Express\",\"Mean Streets\",\"The Big Easy\",\"Ocean's Eleven\",\"Armageddon\",\"Julius Caesar\",\"Jonah Hex\",\"Moon\",\"3 Men and a Baby\",\"Everything Must Go\",\"Network\",\"Trading Places\",\"The Yakuza\",\"The Boondock Saints\",\"30 Minutes or Less\",\"My Pure Joy\",\"Crime Spree\",\"Cobb\",\"The Driver\",\"King Kong\",\"Catch-22\",\"Gandhi\",\"Dead Poets Society\",\"Predator\",\"Legionnaire\",\"Dark City\",\"MASH\",\"Hate Crime\",\"The Odd Couple II\",\"Spartan\",\"The Rock\",\"Cool Hand Luke\",\"Clear and Present Danger\",\"The Patriot\",\"Life of Pi\",\"The Rise and Rise of Michael Rimmer\",\"My Own Private Idaho\",\"The Ghost and the Darkness\",\"Monsters, Inc.\",\"The Lord of the Rings: The Two Towers\",\"Cirque du Freak: The Vampire's Assistant\",\"Argo\",\"The Long Goodbye\",\"Moneyball\",\"Farewell to the King\",\"The Sandlot\",\"Horrible Bosses 2\",\"Frost/Nixon\",\"The Lord of the Rings: The Return of the King\",\"Panther\",\"O Brother, Where Art Thou?\",\"The Edge\",\"2001: A Space Odyssey\",\"Get on Up\",\"The Sting\",\"The Woodsman\",\"Milk\",\"Rocky Balboa\",\"Bad Country\",\"Cop Out\",\"Glory Road\",\"Rocky III\",\"Bridge of Spies\",\"The French Connection\",\"Tusk\",\"Deliverance\",\"The Day the Clown Cried\",\"Tropic Thunder\",\"Battle of the Year\",\"The Usual Suspects\",\"Dreamcatcher\",\"Apt Pupil\",\"Apocalypse Now\",\"Chill Factor\",\"3:10 to Yuma\",\"The Jungle Book\",\"Flags of Our Fathers\",\"Enter the Dragon\",\"Seven Samurai\",\"Exodus: Gods and Kings\",\"Life\",\"White Squall\",\"Four Lions\",\"Snatch.\",\"The Seven-Per-Cent Solution\",\"Beasts of No Nation\",\"A Man Apart\",\"The Last Samurai\",\"Memphis Belle\",\"Valkyrie\",\"The Grand Budapest Hotel\",\"Training Day\",\"The Last Castle\",\"The Damned United\",\"Thirteen Days\",\"Men in Black 3\",\"Full Metal Jacket\"]},\"selected\":{\"id\":\"1166\"},\"selection_policy\":{\"id\":\"1165\"}},\"id\":\"1104\",\"type\":\"ColumnDataSource\"},{\"attributes\":{\"range\":null,\"width\":0.2},\"id\":\"1141\",\"type\":\"Jitter\"},{\"attributes\":{\"bottom_units\":\"screen\",\"coordinates\":null,\"fill_alpha\":0.5,\"fill_color\":\"lightgrey\",\"group\":null,\"left_units\":\"screen\",\"level\":\"overlay\",\"line_alpha\":1.0,\"line_color\":\"black\",\"line_dash\":[4,4],\"line_width\":2,\"right_units\":\"screen\",\"syncable\":false,\"top_units\":\"screen\"},\"id\":\"1130\",\"type\":\"BoxAnnotation\"},{\"attributes\":{\"coordinates\":null,\"group\":null,\"text\":\"How Much Do Women Speak in Hollywood Films?\",\"text_font_size\":\"20pt\"},\"id\":\"1106\",\"type\":\"Title\"},{\"attributes\":{\"fill_alpha\":{\"value\":0.5},\"fill_color\":{\"field\":\"proportion_of_dialogue\",\"transform\":{\"id\":\"1140\"}},\"hatch_alpha\":{\"value\":0.5},\"hatch_color\":{\"field\":\"proportion_of_dialogue\",\"transform\":{\"id\":\"1140\"}},\"line_alpha\":{\"value\":0.4},\"size\":{\"value\":10},\"x\":{\"field\":\"release_year\",\"transform\":{\"id\":\"1141\"}},\"y\":{\"field\":\"proportion_of_dialogue\"}},\"id\":\"1143\",\"type\":\"Circle\"},{\"attributes\":{},\"id\":\"1128\",\"type\":\"ResetTool\"},{\"attributes\":{},\"id\":\"1112\",\"type\":\"LinearScale\"},{\"attributes\":{},\"id\":\"1121\",\"type\":\"BasicTicker\"},{\"attributes\":{},\"id\":\"1129\",\"type\":\"HelpTool\"},{\"attributes\":{\"end\":1.01},\"id\":\"1110\",\"type\":\"Range1d\"},{\"attributes\":{\"axis\":{\"id\":\"1116\"},\"coordinates\":null,\"group\":null,\"ticker\":null},\"id\":\"1119\",\"type\":\"Grid\"},{\"attributes\":{\"fill_alpha\":{\"value\":0.1},\"fill_color\":{\"field\":\"proportion_of_dialogue\",\"transform\":{\"id\":\"1140\"}},\"hatch_alpha\":{\"value\":0.1},\"hatch_color\":{\"field\":\"proportion_of_dialogue\",\"transform\":{\"id\":\"1140\"}},\"line_alpha\":{\"value\":0.1},\"size\":{\"value\":10},\"x\":{\"field\":\"release_year\",\"transform\":{\"id\":\"1141\"}},\"y\":{\"field\":\"proportion_of_dialogue\"}},\"id\":\"1144\",\"type\":\"Circle\"},{\"attributes\":{},\"id\":\"1124\",\"type\":\"PanTool\"},{\"attributes\":{},\"id\":\"1127\",\"type\":\"SaveTool\"},{\"attributes\":{\"fill_alpha\":{\"value\":0.2},\"fill_color\":{\"field\":\"proportion_of_dialogue\",\"transform\":{\"id\":\"1140\"}},\"hatch_alpha\":{\"value\":0.2},\"hatch_color\":{\"field\":\"proportion_of_dialogue\",\"transform\":{\"id\":\"1140\"}},\"line_alpha\":{\"value\":0.2},\"size\":{\"value\":10},\"x\":{\"field\":\"release_year\",\"transform\":{\"id\":\"1141\"}},\"y\":{\"field\":\"proportion_of_dialogue\"}},\"id\":\"1145\",\"type\":\"Circle\"},{\"attributes\":{},\"id\":\"1161\",\"type\":\"AllLabels\"},{\"attributes\":{\"axis_label\":\"Amount of Dialogue Spoken By Women\",\"coordinates\":null,\"formatter\":{\"id\":\"1148\"},\"group\":null,\"major_label_policy\":{\"id\":\"1161\"},\"ticker\":{\"id\":\"1121\"}},\"id\":\"1120\",\"type\":\"LinearAxis\"},{\"attributes\":{\"source\":{\"id\":\"1104\"}},\"id\":\"1147\",\"type\":\"CDSView\"},{\"attributes\":{\"axis_label\":\"Film Release Year\",\"coordinates\":null,\"formatter\":{\"id\":\"1163\"},\"group\":null,\"major_label_policy\":{\"id\":\"1164\"},\"ticker\":{\"id\":\"1117\"}},\"id\":\"1116\",\"type\":\"LinearAxis\"},{\"attributes\":{},\"id\":\"1125\",\"type\":\"WheelZoomTool\"},{\"attributes\":{\"coordinates\":null,\"data_source\":{\"id\":\"1104\"},\"glyph\":{\"id\":\"1143\"},\"group\":null,\"hover_glyph\":null,\"muted_glyph\":{\"id\":\"1145\"},\"nonselection_glyph\":{\"id\":\"1144\"},\"view\":{\"id\":\"1147\"}},\"id\":\"1146\",\"type\":\"GlyphRenderer\"},{\"attributes\":{},\"id\":\"1163\",\"type\":\"BasicTickFormatter\"}],\"root_ids\":[\"1105\"]},\"title\":\"Bokeh Application\",\"version\":\"2.4.3\"}};\n",
       "  const render_items = [{\"docid\":\"35901c94-dfac-492a-b427-97964ed96c99\",\"root_ids\":[\"1105\"],\"roots\":{\"1105\":\"cd1234c2-0c76-4d0a-b78e-1754f5d27c9d\"}}];\n",
       "  root.Bokeh.embed.embed_items_notebook(docs_json, render_items);\n",
       "  }\n",
       "  if (root.Bokeh !== undefined) {\n",
       "    embed_document(root);\n",
       "  } else {\n",
       "    let attempts = 0;\n",
       "    const timer = setInterval(function(root) {\n",
       "      if (root.Bokeh !== undefined) {\n",
       "        clearInterval(timer);\n",
       "        embed_document(root);\n",
       "      } else {\n",
       "        attempts++;\n",
       "        if (attempts > 100) {\n",
       "          clearInterval(timer);\n",
       "          console.log(\"Bokeh: ERROR: Unable to run BokehJS code because BokehJS library is missing\");\n",
       "        }\n",
       "      }\n",
       "    }, 10, root)\n",
       "  }\n",
       "})(window);"
      ],
      "application/vnd.bokehjs_exec.v0+json": ""
     },
     "metadata": {
      "application/vnd.bokehjs_exec.v0+json": {
       "id": "1105"
      }
     },
     "output_type": "display_data"
    }
   ],
   "source": [
    "#Make groupby into a new DataFrame\n",
    "dialogue_df = women_film_df.groupby(['title', 'release_year'])[['proportion_of_dialogue']].sum()\\\n",
    ".sort_values(by='proportion_of_dialogue', ascending=False).reset_index()\n",
    "\n",
    "# Set up the source data that will suppply the x,y columns and the film title hover text\n",
    "source = ColumnDataSource(dialogue_df)\n",
    "\n",
    "# Set the hover tool tip to the film title, release year, and proportion of dialogue\n",
    "\n",
    "TOOLTIPS = [(\"Title\", \"@title\"),\n",
    "            (\"Year\", \"@release_year\"),\n",
    "           (\"Women Dialogue\", \"@{proportion_of_dialogue}{%0.2f}\")]\n",
    "\n",
    "#Set up Bokeh plot with title, labels, \n",
    "bokeh_plot = figure(title=\"How Much Do Women Speak in Hollywood Films?\", x_axis_label = 'Film Release Year',\n",
    "                    y_axis_label = 'Amount of Dialogue Spoken By Women',x_range = [1930, 2018], y_range = [0, 1.01],\n",
    "                 tooltips=TOOLTIPS, width=800, height=550, active_scroll='wheel_zoom')\n",
    "\n",
    "# Create a red to blue color palette\n",
    "color_mapper = linear_cmap(field_name='proportion_of_dialogue', palette=RdBu[4], low=1.1, high=0)\n",
    "\n",
    "# Supply inidivudal points values\n",
    "bokeh_plot.circle(y='proportion_of_dialogue', x=jitter('release_year', width=.2),\n",
    "         size = 10,\n",
    "        line_color='black',\n",
    "        line_alpha=.4,\n",
    "         source=source,\n",
    "         color=color_mapper, alpha=.5)\n",
    "\n",
    "bokeh_plot.title.text_font_size='20pt'\n",
    "\n",
    "#Make Y axis percentages\n",
    "bokeh_plot.yaxis.formatter = NumeralTickFormatter(format='0 %')\n",
    "\n",
    "show(bokeh_plot)"
   ]
  }
 ],
 "metadata": {
  "kernelspec": {
   "display_name": "Python 3 (ipykernel)",
   "language": "python",
   "name": "python3"
  },
  "language_info": {
   "codemirror_mode": {
    "name": "ipython",
    "version": 3
   },
   "file_extension": ".py",
   "mimetype": "text/x-python",
   "name": "python",
   "nbconvert_exporter": "python",
   "pygments_lexer": "ipython3",
   "version": "3.8.18"
  },
  "toc": {
   "base_numbering": 1,
   "nav_menu": {},
   "number_sections": true,
   "sideBar": true,
   "skip_h1_title": false,
   "title_cell": "Table of Contents",
   "title_sidebar": "Contents",
   "toc_cell": false,
   "toc_position": {},
   "toc_section_display": true,
   "toc_window_display": false
  },
  "varInspector": {
   "cols": {
    "lenName": 16,
    "lenType": 16,
    "lenVar": 40
   },
   "kernels_config": {
    "python": {
     "delete_cmd_postfix": "",
     "delete_cmd_prefix": "del ",
     "library": "var_list.py",
     "varRefreshCmd": "print(var_dic_list())"
    },
    "r": {
     "delete_cmd_postfix": ") ",
     "delete_cmd_prefix": "rm(",
     "library": "var_list.r",
     "varRefreshCmd": "cat(var_dic_list()) "
    }
   },
   "types_to_exclude": [
    "module",
    "function",
    "builtin_function_or_method",
    "instance",
    "_Feature"
   ],
   "window_display": false
  }
 },
 "nbformat": 4,
 "nbformat_minor": 4
}
